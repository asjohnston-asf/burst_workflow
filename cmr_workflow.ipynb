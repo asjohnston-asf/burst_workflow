{
 "cells": [
  {
   "cell_type": "code",
   "execution_count": 1,
   "metadata": {
    "collapsed": true,
    "pycharm": {
     "name": "#%%\n"
    }
   },
   "outputs": [],
   "source": [
    "%load_ext autoreload\n",
    "%autoreload 2\n",
    "\n",
    "import bursts\n",
    "import requests\n",
    "import json\n",
    "import isce3\n",
    "import s1reader\n",
    "from datetime import datetime, timedelta\n",
    "from s1reader import Sentinel1BurstSlc\n",
    "import xml.etree.ElementTree as ET"
   ]
  },
  {
   "cell_type": "code",
   "execution_count": 2,
   "outputs": [],
   "source": [
    "cmr_url = 'https://cmr.uat.earthdata.nasa.gov/search/granules.umm_json?short_name=S1_SLC_BURSTS&granule_ur=S1_SLC_20211111T002555_VH_227663_IW3'"
   ],
   "metadata": {
    "collapsed": false,
    "pycharm": {
     "name": "#%%\n"
    }
   }
  },
  {
   "cell_type": "code",
   "execution_count": 20,
   "outputs": [],
   "source": [
    "burst_instance = bursts.cmr_to_opera_burst(cmr_url,remote=True)"
   ],
   "metadata": {
    "collapsed": false,
    "pycharm": {
     "name": "#%%\n"
    }
   }
  },
  {
   "cell_type": "code",
   "execution_count": 22,
   "outputs": [],
   "source": [
    "burst_instance.slc_to_file('cmr_data',fmt='GTiff')"
   ],
   "metadata": {
    "collapsed": false,
    "pycharm": {
     "name": "#%%\n"
    }
   }
  },
  {
   "cell_type": "code",
   "execution_count": 23,
   "outputs": [
    {
     "name": "stdout",
     "output_type": "stream",
     "text": [
      "Driver: GTiff/GeoTIFF\r\n",
      "Files: cmr_data/S1_SLC_20211111T002555_VH_227663_IW3.tiff\r\n",
      "Size is 23768, 1503\r\n",
      "Image Structure Metadata:\r\n",
      "  INTERLEAVE=BAND\r\n",
      "Corner Coordinates:\r\n",
      "Upper Left  (    0.0,    0.0)\r\n",
      "Lower Left  (    0.0, 1503.0)\r\n",
      "Upper Right (23768.0,    0.0)\r\n",
      "Lower Right (23768.0, 1503.0)\r\n",
      "Center      (11884.0,  751.5)\r\n",
      "Band 1 Block=23768x1 Type=CFloat32, ColorInterp=Gray\r\n"
     ]
    }
   ],
   "source": [
    "!gdalinfo cmr_data/S1_SLC_20211111T002555_VH_227663_IW3.tiff"
   ],
   "metadata": {
    "collapsed": false,
    "pycharm": {
     "name": "#%%\n"
    }
   }
  }
 ],
 "metadata": {
  "kernelspec": {
   "display_name": "Python 3",
   "language": "python",
   "name": "python3"
  },
  "language_info": {
   "codemirror_mode": {
    "name": "ipython",
    "version": 2
   },
   "file_extension": ".py",
   "mimetype": "text/x-python",
   "name": "python",
   "nbconvert_exporter": "python",
   "pygments_lexer": "ipython2",
   "version": "2.7.6"
  }
 },
 "nbformat": 4,
 "nbformat_minor": 0
}