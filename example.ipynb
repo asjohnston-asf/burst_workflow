{
 "cells": [
  {
   "cell_type": "markdown",
   "metadata": {
    "pycharm": {
     "name": "#%% md\n"
    }
   },
   "source": [
    "# A functional burst search and download service"
   ]
  },
  {
   "cell_type": "markdown",
   "metadata": {
    "pycharm": {
     "name": "#%% md\n"
    }
   },
   "source": [
    "## Setup"
   ]
  },
  {
   "cell_type": "code",
   "execution_count": 1,
   "metadata": {
    "collapsed": false,
    "jupyter": {
     "outputs_hidden": false
    },
    "pycharm": {
     "is_executing": true,
     "name": "#%%\n"
    }
   },
   "outputs": [],
   "source": [
    "%load_ext autoreload\n",
    "%autoreload 2\n",
    "\n",
    "import time\n",
    "from datetime import datetime\n",
    "\n",
    "import asf_search as asf\n",
    "import geopandas as gpd\n",
    "import numpy as np\n",
    "import pystac\n",
    "import xarray as xr\n",
    "from shapely import wkt\n",
    "\n",
    "import bursts"
   ]
  },
  {
   "cell_type": "code",
   "execution_count": 2,
   "metadata": {
    "collapsed": false,
    "jupyter": {
     "outputs_hidden": false
    },
    "pycharm": {
     "name": "#%%\n"
    }
   },
   "outputs": [],
   "source": [
    "def time_function_call(args,fun):\n",
    "    start = time.time()\n",
    "    result = fun(**args)\n",
    "    end = time.time()\n",
    "    time_s = end - start\n",
    "    return result, time_s"
   ]
  },
  {
   "cell_type": "code",
   "execution_count": 3,
   "metadata": {
    "collapsed": false,
    "jupyter": {
     "outputs_hidden": false
    },
    "pycharm": {
     "name": "#%%\n"
    }
   },
   "outputs": [],
   "source": [
    "safe_url = 'https://datapool.asf.alaska.edu/SLC/SA/S1A_IW_SLC__1SDV_20220716T115019_20220716T115049_044125_054459_71A9.zip'"
   ]
  },
  {
   "cell_type": "markdown",
   "metadata": {
    "pycharm": {
     "name": "#%% md\n"
    }
   },
   "source": [
    "## Demoing interior objects\n",
    "These objects will not likely not be accessed by users, but this function demonstrates how the metadata objects are created"
   ]
  },
  {
   "cell_type": "code",
   "execution_count": 4,
   "metadata": {
    "collapsed": false,
    "jupyter": {
     "outputs_hidden": false
    },
    "pycharm": {
     "name": "#%%\n"
    }
   },
   "outputs": [],
   "source": [
    "auth = bursts.get_netrc_auth()"
   ]
  },
  {
   "cell_type": "code",
   "execution_count": 5,
   "metadata": {
    "collapsed": false,
    "jupyter": {
     "outputs_hidden": false
    },
    "pycharm": {
     "name": "#%%\n"
    }
   },
   "outputs": [],
   "source": [
    "manifest, annotations = bursts.edl_download_metadata(safe_url, auth)"
   ]
  },
  {
   "cell_type": "code",
   "execution_count": 6,
   "metadata": {
    "collapsed": false,
    "jupyter": {
     "outputs_hidden": false
    },
    "pycharm": {
     "name": "#%%\n"
    }
   },
   "outputs": [],
   "source": [
    "slc = bursts.SLCMetadata(safe_url, manifest, annotations)"
   ]
  },
  {
   "cell_type": "code",
   "execution_count": 7,
   "metadata": {
    "collapsed": false,
    "jupyter": {
     "outputs_hidden": false
    },
    "pycharm": {
     "name": "#%%\n"
    }
   },
   "outputs": [],
   "source": [
    "swath = bursts.SwathMetadata(slc,'vv',swath_index=0)"
   ]
  },
  {
   "cell_type": "code",
   "execution_count": 8,
   "metadata": {
    "collapsed": false,
    "jupyter": {
     "outputs_hidden": false
    },
    "pycharm": {
     "name": "#%%\n"
    }
   },
   "outputs": [],
   "source": [
    "burst = bursts.BurstMetadata(swath,burst_index=0)"
   ]
  },
  {
   "cell_type": "code",
   "execution_count": 9,
   "metadata": {
    "collapsed": false,
    "jupyter": {
     "outputs_hidden": false
    },
    "pycharm": {
     "name": "#%%\n"
    }
   },
   "outputs": [
    {
     "data": {
      "text/plain": [
       "['https://schemas.stacspec.org/v1.0.0/item-spec/json-schema/item.json']"
      ]
     },
     "execution_count": 9,
     "metadata": {},
     "output_type": "execute_result"
    }
   ],
   "source": [
    "item = burst.to_stac_item()\n",
    "pystac.validation.validate(item)"
   ]
  },
  {
   "cell_type": "markdown",
   "metadata": {
    "pycharm": {
     "name": "#%% md\n"
    }
   },
   "source": [
    "## Creating burst metadata datasets\n",
    "Users have the option of creating either a geodatframe, or a STAC catalog. Burst data download is only enabled for the STAC catalog, but the geodataframe is great for in-notebook visualizations. Hopefully, users won't have to create these datasets themselves and will instead use an ASF-provided dataset."
   ]
  },
  {
   "cell_type": "code",
   "execution_count": 10,
   "metadata": {
    "collapsed": false,
    "jupyter": {
     "outputs_hidden": false
    },
    "pycharm": {
     "name": "#%%\n"
    }
   },
   "outputs": [
    {
     "data": {
      "text/plain": [
       "12"
      ]
     },
     "execution_count": 10,
     "metadata": {},
     "output_type": "execute_result"
    }
   ],
   "source": [
    "start = datetime.strptime('20210101','%Y%m%d')\n",
    "end = datetime.strptime('20210601','%Y%m%d')\n",
    "mt_edgecumbe = 'POLYGON ((-135.7849 57.0417,-135.7243 57.0417,-135.7243 57.0654,-135.7849 57.0654,-135.7849 57.0417))'\n",
    "insar_opts = dict(platform=[asf.PLATFORM.SENTINEL1], polarization=['VV','VV+VH','Dual VV'], beamMode='IW', processingLevel='SLC')\n",
    "results = asf.geo_search(flightDirection='DESCENDING', intersectsWith=mt_edgecumbe, start=start, end=end, **insar_opts)\n",
    "safe_urls = [x.properties['url'] for x in results]\n",
    "len(safe_urls)"
   ]
  },
  {
   "cell_type": "code",
   "execution_count": 11,
   "metadata": {
    "collapsed": false,
    "jupyter": {
     "outputs_hidden": false
    },
    "pycharm": {
     "name": "#%%\n"
    }
   },
   "outputs": [
    {
     "data": {
      "text/plain": [
       "['https://datapool.asf.alaska.edu/SLC/SB/S1B_IW_SLC__1SDV_20210531T151557_20210531T151624_027150_033E3D_FC40.zip',\n",
       " 'https://datapool.asf.alaska.edu/SLC/SB/S1B_IW_SLC__1SDV_20210519T151556_20210519T151623_026975_03390A_7ABB.zip',\n",
       " 'https://datapool.asf.alaska.edu/SLC/SB/S1B_IW_SLC__1SDV_20210507T151556_20210507T151623_026800_033399_E754.zip',\n",
       " 'https://datapool.asf.alaska.edu/SLC/SB/S1B_IW_SLC__1SDV_20210425T151555_20210425T151622_026625_032E01_6189.zip',\n",
       " 'https://datapool.asf.alaska.edu/SLC/SB/S1B_IW_SLC__1SDV_20210413T151555_20210413T151622_026450_032864_0494.zip',\n",
       " 'https://datapool.asf.alaska.edu/SLC/SB/S1B_IW_SLC__1SDV_20210401T151554_20210401T151621_026275_0322CB_67B9.zip',\n",
       " 'https://datapool.asf.alaska.edu/SLC/SB/S1B_IW_SLC__1SDV_20210320T151554_20210320T151621_026100_031D4B_3AB5.zip',\n",
       " 'https://datapool.asf.alaska.edu/SLC/SB/S1B_IW_SLC__1SDV_20210224T151554_20210224T151621_025750_0311EE_7026.zip',\n",
       " 'https://datapool.asf.alaska.edu/SLC/SB/S1B_IW_SLC__1SDV_20210212T151554_20210212T151621_025575_030C38_5BC5.zip',\n",
       " 'https://datapool.asf.alaska.edu/SLC/SB/S1B_IW_SLC__1SDV_20210131T151555_20210131T151621_025400_03067B_415D.zip',\n",
       " 'https://datapool.asf.alaska.edu/SLC/SB/S1B_IW_SLC__1SDV_20210119T151555_20210119T151622_025225_0300ED_6AAB.zip',\n",
       " 'https://datapool.asf.alaska.edu/SLC/SB/S1B_IW_SLC__1SDV_20210107T151555_20210107T151622_025050_02FB52_DB32.zip']"
      ]
     },
     "execution_count": 11,
     "metadata": {},
     "output_type": "execute_result"
    }
   ],
   "source": [
    "safe_urls"
   ]
  },
  {
   "cell_type": "code",
   "execution_count": 12,
   "metadata": {
    "collapsed": false,
    "jupyter": {
     "outputs_hidden": false
    },
    "pycharm": {
     "name": "#%%\n"
    }
   },
   "outputs": [
    {
     "data": {
      "application/vnd.jupyter.widget-view+json": {
       "model_id": "082c78a2f09b4e95b1cf44fb9253f9d2",
       "version_major": 2,
       "version_minor": 0
      },
      "text/plain": [
       "SUBMITTING | :   0%|          | 0/12 [00:00<?, ?it/s]"
      ]
     },
     "metadata": {},
     "output_type": "display_data"
    },
    {
     "data": {
      "application/vnd.jupyter.widget-view+json": {
       "model_id": "4495e31274694c84a23633f54ee49157",
       "version_major": 2,
       "version_minor": 0
      },
      "text/plain": [
       "PROCESSING | :   0%|          | 0/12 [00:00<?, ?it/s]"
      ]
     },
     "metadata": {},
     "output_type": "display_data"
    },
    {
     "data": {
      "application/vnd.jupyter.widget-view+json": {
       "model_id": "95441fc69cb84578b1d86598c5b93813",
       "version_major": 2,
       "version_minor": 0
      },
      "text/plain": [
       "COLLECTING | :   0%|          | 0/12 [00:00<?, ?it/s]"
      ]
     },
     "metadata": {},
     "output_type": "display_data"
    }
   ],
   "source": [
    "burst_list = bursts.get_burst_metadata(safe_urls, threads=10)"
   ]
  },
  {
   "cell_type": "code",
   "execution_count": 13,
   "metadata": {
    "collapsed": false,
    "jupyter": {
     "outputs_hidden": false
    },
    "pycharm": {
     "name": "#%%\n"
    }
   },
   "outputs": [
    {
     "name": "stdout",
     "output_type": "stream",
     "text": [
      "* <Catalog id=burst-catalog>\n",
      "    * <Collection id=372327_IW2>\n",
      "      * <Item id=S1_SLC_20210531T151618_VV_372327_IW2>\n",
      "      * <Item id=S1_SLC_20210519T151617_VV_372327_IW2>\n",
      "      * <Item id=S1_SLC_20210507T151616_VV_372327_IW2>\n",
      "      * <Item id=S1_SLC_20210425T151616_VV_372327_IW2>\n",
      "      * <Item id=S1_SLC_20210413T151615_VV_372327_IW2>\n",
      "      * <Item id=S1_SLC_20210401T151615_VV_372327_IW2>\n",
      "      * <Item id=S1_SLC_20210320T151614_VV_372327_IW2>\n",
      "      * <Item id=S1_SLC_20210224T151614_VV_372327_IW2>\n",
      "      * <Item id=S1_SLC_20210212T151615_VV_372327_IW2>\n",
      "      * <Item id=S1_SLC_20210131T151615_VV_372327_IW2>\n",
      "      * <Item id=S1_SLC_20210119T151615_VV_372327_IW2>\n",
      "      * <Item id=S1_SLC_20210107T151616_VV_372327_IW2>\n",
      "    * <Collection id=372328_IW1>\n",
      "      * <Item id=S1_SLC_20210531T151619_VV_372328_IW1>\n",
      "      * <Item id=S1_SLC_20210519T151619_VV_372328_IW1>\n",
      "      * <Item id=S1_SLC_20210507T151618_VV_372328_IW1>\n",
      "      * <Item id=S1_SLC_20210425T151618_VV_372328_IW1>\n",
      "      * <Item id=S1_SLC_20210413T151617_VV_372328_IW1>\n",
      "      * <Item id=S1_SLC_20210401T151616_VV_372328_IW1>\n",
      "      * <Item id=S1_SLC_20210320T151616_VV_372328_IW1>\n",
      "      * <Item id=S1_SLC_20210224T151616_VV_372328_IW1>\n",
      "      * <Item id=S1_SLC_20210212T151616_VV_372328_IW1>\n",
      "      * <Item id=S1_SLC_20210131T151617_VV_372328_IW1>\n",
      "      * <Item id=S1_SLC_20210119T151617_VV_372328_IW1>\n",
      "      * <Item id=S1_SLC_20210107T151618_VV_372328_IW1>\n",
      "    * <Collection id=372322_IW1>\n",
      "      * <Item id=S1_SLC_20210531T151603_VV_372322_IW1>\n",
      "      * <Item id=S1_SLC_20210519T151602_VV_372322_IW1>\n",
      "      * <Item id=S1_SLC_20210507T151602_VV_372322_IW1>\n",
      "      * <Item id=S1_SLC_20210425T151601_VV_372322_IW1>\n",
      "      * <Item id=S1_SLC_20210413T151600_VV_372322_IW1>\n",
      "      * <Item id=S1_SLC_20210401T151600_VV_372322_IW1>\n",
      "      * <Item id=S1_SLC_20210320T151600_VV_372322_IW1>\n",
      "      * <Item id=S1_SLC_20210224T151600_VV_372322_IW1>\n",
      "      * <Item id=S1_SLC_20210212T151600_VV_372322_IW1>\n",
      "      * <Item id=S1_SLC_20210131T151600_VV_372322_IW1>\n",
      "      * <Item id=S1_SLC_20210119T151601_VV_372322_IW1>\n",
      "      * <Item id=S1_SLC_20210107T151601_VV_372322_IW1>\n",
      "    * <Collection id=372323_IW1>\n",
      "      * <Item id=S1_SLC_20210531T151606_VV_372323_IW1>\n",
      "      * <Item id=S1_SLC_20210519T151605_VV_372323_IW1>\n",
      "      * <Item id=S1_SLC_20210507T151604_VV_372323_IW1>\n",
      "      * <Item id=S1_SLC_20210425T151604_VV_372323_IW1>\n",
      "      * <Item id=S1_SLC_20210413T151603_VV_372323_IW1>\n",
      "      * <Item id=S1_SLC_20210401T151603_VV_372323_IW1>\n",
      "      * <Item id=S1_SLC_20210320T151602_VV_372323_IW1>\n",
      "      * <Item id=S1_SLC_20210224T151602_VV_372323_IW1>\n",
      "      * <Item id=S1_SLC_20210212T151603_VV_372323_IW1>\n",
      "      * <Item id=S1_SLC_20210131T151603_VV_372323_IW1>\n",
      "      * <Item id=S1_SLC_20210119T151603_VV_372323_IW1>\n",
      "      * <Item id=S1_SLC_20210107T151604_VV_372323_IW1>\n",
      "    * <Collection id=372327_IW3>\n",
      "      * <Item id=S1_SLC_20210531T151616_VV_372327_IW3>\n",
      "      * <Item id=S1_SLC_20210519T151615_VV_372327_IW3>\n",
      "      * <Item id=S1_SLC_20210507T151614_VV_372327_IW3>\n",
      "      * <Item id=S1_SLC_20210425T151614_VV_372327_IW3>\n",
      "      * <Item id=S1_SLC_20210413T151613_VV_372327_IW3>\n",
      "      * <Item id=S1_SLC_20210401T151613_VV_372327_IW3>\n",
      "      * <Item id=S1_SLC_20210320T151613_VV_372327_IW3>\n",
      "      * <Item id=S1_SLC_20210224T151613_VV_372327_IW3>\n",
      "      * <Item id=S1_SLC_20210212T151613_VV_372327_IW3>\n",
      "      * <Item id=S1_SLC_20210131T151613_VV_372327_IW3>\n",
      "      * <Item id=S1_SLC_20210119T151614_VV_372327_IW3>\n",
      "      * <Item id=S1_SLC_20210107T151614_VV_372327_IW3>\n",
      "    * <Collection id=372323_IW3>\n",
      "      * <Item id=S1_SLC_20210531T151605_VV_372323_IW3>\n",
      "      * <Item id=S1_SLC_20210519T151604_VV_372323_IW3>\n",
      "      * <Item id=S1_SLC_20210507T151603_VV_372323_IW3>\n",
      "      * <Item id=S1_SLC_20210425T151603_VV_372323_IW3>\n",
      "      * <Item id=S1_SLC_20210413T151602_VV_372323_IW3>\n",
      "      * <Item id=S1_SLC_20210401T151602_VV_372323_IW3>\n",
      "      * <Item id=S1_SLC_20210320T151602_VV_372323_IW3>\n",
      "      * <Item id=S1_SLC_20210224T151602_VV_372323_IW3>\n",
      "      * <Item id=S1_SLC_20210212T151602_VV_372323_IW3>\n",
      "      * <Item id=S1_SLC_20210131T151602_VV_372323_IW3>\n",
      "      * <Item id=S1_SLC_20210119T151602_VV_372323_IW3>\n",
      "      * <Item id=S1_SLC_20210107T151603_VV_372323_IW3>\n",
      "    * <Collection id=372325_IW3>\n",
      "      * <Item id=S1_SLC_20210531T151610_VV_372325_IW3>\n",
      "      * <Item id=S1_SLC_20210519T151610_VV_372325_IW3>\n",
      "      * <Item id=S1_SLC_20210507T151609_VV_372325_IW3>\n",
      "      * <Item id=S1_SLC_20210425T151608_VV_372325_IW3>\n",
      "      * <Item id=S1_SLC_20210413T151608_VV_372325_IW3>\n",
      "      * <Item id=S1_SLC_20210401T151607_VV_372325_IW3>\n",
      "      * <Item id=S1_SLC_20210320T151607_VV_372325_IW3>\n",
      "      * <Item id=S1_SLC_20210224T151607_VV_372325_IW3>\n",
      "      * <Item id=S1_SLC_20210212T151607_VV_372325_IW3>\n",
      "      * <Item id=S1_SLC_20210131T151608_VV_372325_IW3>\n",
      "      * <Item id=S1_SLC_20210119T151608_VV_372325_IW3>\n",
      "      * <Item id=S1_SLC_20210107T151608_VV_372325_IW3>\n",
      "    * <Collection id=372329_IW3>\n",
      "      * <Item id=S1_SLC_20210531T151621_VV_372329_IW3>\n",
      "      * <Item id=S1_SLC_20210519T151621_VV_372329_IW3>\n",
      "      * <Item id=S1_SLC_20210507T151620_VV_372329_IW3>\n",
      "      * <Item id=S1_SLC_20210425T151619_VV_372329_IW3>\n",
      "      * <Item id=S1_SLC_20210413T151619_VV_372329_IW3>\n",
      "      * <Item id=S1_SLC_20210401T151618_VV_372329_IW3>\n",
      "      * <Item id=S1_SLC_20210320T151618_VV_372329_IW3>\n",
      "      * <Item id=S1_SLC_20210224T151618_VV_372329_IW3>\n",
      "      * <Item id=S1_SLC_20210212T151618_VV_372329_IW3>\n",
      "      * <Item id=S1_SLC_20210131T151619_VV_372329_IW3>\n",
      "      * <Item id=S1_SLC_20210119T151619_VV_372329_IW3>\n",
      "      * <Item id=S1_SLC_20210107T151620_VV_372329_IW3>\n",
      "    * <Collection id=372325_IW2>\n",
      "      * <Item id=S1_SLC_20210531T151612_VV_372325_IW2>\n",
      "      * <Item id=S1_SLC_20210519T151611_VV_372325_IW2>\n",
      "      * <Item id=S1_SLC_20210507T151611_VV_372325_IW2>\n",
      "      * <Item id=S1_SLC_20210425T151610_VV_372325_IW2>\n",
      "      * <Item id=S1_SLC_20210413T151609_VV_372325_IW2>\n",
      "      * <Item id=S1_SLC_20210401T151609_VV_372325_IW2>\n",
      "      * <Item id=S1_SLC_20210320T151609_VV_372325_IW2>\n",
      "      * <Item id=S1_SLC_20210224T151609_VV_372325_IW2>\n",
      "      * <Item id=S1_SLC_20210212T151609_VV_372325_IW2>\n",
      "      * <Item id=S1_SLC_20210131T151609_VV_372325_IW2>\n",
      "      * <Item id=S1_SLC_20210119T151610_VV_372325_IW2>\n",
      "      * <Item id=S1_SLC_20210107T151610_VV_372325_IW2>\n",
      "    * <Collection id=372324_IW3>\n",
      "      * <Item id=S1_SLC_20210531T151608_VV_372324_IW3>\n",
      "      * <Item id=S1_SLC_20210519T151607_VV_372324_IW3>\n",
      "      * <Item id=S1_SLC_20210507T151606_VV_372324_IW3>\n",
      "      * <Item id=S1_SLC_20210425T151606_VV_372324_IW3>\n",
      "      * <Item id=S1_SLC_20210413T151605_VV_372324_IW3>\n",
      "      * <Item id=S1_SLC_20210401T151605_VV_372324_IW3>\n",
      "      * <Item id=S1_SLC_20210320T151604_VV_372324_IW3>\n",
      "      * <Item id=S1_SLC_20210224T151604_VV_372324_IW3>\n",
      "      * <Item id=S1_SLC_20210212T151605_VV_372324_IW3>\n",
      "      * <Item id=S1_SLC_20210131T151605_VV_372324_IW3>\n",
      "      * <Item id=S1_SLC_20210119T151605_VV_372324_IW3>\n",
      "      * <Item id=S1_SLC_20210107T151606_VV_372324_IW3>\n",
      "    * <Collection id=372321_IW1>\n",
      "      * <Item id=S1_SLC_20210531T151600_VV_372321_IW1>\n",
      "      * <Item id=S1_SLC_20210519T151559_VV_372321_IW1>\n",
      "      * <Item id=S1_SLC_20210507T151559_VV_372321_IW1>\n",
      "      * <Item id=S1_SLC_20210425T151558_VV_372321_IW1>\n",
      "      * <Item id=S1_SLC_20210413T151558_VV_372321_IW1>\n",
      "      * <Item id=S1_SLC_20210401T151557_VV_372321_IW1>\n",
      "      * <Item id=S1_SLC_20210320T151557_VV_372321_IW1>\n",
      "      * <Item id=S1_SLC_20210224T151557_VV_372321_IW1>\n",
      "      * <Item id=S1_SLC_20210212T151557_VV_372321_IW1>\n",
      "      * <Item id=S1_SLC_20210131T151557_VV_372321_IW1>\n",
      "      * <Item id=S1_SLC_20210119T151558_VV_372321_IW1>\n",
      "      * <Item id=S1_SLC_20210107T151558_VV_372321_IW1>\n",
      "    * <Collection id=372320_IW2>\n",
      "      * <Item id=S1_SLC_20210531T151558_VV_372320_IW2>\n",
      "      * <Item id=S1_SLC_20210519T151557_VV_372320_IW2>\n",
      "      * <Item id=S1_SLC_20210507T151557_VV_372320_IW2>\n",
      "      * <Item id=S1_SLC_20210425T151556_VV_372320_IW2>\n",
      "      * <Item id=S1_SLC_20210413T151556_VV_372320_IW2>\n",
      "      * <Item id=S1_SLC_20210401T151555_VV_372320_IW2>\n",
      "      * <Item id=S1_SLC_20210320T151555_VV_372320_IW2>\n",
      "      * <Item id=S1_SLC_20210224T151555_VV_372320_IW2>\n",
      "      * <Item id=S1_SLC_20210212T151555_VV_372320_IW2>\n",
      "      * <Item id=S1_SLC_20210131T151556_VV_372320_IW2>\n",
      "      * <Item id=S1_SLC_20210119T151556_VV_372320_IW2>\n",
      "      * <Item id=S1_SLC_20210107T151556_VV_372320_IW2>\n",
      "    * <Collection id=372326_IW2>\n",
      "      * <Item id=S1_SLC_20210531T151615_VV_372326_IW2>\n",
      "      * <Item id=S1_SLC_20210519T151614_VV_372326_IW2>\n",
      "      * <Item id=S1_SLC_20210507T151613_VV_372326_IW2>\n",
      "      * <Item id=S1_SLC_20210425T151613_VV_372326_IW2>\n",
      "      * <Item id=S1_SLC_20210413T151612_VV_372326_IW2>\n",
      "      * <Item id=S1_SLC_20210401T151612_VV_372326_IW2>\n",
      "      * <Item id=S1_SLC_20210320T151612_VV_372326_IW2>\n",
      "      * <Item id=S1_SLC_20210224T151612_VV_372326_IW2>\n",
      "      * <Item id=S1_SLC_20210212T151612_VV_372326_IW2>\n",
      "      * <Item id=S1_SLC_20210131T151612_VV_372326_IW2>\n",
      "      * <Item id=S1_SLC_20210119T151612_VV_372326_IW2>\n",
      "      * <Item id=S1_SLC_20210107T151613_VV_372326_IW2>\n",
      "    * <Collection id=372321_IW3>\n",
      "      * <Item id=S1_SLC_20210531T151559_VV_372321_IW3>\n",
      "      * <Item id=S1_SLC_20210519T151559_VV_372321_IW3>\n",
      "      * <Item id=S1_SLC_20210507T151558_VV_372321_IW3>\n",
      "      * <Item id=S1_SLC_20210425T151557_VV_372321_IW3>\n",
      "      * <Item id=S1_SLC_20210413T151557_VV_372321_IW3>\n",
      "      * <Item id=S1_SLC_20210401T151556_VV_372321_IW3>\n",
      "      * <Item id=S1_SLC_20210320T151556_VV_372321_IW3>\n",
      "      * <Item id=S1_SLC_20210224T151556_VV_372321_IW3>\n",
      "      * <Item id=S1_SLC_20210212T151556_VV_372321_IW3>\n",
      "      * <Item id=S1_SLC_20210131T151557_VV_372321_IW3>\n",
      "      * <Item id=S1_SLC_20210119T151557_VV_372321_IW3>\n",
      "      * <Item id=S1_SLC_20210107T151557_VV_372321_IW3>\n",
      "    * <Collection id=372322_IW3>\n",
      "      * <Item id=S1_SLC_20210531T151602_VV_372322_IW3>\n",
      "      * <Item id=S1_SLC_20210519T151601_VV_372322_IW3>\n",
      "      * <Item id=S1_SLC_20210507T151601_VV_372322_IW3>\n",
      "      * <Item id=S1_SLC_20210425T151600_VV_372322_IW3>\n",
      "      * <Item id=S1_SLC_20210413T151559_VV_372322_IW3>\n",
      "      * <Item id=S1_SLC_20210401T151559_VV_372322_IW3>\n",
      "      * <Item id=S1_SLC_20210320T151559_VV_372322_IW3>\n",
      "      * <Item id=S1_SLC_20210224T151559_VV_372322_IW3>\n",
      "      * <Item id=S1_SLC_20210212T151559_VV_372322_IW3>\n",
      "      * <Item id=S1_SLC_20210131T151559_VV_372322_IW3>\n",
      "      * <Item id=S1_SLC_20210119T151600_VV_372322_IW3>\n",
      "      * <Item id=S1_SLC_20210107T151600_VV_372322_IW3>\n",
      "    * <Collection id=372324_IW1>\n",
      "      * <Item id=S1_SLC_20210531T151608_VV_372324_IW1>\n",
      "      * <Item id=S1_SLC_20210519T151608_VV_372324_IW1>\n",
      "      * <Item id=S1_SLC_20210507T151607_VV_372324_IW1>\n",
      "      * <Item id=S1_SLC_20210425T151607_VV_372324_IW1>\n",
      "      * <Item id=S1_SLC_20210413T151606_VV_372324_IW1>\n",
      "      * <Item id=S1_SLC_20210401T151605_VV_372324_IW1>\n",
      "      * <Item id=S1_SLC_20210320T151605_VV_372324_IW1>\n",
      "      * <Item id=S1_SLC_20210224T151605_VV_372324_IW1>\n",
      "      * <Item id=S1_SLC_20210212T151605_VV_372324_IW1>\n",
      "      * <Item id=S1_SLC_20210131T151606_VV_372324_IW1>\n",
      "      * <Item id=S1_SLC_20210119T151606_VV_372324_IW1>\n",
      "      * <Item id=S1_SLC_20210107T151607_VV_372324_IW1>\n",
      "    * <Collection id=372324_IW2>\n",
      "      * <Item id=S1_SLC_20210531T151609_VV_372324_IW2>\n",
      "      * <Item id=S1_SLC_20210519T151608_VV_372324_IW2>\n",
      "      * <Item id=S1_SLC_20210507T151608_VV_372324_IW2>\n",
      "      * <Item id=S1_SLC_20210425T151607_VV_372324_IW2>\n",
      "      * <Item id=S1_SLC_20210413T151607_VV_372324_IW2>\n",
      "      * <Item id=S1_SLC_20210401T151606_VV_372324_IW2>\n",
      "      * <Item id=S1_SLC_20210320T151606_VV_372324_IW2>\n",
      "      * <Item id=S1_SLC_20210224T151606_VV_372324_IW2>\n",
      "      * <Item id=S1_SLC_20210212T151606_VV_372324_IW2>\n",
      "      * <Item id=S1_SLC_20210131T151607_VV_372324_IW2>\n",
      "      * <Item id=S1_SLC_20210119T151607_VV_372324_IW2>\n",
      "      * <Item id=S1_SLC_20210107T151607_VV_372324_IW2>\n",
      "    * <Collection id=372328_IW2>\n",
      "      * <Item id=S1_SLC_20210531T151620_VV_372328_IW2>\n",
      "      * <Item id=S1_SLC_20210519T151620_VV_372328_IW2>\n",
      "      * <Item id=S1_SLC_20210507T151619_VV_372328_IW2>\n",
      "      * <Item id=S1_SLC_20210425T151618_VV_372328_IW2>\n",
      "      * <Item id=S1_SLC_20210413T151618_VV_372328_IW2>\n",
      "      * <Item id=S1_SLC_20210401T151617_VV_372328_IW2>\n",
      "      * <Item id=S1_SLC_20210320T151617_VV_372328_IW2>\n",
      "      * <Item id=S1_SLC_20210224T151617_VV_372328_IW2>\n",
      "      * <Item id=S1_SLC_20210212T151617_VV_372328_IW2>\n",
      "      * <Item id=S1_SLC_20210131T151618_VV_372328_IW2>\n",
      "      * <Item id=S1_SLC_20210119T151618_VV_372328_IW2>\n",
      "      * <Item id=S1_SLC_20210107T151618_VV_372328_IW2>\n",
      "    * <Collection id=372326_IW3>\n",
      "      * <Item id=S1_SLC_20210531T151613_VV_372326_IW3>\n",
      "      * <Item id=S1_SLC_20210519T151612_VV_372326_IW3>\n",
      "      * <Item id=S1_SLC_20210507T151612_VV_372326_IW3>\n",
      "      * <Item id=S1_SLC_20210425T151611_VV_372326_IW3>\n",
      "      * <Item id=S1_SLC_20210413T151611_VV_372326_IW3>\n",
      "      * <Item id=S1_SLC_20210401T151610_VV_372326_IW3>\n",
      "      * <Item id=S1_SLC_20210320T151610_VV_372326_IW3>\n",
      "      * <Item id=S1_SLC_20210224T151610_VV_372326_IW3>\n",
      "      * <Item id=S1_SLC_20210212T151610_VV_372326_IW3>\n",
      "      * <Item id=S1_SLC_20210131T151610_VV_372326_IW3>\n",
      "      * <Item id=S1_SLC_20210119T151611_VV_372326_IW3>\n",
      "      * <Item id=S1_SLC_20210107T151611_VV_372326_IW3>\n",
      "    * <Collection id=372323_IW2>\n",
      "      * <Item id=S1_SLC_20210531T151606_VV_372323_IW2>\n",
      "      * <Item id=S1_SLC_20210519T151606_VV_372323_IW2>\n",
      "      * <Item id=S1_SLC_20210507T151605_VV_372323_IW2>\n",
      "      * <Item id=S1_SLC_20210425T151605_VV_372323_IW2>\n",
      "      * <Item id=S1_SLC_20210413T151604_VV_372323_IW2>\n",
      "      * <Item id=S1_SLC_20210401T151603_VV_372323_IW2>\n",
      "      * <Item id=S1_SLC_20210320T151603_VV_372323_IW2>\n",
      "      * <Item id=S1_SLC_20210224T151603_VV_372323_IW2>\n",
      "      * <Item id=S1_SLC_20210212T151603_VV_372323_IW2>\n",
      "      * <Item id=S1_SLC_20210131T151604_VV_372323_IW2>\n",
      "      * <Item id=S1_SLC_20210119T151604_VV_372323_IW2>\n",
      "      * <Item id=S1_SLC_20210107T151605_VV_372323_IW2>\n",
      "    * <Collection id=372321_IW2>\n",
      "      * <Item id=S1_SLC_20210531T151601_VV_372321_IW2>\n",
      "      * <Item id=S1_SLC_20210519T151600_VV_372321_IW2>\n",
      "      * <Item id=S1_SLC_20210507T151600_VV_372321_IW2>\n",
      "      * <Item id=S1_SLC_20210425T151559_VV_372321_IW2>\n",
      "      * <Item id=S1_SLC_20210413T151558_VV_372321_IW2>\n",
      "      * <Item id=S1_SLC_20210401T151558_VV_372321_IW2>\n",
      "      * <Item id=S1_SLC_20210320T151558_VV_372321_IW2>\n",
      "      * <Item id=S1_SLC_20210224T151558_VV_372321_IW2>\n",
      "      * <Item id=S1_SLC_20210212T151558_VV_372321_IW2>\n",
      "      * <Item id=S1_SLC_20210131T151558_VV_372321_IW2>\n",
      "      * <Item id=S1_SLC_20210119T151559_VV_372321_IW2>\n",
      "      * <Item id=S1_SLC_20210107T151559_VV_372321_IW2>\n",
      "    * <Collection id=372326_IW1>\n",
      "      * <Item id=S1_SLC_20210531T151614_VV_372326_IW1>\n",
      "      * <Item id=S1_SLC_20210519T151613_VV_372326_IW1>\n",
      "      * <Item id=S1_SLC_20210507T151613_VV_372326_IW1>\n",
      "      * <Item id=S1_SLC_20210425T151612_VV_372326_IW1>\n",
      "      * <Item id=S1_SLC_20210413T151611_VV_372326_IW1>\n",
      "      * <Item id=S1_SLC_20210401T151611_VV_372326_IW1>\n",
      "      * <Item id=S1_SLC_20210320T151611_VV_372326_IW1>\n",
      "      * <Item id=S1_SLC_20210224T151611_VV_372326_IW1>\n",
      "      * <Item id=S1_SLC_20210212T151611_VV_372326_IW1>\n",
      "      * <Item id=S1_SLC_20210131T151611_VV_372326_IW1>\n",
      "      * <Item id=S1_SLC_20210119T151612_VV_372326_IW1>\n",
      "      * <Item id=S1_SLC_20210107T151612_VV_372326_IW1>\n",
      "    * <Collection id=372329_IW1>\n",
      "      * <Item id=S1_SLC_20210531T151622_VV_372329_IW1>\n",
      "      * <Item id=S1_SLC_20210519T151621_VV_372329_IW1>\n",
      "      * <Item id=S1_SLC_20210507T151621_VV_372329_IW1>\n",
      "      * <Item id=S1_SLC_20210425T151620_VV_372329_IW1>\n",
      "      * <Item id=S1_SLC_20210413T151620_VV_372329_IW1>\n",
      "      * <Item id=S1_SLC_20210401T151619_VV_372329_IW1>\n",
      "      * <Item id=S1_SLC_20210320T151619_VV_372329_IW1>\n",
      "      * <Item id=S1_SLC_20210224T151619_VV_372329_IW1>\n",
      "      * <Item id=S1_SLC_20210212T151619_VV_372329_IW1>\n",
      "      * <Item id=S1_SLC_20210131T151620_VV_372329_IW1>\n",
      "      * <Item id=S1_SLC_20210119T151620_VV_372329_IW1>\n",
      "      * <Item id=S1_SLC_20210107T151620_VV_372329_IW1>\n",
      "    * <Collection id=372322_IW2>\n",
      "      * <Item id=S1_SLC_20210531T151604_VV_372322_IW2>\n",
      "      * <Item id=S1_SLC_20210519T151603_VV_372322_IW2>\n",
      "      * <Item id=S1_SLC_20210507T151602_VV_372322_IW2>\n",
      "      * <Item id=S1_SLC_20210425T151602_VV_372322_IW2>\n",
      "      * <Item id=S1_SLC_20210413T151601_VV_372322_IW2>\n",
      "      * <Item id=S1_SLC_20210401T151601_VV_372322_IW2>\n",
      "      * <Item id=S1_SLC_20210320T151601_VV_372322_IW2>\n",
      "      * <Item id=S1_SLC_20210224T151600_VV_372322_IW2>\n",
      "      * <Item id=S1_SLC_20210212T151601_VV_372322_IW2>\n",
      "      * <Item id=S1_SLC_20210131T151601_VV_372322_IW2>\n",
      "      * <Item id=S1_SLC_20210119T151601_VV_372322_IW2>\n",
      "      * <Item id=S1_SLC_20210107T151602_VV_372322_IW2>\n",
      "    * <Collection id=372325_IW1>\n",
      "      * <Item id=S1_SLC_20210531T151611_VV_372325_IW1>\n",
      "      * <Item id=S1_SLC_20210519T151610_VV_372325_IW1>\n",
      "      * <Item id=S1_SLC_20210507T151610_VV_372325_IW1>\n",
      "      * <Item id=S1_SLC_20210425T151609_VV_372325_IW1>\n",
      "      * <Item id=S1_SLC_20210413T151609_VV_372325_IW1>\n",
      "      * <Item id=S1_SLC_20210401T151608_VV_372325_IW1>\n",
      "      * <Item id=S1_SLC_20210320T151608_VV_372325_IW1>\n",
      "      * <Item id=S1_SLC_20210224T151608_VV_372325_IW1>\n",
      "      * <Item id=S1_SLC_20210212T151608_VV_372325_IW1>\n",
      "      * <Item id=S1_SLC_20210131T151608_VV_372325_IW1>\n",
      "      * <Item id=S1_SLC_20210119T151609_VV_372325_IW1>\n",
      "      * <Item id=S1_SLC_20210107T151609_VV_372325_IW1>\n",
      "    * <Collection id=372327_IW1>\n",
      "      * <Item id=S1_SLC_20210531T151617_VV_372327_IW1>\n",
      "      * <Item id=S1_SLC_20210519T151616_VV_372327_IW1>\n",
      "      * <Item id=S1_SLC_20210507T151615_VV_372327_IW1>\n",
      "      * <Item id=S1_SLC_20210425T151615_VV_372327_IW1>\n",
      "      * <Item id=S1_SLC_20210413T151614_VV_372327_IW1>\n",
      "      * <Item id=S1_SLC_20210401T151614_VV_372327_IW1>\n",
      "      * <Item id=S1_SLC_20210320T151613_VV_372327_IW1>\n",
      "      * <Item id=S1_SLC_20210224T151613_VV_372327_IW1>\n",
      "      * <Item id=S1_SLC_20210212T151614_VV_372327_IW1>\n",
      "      * <Item id=S1_SLC_20210131T151614_VV_372327_IW1>\n",
      "      * <Item id=S1_SLC_20210119T151614_VV_372327_IW1>\n",
      "      * <Item id=S1_SLC_20210107T151615_VV_372327_IW1>\n",
      "    * <Collection id=372328_IW3>\n",
      "      * <Item id=S1_SLC_20210531T151619_VV_372328_IW3>\n",
      "      * <Item id=S1_SLC_20210519T151618_VV_372328_IW3>\n",
      "      * <Item id=S1_SLC_20210507T151617_VV_372328_IW3>\n",
      "      * <Item id=S1_SLC_20210425T151617_VV_372328_IW3>\n",
      "      * <Item id=S1_SLC_20210413T151616_VV_372328_IW3>\n",
      "      * <Item id=S1_SLC_20210401T151616_VV_372328_IW3>\n",
      "      * <Item id=S1_SLC_20210320T151615_VV_372328_IW3>\n",
      "      * <Item id=S1_SLC_20210224T151615_VV_372328_IW3>\n",
      "      * <Item id=S1_SLC_20210212T151616_VV_372328_IW3>\n",
      "      * <Item id=S1_SLC_20210131T151616_VV_372328_IW3>\n",
      "      * <Item id=S1_SLC_20210119T151616_VV_372328_IW3>\n",
      "      * <Item id=S1_SLC_20210107T151617_VV_372328_IW3>\n"
     ]
    }
   ],
   "source": [
    "stac = bursts.generate_burst_stac_catalog(burst_list)\n",
    "stac.describe()"
   ]
  },
  {
   "cell_type": "markdown",
   "metadata": {
    "pycharm": {
     "name": "#%% md\n"
    }
   },
   "source": [
    "## Explore with Geopandas"
   ]
  },
  {
   "cell_type": "code",
   "execution_count": 14,
   "metadata": {
    "collapsed": false,
    "jupyter": {
     "outputs_hidden": false
    },
    "pycharm": {
     "name": "#%%\n"
    }
   },
   "outputs": [],
   "source": [
    "items = [x.to_dict() for x in stac.get_all_items()]\n",
    "df = gpd.GeoDataFrame.from_features(items, crs=\"epsg:4326\")\n",
    "df.index = [x['id'] for x in items]"
   ]
  },
  {
   "cell_type": "code",
   "execution_count": 15,
   "metadata": {
    "collapsed": false,
    "jupyter": {
     "outputs_hidden": false
    },
    "pycharm": {
     "name": "#%%\n"
    }
   },
   "outputs": [
    {
     "name": "stdout",
     "output_type": "stream",
     "text": [
      "Located 12 bursts that meet criteria\n"
     ]
    }
   ],
   "source": [
    "in_aoi = df.intersects(wkt.loads(mt_edgecumbe))\n",
    "aoi = df.loc[in_aoi].copy()\n",
    "print(f'Located {aoi.shape[0]} bursts that meet criteria')"
   ]
  },
  {
   "cell_type": "code",
   "execution_count": 16,
   "metadata": {
    "collapsed": false,
    "jupyter": {
     "outputs_hidden": false
    },
    "pycharm": {
     "name": "#%%\n"
    }
   },
   "outputs": [
    {
     "data": {
      "text/html": [
       "<div style=\"width:100%;\"><div style=\"position:relative;width:100%;height:0;padding-bottom:60%;\"><span style=\"color:#565656\">Make this Notebook Trusted to load map: File -> Trust Notebook</span><iframe srcdoc=\"&lt;!DOCTYPE html&gt;\n",
       "&lt;head&gt;    \n",
       "    &lt;meta http-equiv=&quot;content-type&quot; content=&quot;text/html; charset=UTF-8&quot; /&gt;\n",
       "    \n",
       "        &lt;script&gt;\n",
       "            L_NO_TOUCH = false;\n",
       "            L_DISABLE_3D = false;\n",
       "        &lt;/script&gt;\n",
       "    \n",
       "    &lt;style&gt;html, body {width: 100%;height: 100%;margin: 0;padding: 0;}&lt;/style&gt;\n",
       "    &lt;style&gt;#map {position:absolute;top:0;bottom:0;right:0;left:0;}&lt;/style&gt;\n",
       "    &lt;script src=&quot;https://cdn.jsdelivr.net/npm/leaflet@1.6.0/dist/leaflet.js&quot;&gt;&lt;/script&gt;\n",
       "    &lt;script src=&quot;https://code.jquery.com/jquery-1.12.4.min.js&quot;&gt;&lt;/script&gt;\n",
       "    &lt;script src=&quot;https://maxcdn.bootstrapcdn.com/bootstrap/3.2.0/js/bootstrap.min.js&quot;&gt;&lt;/script&gt;\n",
       "    &lt;script src=&quot;https://cdnjs.cloudflare.com/ajax/libs/Leaflet.awesome-markers/2.0.2/leaflet.awesome-markers.js&quot;&gt;&lt;/script&gt;\n",
       "    &lt;link rel=&quot;stylesheet&quot; href=&quot;https://cdn.jsdelivr.net/npm/leaflet@1.6.0/dist/leaflet.css&quot;/&gt;\n",
       "    &lt;link rel=&quot;stylesheet&quot; href=&quot;https://maxcdn.bootstrapcdn.com/bootstrap/3.2.0/css/bootstrap.min.css&quot;/&gt;\n",
       "    &lt;link rel=&quot;stylesheet&quot; href=&quot;https://maxcdn.bootstrapcdn.com/bootstrap/3.2.0/css/bootstrap-theme.min.css&quot;/&gt;\n",
       "    &lt;link rel=&quot;stylesheet&quot; href=&quot;https://maxcdn.bootstrapcdn.com/font-awesome/4.6.3/css/font-awesome.min.css&quot;/&gt;\n",
       "    &lt;link rel=&quot;stylesheet&quot; href=&quot;https://cdnjs.cloudflare.com/ajax/libs/Leaflet.awesome-markers/2.0.2/leaflet.awesome-markers.css&quot;/&gt;\n",
       "    &lt;link rel=&quot;stylesheet&quot; href=&quot;https://cdn.jsdelivr.net/gh/python-visualization/folium/folium/templates/leaflet.awesome.rotate.min.css&quot;/&gt;\n",
       "    \n",
       "            &lt;meta name=&quot;viewport&quot; content=&quot;width=device-width,\n",
       "                initial-scale=1.0, maximum-scale=1.0, user-scalable=no&quot; /&gt;\n",
       "            &lt;style&gt;\n",
       "                #map_5944b186f5b451c9b11a86e6ef7114da {\n",
       "                    position: relative;\n",
       "                    width: 100.0%;\n",
       "                    height: 100.0%;\n",
       "                    left: 0.0%;\n",
       "                    top: 0.0%;\n",
       "                }\n",
       "            &lt;/style&gt;\n",
       "        \n",
       "    \n",
       "                    &lt;style&gt;\n",
       "                        .foliumtooltip {\n",
       "                            \n",
       "                        }\n",
       "                       .foliumtooltip table{\n",
       "                            margin: auto;\n",
       "                        }\n",
       "                        .foliumtooltip tr{\n",
       "                            text-align: left;\n",
       "                        }\n",
       "                        .foliumtooltip th{\n",
       "                            padding: 2px; padding-right: 8px;\n",
       "                        }\n",
       "                    &lt;/style&gt;\n",
       "            \n",
       "&lt;/head&gt;\n",
       "&lt;body&gt;    \n",
       "    \n",
       "            &lt;div class=&quot;folium-map&quot; id=&quot;map_5944b186f5b451c9b11a86e6ef7114da&quot; &gt;&lt;/div&gt;\n",
       "        \n",
       "&lt;/body&gt;\n",
       "&lt;script&gt;    \n",
       "    \n",
       "            var map_5944b186f5b451c9b11a86e6ef7114da = L.map(\n",
       "                &quot;map_5944b186f5b451c9b11a86e6ef7114da&quot;,\n",
       "                {\n",
       "                    center: [57.05560118494657, -135.91419957049192],\n",
       "                    crs: L.CRS.EPSG3857,\n",
       "                    zoom: 10,\n",
       "                    zoomControl: true,\n",
       "                    preferCanvas: false,\n",
       "                }\n",
       "            );\n",
       "            L.control.scale().addTo(map_5944b186f5b451c9b11a86e6ef7114da);\n",
       "\n",
       "            \n",
       "\n",
       "        \n",
       "    \n",
       "            var tile_layer_7151098511035502b26d53b55d62db2a = L.tileLayer(\n",
       "                &quot;https://{s}.tile.openstreetmap.org/{z}/{x}/{y}.png&quot;,\n",
       "                {&quot;attribution&quot;: &quot;Data by \\u0026copy; \\u003ca href=\\&quot;http://openstreetmap.org\\&quot;\\u003eOpenStreetMap\\u003c/a\\u003e, under \\u003ca href=\\&quot;http://www.openstreetmap.org/copyright\\&quot;\\u003eODbL\\u003c/a\\u003e.&quot;, &quot;detectRetina&quot;: false, &quot;maxNativeZoom&quot;: 18, &quot;maxZoom&quot;: 18, &quot;minZoom&quot;: 0, &quot;noWrap&quot;: false, &quot;opacity&quot;: 1, &quot;subdomains&quot;: &quot;abc&quot;, &quot;tms&quot;: false}\n",
       "            ).addTo(map_5944b186f5b451c9b11a86e6ef7114da);\n",
       "        \n",
       "    \n",
       "            map_5944b186f5b451c9b11a86e6ef7114da.fitBounds(\n",
       "                [[56.9139185025483, -136.6007501695645], [57.19728386734484, -135.2276489714193]],\n",
       "                {}\n",
       "            );\n",
       "        \n",
       "    \n",
       "        function geo_json_de4673a298e3d16f1bb850edf7a2a091_styler(feature) {\n",
       "            switch(feature.id) {\n",
       "                default:\n",
       "                    return {&quot;fill&quot;: null, &quot;fillOpacity&quot;: 0.5, &quot;weight&quot;: 2};\n",
       "            }\n",
       "        }\n",
       "        function geo_json_de4673a298e3d16f1bb850edf7a2a091_highlighter(feature) {\n",
       "            switch(feature.id) {\n",
       "                default:\n",
       "                    return {&quot;fillOpacity&quot;: 0.75};\n",
       "            }\n",
       "        }\n",
       "        function geo_json_de4673a298e3d16f1bb850edf7a2a091_pointToLayer(feature, latlng) {\n",
       "            var opts = {&quot;bubblingMouseEvents&quot;: true, &quot;color&quot;: &quot;#3388ff&quot;, &quot;dashArray&quot;: null, &quot;dashOffset&quot;: null, &quot;fill&quot;: true, &quot;fillColor&quot;: &quot;#3388ff&quot;, &quot;fillOpacity&quot;: 0.2, &quot;fillRule&quot;: &quot;evenodd&quot;, &quot;lineCap&quot;: &quot;round&quot;, &quot;lineJoin&quot;: &quot;round&quot;, &quot;opacity&quot;: 1.0, &quot;radius&quot;: 2, &quot;stroke&quot;: true, &quot;weight&quot;: 3};\n",
       "            \n",
       "            let style = geo_json_de4673a298e3d16f1bb850edf7a2a091_styler(feature)\n",
       "            Object.assign(opts, style)\n",
       "            \n",
       "            return new L.CircleMarker(latlng, opts)\n",
       "        }\n",
       "\n",
       "        function geo_json_de4673a298e3d16f1bb850edf7a2a091_onEachFeature(feature, layer) {\n",
       "            layer.on({\n",
       "                mouseout: function(e) {\n",
       "                    if(typeof e.target.setStyle === &quot;function&quot;){\n",
       "                        geo_json_de4673a298e3d16f1bb850edf7a2a091.resetStyle(e.target);\n",
       "                    }\n",
       "                },\n",
       "                mouseover: function(e) {\n",
       "                    if(typeof e.target.setStyle === &quot;function&quot;){\n",
       "                        const highlightStyle = geo_json_de4673a298e3d16f1bb850edf7a2a091_highlighter(e.target.feature)\n",
       "                        e.target.setStyle(highlightStyle);\n",
       "                    }\n",
       "                },\n",
       "            });\n",
       "        };\n",
       "        var geo_json_de4673a298e3d16f1bb850edf7a2a091 = L.geoJson(null, {\n",
       "                onEachFeature: geo_json_de4673a298e3d16f1bb850edf7a2a091_onEachFeature,\n",
       "            \n",
       "                style: geo_json_de4673a298e3d16f1bb850edf7a2a091_styler,\n",
       "                pointToLayer: geo_json_de4673a298e3d16f1bb850edf7a2a091_pointToLayer\n",
       "        });\n",
       "\n",
       "        function geo_json_de4673a298e3d16f1bb850edf7a2a091_add (data) {\n",
       "            geo_json_de4673a298e3d16f1bb850edf7a2a091\n",
       "                .addData(data)\n",
       "                .addTo(map_5944b186f5b451c9b11a86e6ef7114da);\n",
       "        }\n",
       "            geo_json_de4673a298e3d16f1bb850edf7a2a091_add({&quot;bbox&quot;: [-136.6007501695645, 56.9139185025483, -135.2276489714193, 57.19728386734484], &quot;features&quot;: [{&quot;bbox&quot;: [-136.5986626771942, 56.91532610583602, -135.2300854505111, 57.19684206887406], &quot;geometry&quot;: {&quot;coordinates&quot;: [[[-135.2300854505111, 57.08135882554494], [-135.2854183124689, 57.08649765439627], [-135.3544898421533, 57.0928601216634], [-135.4232658681429, 57.0991554406969], [-135.4917532600278, 57.10538472492504], [-135.5599585983871, 57.11154921158411], [-135.6278883067093, 57.11764987434428], [-135.6955485212166, 57.12368788001132], [-135.7629452277851, 57.12966417746888], [-135.8300842102836, 57.13557969623226], [-135.896971014582, 57.14143549804339], [-135.96361107404, 57.14723238894812], [-136.0300095808623, 57.15297137562401], [-136.0961716346723, 57.15865319285574], [-136.1621021008358, 57.16427880664765], [-136.2278057527198, 57.16984895563499], [-136.293287212604, 57.17536437261307], [-136.3585509161366, 57.18082593098888], [-136.4236012302657, 57.18623425634333], [-136.4884423278602, 57.19159018241652], [-136.5524393445338, 57.19684206887406], [-136.5986626771942, 57.0320083096463], [-136.5349521352389, 57.02675875601167], [-136.4704012109766, 57.02140541882099], [-136.4056419292281, 57.01599990446727], [-136.3406701331868, 57.01054138637078], [-136.2754814917749, 57.00502918052037], [-136.2100715350942, 56.99946259911425], [-136.144435713057, 56.99384072910374], [-136.07856925615, 56.98816289096906], [-136.01246731532, 56.98242813567227], [-135.9461248166169, 56.97663571736248], [-135.879536588363, 56.97078463714469], [-135.812697238589, 56.96487403120591], [-135.7456011912436, 56.95890301936708], [-135.6782427378687, 56.95287050667731], [-135.610615903986, 56.94677559472323], [-135.5427145780833, 56.94061712506398], [-135.4745323830709, 56.93439406688524], [-135.4060627097403, 56.92810536981436], [-135.3372987747399, 56.92174974162116], [-135.268233465488, 56.91532610583602], [-135.2300854505111, 57.08135882554494]]], &quot;type&quot;: &quot;Polygon&quot;}, &quot;id&quot;: &quot;S1_SLC_20210531T151613_VV_372326_IW3&quot;, &quot;properties&quot;: {&quot;datetime&quot;: &quot;2021-05-31T15:16:13Z&quot;, &quot;stack_id&quot;: &quot;372326_IW3&quot;}, &quot;type&quot;: &quot;Feature&quot;}, {&quot;bbox&quot;: [-136.5990746463213, 56.91487228873189, -135.2305111210019, 57.19650600729599], &quot;geometry&quot;: {&quot;coordinates&quot;: [[[-135.2305111210019, 57.08102829388952], [-135.2858420978813, 57.08616690045974], [-135.3549108745041, 57.09252903370161], [-135.4236842097901, 57.09882397000813], [-135.4921689191943, 57.10505299139574], [-135.5603716331318, 57.11121717073046], [-135.628298760539, 57.11731752366824], [-135.6959564320297, 57.12335523087526], [-135.7633506521685, 57.1293311753664], [-135.8304871482867, 57.13524646939622], [-135.897371520516, 57.14110199159133], [-135.9640091826916, 57.14689860879811], [-136.0304053259973, 57.15263732752578], [-136.0965650490771, 57.15831888239669], [-136.1624932163578, 57.16394423926054], [-136.2281946166302, 57.1695140803064], [-136.2936738223326, 57.17502930707736], [-136.3589353159142, 57.18049062864421], [-136.4239834512299, 57.18589871267766], [-136.4888223963493, 57.19125440686634], [-136.5528173255515, 57.19650600729599], [-136.5990746463213, 57.03154884009665], [-136.5353664141293, 57.02629951303354], [-136.4708178341716, 57.02094646574499], [-136.4060609568968, 57.01554113359338], [-136.341091578437, 57.01008285903923], [-136.2759053668746, 57.00457096289403], [-136.2104979073122, 56.99900456982548], [-136.1448645758445, 56.99338302497267], [-136.0790006790022, 56.98770539092903], [-136.0129013138784, 56.98197090647543], [-135.9465614253314, 56.9761787649353], [-135.8799758441235, 56.97032796289303], [-135.8131391567921, 56.96441771176958], [-135.7460458477144, 56.95844693455327], [-135.6786901359648, 56.95241478041206], [-135.6110661181246, 56.94632012129218], [-135.5431676325058, 56.94016196782763], [-135.4749883016024, 56.93393929411128], [-135.4065215758426, 56.92765086239972], [-135.3377605930557, 56.92129563865785], [-135.268698322962, 56.91487228873189], [-135.2305111210019, 57.08102829388952]]], &quot;type&quot;: &quot;Polygon&quot;}, &quot;id&quot;: &quot;S1_SLC_20210519T151612_VV_372326_IW3&quot;, &quot;properties&quot;: {&quot;datetime&quot;: &quot;2021-05-19T15:16:12Z&quot;, &quot;stack_id&quot;: &quot;372326_IW3&quot;}, &quot;type&quot;: &quot;Feature&quot;}, {&quot;bbox&quot;: [-136.5990916088258, 56.91546178039511, -135.2305557565765, 57.19685168867101], &quot;geometry&quot;: {&quot;coordinates&quot;: [[[-135.2305557565765, 57.08137217089226], [-135.2858883871139, 57.08651090511045], [-135.3549595755058, 57.0928731650271], [-135.4237352836485, 57.09916822703466], [-135.4922223282268, 57.10539737333342], [-135.5604273639608, 57.11156160192381], [-135.6283567386994, 57.11766213030165], [-135.6960166462542, 57.12369993761872], [-135.7634130676651, 57.1296759867746], [-135.8305517369197, 57.13559137140713], [-135.8974382676399, 57.14144692806384], [-135.9640780240682, 57.14724369259461], [-136.0304762709255, 57.15298242770903], [-136.0966380312285, 57.1586641261579], [-136.1625682297483, 57.16428955219094], [-136.2282716338729, 57.16985946316717], [-136.293752816781, 57.17537476073745], [-136.3590162831323, 57.18083607901067], [-136.4240663296459, 57.18624428749503], [-136.48890720004, 57.19159997124285], [-136.5529039761121, 57.19685168867101], [-136.5990916088258, 57.03214029598058], [-136.5353810915063, 57.02689091823439], [-136.4708301983534, 57.02153775027162], [-136.4060709500991, 57.0161324108831], [-136.3410991913763, 57.0106740688263], [-136.2759105736341, 57.00516210111356], [-136.2105006798987, 56.9995956369972], [-136.1448649074231, 56.99397394643933], [-136.0789985044343, 56.98829628896226], [-136.0128966220259, 56.98256171556366], [-135.9465541864022, 56.97676948043022], [-135.8799660260467, 56.97091858470559], [-135.8131267307958, 56.96500822559921], [-135.7460307784412, 56.95903734471955], [-135.6786724098845, 56.95300501603285], [-135.6110456649404, 56.94691029426238], [-135.5431444337197, 56.94075201632421], [-135.4749623204252, 56.93452921242572], [-135.4064927728313, 56.92824064933265], [-135.3377289510598, 56.92188521778356], [-135.2686637616953, 56.91546178039511], [-135.2305557565765, 57.08137217089226]]], &quot;type&quot;: &quot;Polygon&quot;}, &quot;id&quot;: &quot;S1_SLC_20210507T151612_VV_372326_IW3&quot;, &quot;properties&quot;: {&quot;datetime&quot;: &quot;2021-05-07T15:16:12Z&quot;, &quot;stack_id&quot;: &quot;372326_IW3&quot;}, &quot;type&quot;: &quot;Feature&quot;}, {&quot;bbox&quot;: [-136.6007501695645, 56.91555012837713, -135.2321291141852, 57.19728386734484], &quot;geometry&quot;: {&quot;coordinates&quot;: [[[-135.2321291141852, 57.08182925339793], [-135.2874614584141, 57.08696695912462], [-135.3565319527318, 57.09332782352075], [-135.4253069574977, 57.09962162198646], [-135.493793364617, 57.1058493925598], [-135.5619977519239, 57.11201237682356], [-135.6299265230015, 57.11811160909099], [-135.6975858703802, 57.12414806824223], [-135.7649817185009, 57.13012289984935], [-135.8321198731327, 57.13603695809201], [-135.8990058777105, 57.14189130912472], [-135.9656451478919, 57.14768681501648], [-136.0320429265301, 57.15342430862187], [-136.0982042401145, 57.15910476841197], [-136.1641340291259, 57.16472890214001], [-136.2298370069192, 57.17029764993458], [-136.2953178169988, 57.17581166931021], [-136.360580892903, 57.1812718381538], [-136.4256305835002, 57.18667884283285], [-136.4904711143741, 57.1920333292231], [-136.5544675699239, 57.19728386734484], [-136.6007501695645, 57.03220330219212], [-136.5370406209823, 57.02695510011479], [-136.472490721308, 57.02160313575617], [-136.407732486221, 57.01619900222554], [-136.3427617609671, 57.01074186845093], [-136.2775741935841, 57.00523112569813], [-136.2121653731345, 56.9996658846355], [-136.1465306921149, 56.99404543418319], [-136.0806654035416, 56.98836901998708], [-136.0145646578714, 56.98263569794167], [-135.9482233820775, 56.9768447224483], [-135.8816364068378, 56.97099509018133], [-135.8147983186165, 56.96508601265565], [-135.7477036017019, 56.95911641295582], [-135.6803464922431, 56.95308538406284], [-135.612721035274, 56.94699196688937], [-135.5448211219235, 56.94083499862383], [-135.4766403531075, 56.93461352382948], [-135.4081721834955, 56.92832629080725], [-135.3394097685252, 56.9219722093661], [-135.2703460203857, 56.91555012837713], [-135.2321291141852, 57.08182925339793]]], &quot;type&quot;: &quot;Polygon&quot;}, &quot;id&quot;: &quot;S1_SLC_20210425T151611_VV_372326_IW3&quot;, &quot;properties&quot;: {&quot;datetime&quot;: &quot;2021-04-25T15:16:11Z&quot;, &quot;stack_id&quot;: &quot;372326_IW3&quot;}, &quot;type&quot;: &quot;Feature&quot;}, {&quot;bbox&quot;: [-136.5990557928961, 56.91538041616709, -135.230584344679, 57.19664020658975], &quot;geometry&quot;: {&quot;coordinates&quot;: [[[-135.230584344679, 57.08116835178571], [-135.2859158658341, 57.08630677498488], [-135.3549854430282, 57.09266854328963], [-135.423759528235, 57.09896324127355], [-135.4922450135659, 57.10519190710481], [-135.5604484770408, 57.11135578249012], [-135.6283763411062, 57.11745584088919], [-135.6960347424219, 57.12349324421691], [-135.7634296616281, 57.12946895523542], [-135.8305668859702, 57.13538388920426], [-135.8974519590235, 57.14123911237954], [-135.964090313314, 57.1470354306372], [-136.030487141638, 57.15277384580152], [-136.0966475207929, 57.15845516755953], [-136.1625763746516, 57.16408016004455], [-136.2282784166753, 57.16964976346946], [-136.2937582904784, 57.17516463543115], [-136.3590204296958, 57.1806256538951], [-136.424069200652, 57.18603344431347], [-136.4889087769475, 57.19138883561162], [-136.552904304421, 57.19664020658975], [-136.5990557928961, 57.03205122256673], [-136.5353463096104, 57.02680218880011], [-136.4707964745518, 57.02144937630916], [-136.4060383012689, 57.01604439116412], [-136.3410676348697, 57.01058640221269], [-136.2758801232372, 57.00507480063651], [-136.2104713552833, 56.99950869701787], [-136.1448367068951, 56.99388743648559], [-136.0789714802476, 56.9882100956967], [-136.0128707776795, 56.98247589465434], [-135.9465295382556, 56.97668404543492], [-135.8799425966243, 56.97083353053578], [-135.8131045390651, 56.96492356136425], [-135.7460098454198, 56.95895307496661], [-135.6786527558468, 56.95292115013485], [-135.611027313729, 56.9468268323519], [-135.5431274099522, 56.94066895868134], [-135.4749466451659, 56.93444657355558], [-135.4064784737709, 56.92815842514038], [-135.3377160332411, 56.92180347937993], [-135.2686522884771, 56.91538041616709], [-135.230584344679, 57.08116835178571]]], &quot;type&quot;: &quot;Polygon&quot;}, &quot;id&quot;: &quot;S1_SLC_20210413T151611_VV_372326_IW3&quot;, &quot;properties&quot;: {&quot;datetime&quot;: &quot;2021-04-13T15:16:11Z&quot;, &quot;stack_id&quot;: &quot;372326_IW3&quot;}, &quot;type&quot;: &quot;Feature&quot;}, {&quot;bbox&quot;: [-136.5981934536555, 56.91427152775765, -135.2296347869363, 57.19591060035726], &quot;geometry&quot;: {&quot;coordinates&quot;: [[[-135.2296347869363, 57.08042703810312], [-135.2849654008749, 57.08556596720983], [-135.3540339536278, 57.0919283513289], [-135.4228070148964, 57.09822365292698], [-135.491291455107, 57.10445298061419], [-135.5594939062822, 57.11061740266143], [-135.627420719988, 57.11671812242455], [-135.6950781065368, 57.12275606270327], [-135.7624719906671, 57.12873236925876], [-135.8296081615098, 57.13464795274249], [-135.8964922135746, 57.14050371061901], [-135.9631295105806, 57.14630067868249], [-136.0295253167501, 57.15203961958943], [-136.0956846546158, 57.15772152603972], [-136.1616124662833, 57.1633471012474], [-136.2273134653098, 57.16891728548574], [-136.2927922791828, 57.17443279270849], [-136.3580533902998, 57.1798943320432], [-136.4231010990373, 57.18530275888242], [-136.4879396473815, 57.19065866293058], [-136.5519341395231, 57.19591060035726], [-136.5981934536555, 57.03095382364747], [-136.5344856178974, 57.02570429254141], [-136.4699374669637, 57.02035091032351], [-136.4051809940587, 57.01494530267591], [-136.3402119960897, 57.00948680730894], [-136.2750261906696, 57.00397457137892], [-136.2096190924264, 56.99840796346654], [-136.1439861518692, 56.99278607060555], [-136.0781226001037, 56.98710821336245], [-136.0120235887225, 56.98137344278888], [-135.9456840611928, 56.97558095683343], [-135.8790987962952, 56.96972992558106], [-135.8122624530301, 56.96381931643812], [-135.7451694379371, 56.9578483103169], [-135.6778140476141, 56.9518157983052], [-135.6101903041458, 56.94572089617826], [-135.5422920983051, 56.93956244092575], [-135.4741130539041, 56.93333940186055], [-135.4056465626774, 56.9270507287434], [-135.3368858422608, 56.92069512948347], [-135.2678237811048, 56.91427152775765], [-135.2296347869363, 57.08042703810312]]], &quot;type&quot;: &quot;Polygon&quot;}, &quot;id&quot;: &quot;S1_SLC_20210401T151610_VV_372326_IW3&quot;, &quot;properties&quot;: {&quot;datetime&quot;: &quot;2021-04-01T15:16:10Z&quot;, &quot;stack_id&quot;: &quot;372326_IW3&quot;}, &quot;type&quot;: &quot;Feature&quot;}, {&quot;bbox&quot;: [-136.5972204788843, 56.91435866852877, -135.2286676999467, 57.1958915124801], &quot;geometry&quot;: {&quot;coordinates&quot;: [[[-135.2286676999467, 57.08039073529206], [-135.2839991112158, 57.08553039363932], [-135.3530689654338, 57.0918937031951], [-135.4218432975421, 57.09818993155929], [-135.4903290008236, 57.10442011723484], [-135.5585326543969, 57.11058550224676], [-135.6264606645223, 57.11668711664415], [-135.6941192206003, 57.12272595378662], [-135.7615142524891, 57.12870314556541], [-135.8286515670122, 57.13461954653717], [-135.8955367043749, 57.140476237288], [-135.9621750854462, 57.14627406616263], [-136.0285719526007, 57.15201387104074], [-136.0947323332009, 57.15769663071299], [-136.1606611685877, 57.16332305324327], [-136.2263631729111, 57.1688940790561], [-136.291842991816, 57.17441036126289], [-136.3571050555128, 57.1798727920999], [-136.4221537189778, 57.18528203943569], [-136.4869932031236, 57.19063876817043], [-136.5509886075842, 57.1958915124801], [-136.5972204788843, 57.03105843090281], [-136.5335115421577, 57.02580803395573], [-136.468962228537, 57.02045389466266], [-136.4042045933465, 57.01504746361177], [-136.3392344332959, 57.00958807838422], [-136.2740474129832, 57.00407506898046], [-136.2086391166622, 56.9985075598672], [-136.1430049236412, 56.99288488189785], [-136.0771401340892, 56.98720611621528], [-136.0110398316153, 56.98147054359389], [-135.9446990086669, 56.97567719292613], [-135.8781124450381, 56.96982522943784], [-135.8112747442464, 56.96391380330678], [-135.7441803853146, 56.95794185132831], [-135.6768235903725, 56.95190850831857], [-135.6091984533645, 56.94581265062551], [-135.5412988127571, 56.9396532838895], [-135.4731182853488, 56.93342939595713], [-135.404650324498, 56.92713973468462], [-135.3358880665654, 56.92078326569034], [-135.2668244752974, 56.91435866852877], [-135.2286676999467, 57.08039073529206]]], &quot;type&quot;: &quot;Polygon&quot;}, &quot;id&quot;: &quot;S1_SLC_20210320T151610_VV_372326_IW3&quot;, &quot;properties&quot;: {&quot;datetime&quot;: &quot;2021-03-20T15:16:10Z&quot;, &quot;stack_id&quot;: &quot;372326_IW3&quot;}, &quot;type&quot;: &quot;Feature&quot;}, {&quot;bbox&quot;: [-136.5991565038581, 56.9139185025483, -135.2306111438633, 57.19519344151379], &quot;geometry&quot;: {&quot;coordinates&quot;: [[[-135.2306111438633, 57.07970404230754], [-135.285945273213, 57.08484318173843], [-135.3550194701444, 57.09120605376508], [-135.4237980584897, 57.09750177308916], [-135.4922879157072, 57.10373143960818], [-135.5604956241949, 57.10989629575779], [-135.6284276105798, 57.11599731569656], [-135.6960900155084, 57.12203566200285], [-135.7634888234323, 57.12801229807496], [-135.8306298252388, 57.13392813978049], [-135.8975185679834, 57.13978425395401], [-135.9641604875256, 57.14558144702843], [-136.0305607798494, 57.15132072135764], [-136.0967245427126, 57.15700282615356], [-136.1626566492035, 57.16262870899231], [-136.2283618693019, 57.16819912759793], [-136.2938448314129, 57.17371480100223], [-136.3591099717545, 57.17917660759898], [-136.4241616591347, 57.18458517325499], [-136.4890040695365, 57.18994132729041], [-136.5530023242086, 57.19519344151379], [-136.5991565038581, 57.03060706105295], [-136.5354443007665, 57.02535728724276], [-136.470891640942, 57.02000371062066], [-136.4061305584817, 57.0145979582949], [-136.3411569001144, 57.00913918464501], [-136.2759663099281, 57.00362678513218], [-136.2105543742699, 56.99805986991326], [-136.1449164827959, 56.99243772737185], [-136.0790478855613, 56.98675960259537], [-136.0129437313311, 56.98102454620849], [-135.9465989396908, 56.97523182607848], [-135.8800083421241, 56.96938042417661], [-135.8131665385508, 56.96346949506623], [-135.7460679545067, 56.95749814408923], [-135.6787068773845, 56.95146528056284], [-135.6110773298334, 56.94537000562785], [-135.5431731987806, 56.93921115568859], [-135.4749880807248, 56.93298777448254], [-135.4065154257202, 56.92669860945131], [-135.3377483843506, 56.920342569499], [-135.2686798637104, 56.9139185025483], [-135.2306111438633, 57.07970404230754]]], &quot;type&quot;: &quot;Polygon&quot;}, &quot;id&quot;: &quot;S1_SLC_20210224T151610_VV_372326_IW3&quot;, &quot;properties&quot;: {&quot;datetime&quot;: &quot;2021-02-24T15:16:10Z&quot;, &quot;stack_id&quot;: &quot;372326_IW3&quot;}, &quot;type&quot;: &quot;Feature&quot;}, {&quot;bbox&quot;: [-136.6002354684974, 56.91479627381886, -135.2315305951869, 57.19631098706271], &quot;geometry&quot;: {&quot;coordinates&quot;: [[[-135.2315305951869, 57.0808264174409], [-135.2868684908129, 57.08596543315222], [-135.3559479996337, 57.092328070719], [-135.4247318126233, 57.09862359841685], [-135.4932268242836, 57.10485306953939], [-135.5614396205984, 57.11101772210613], [-135.6293766302112, 57.1171185305371], [-135.6970439957001, 57.12315665765885], [-135.7644477033624, 57.12913306710713], [-135.8315935458519, 57.13504867497628], [-135.8984870719193, 57.14090454831656], [-135.9651337190451, 57.14670149376801], [-136.031538684771, 57.15244051388153], [-136.0977070504426, 57.15812241904297], [-136.1636437429245, 57.16374797874662], [-136.2293534839679, 57.16931811976963], [-136.2948409170965, 57.1748335143992], [-136.3601104811696, 57.18029503649635], [-136.4251665462162, 57.18570331208088], [-136.4900132893975, 57.19105917061877], [-136.5540157908383, 57.19631098706271], [-136.6002354684974, 57.03147990286896], [-136.5365194739872, 57.02623042447196], [-136.4719629400963, 57.02087715074332], [-136.4071979428424, 57.01547168686189], [-136.3422203224752, 57.01001320583313], [-136.27702572726, 57.0045010842024], [-136.2116097382682, 56.99893444604786], [-136.1459677452148, 56.99331257489977], [-136.0800949968162, 56.98763471567704], [-136.0139866390521, 56.98189992352017], [-135.9476375942175, 56.97610745203841], [-135.8810426881164, 56.97025629708512], [-135.8141965204757, 56.96434560833097], [-135.747093515182, 56.95837449090716], [-135.6797279579029, 56.95234185391093], [-135.6120938694897, 56.94624679825147], [-135.5441851335388, 56.94008816478147], [-135.475995348923, 56.93386498291309], [-135.407517959294, 56.92757601389201], [-135.3387461145263, 56.92122016165142], [-135.2696727194541, 56.91479627381886], [-135.2315305951869, 57.0808264174409]]], &quot;type&quot;: &quot;Polygon&quot;}, &quot;id&quot;: &quot;S1_SLC_20210212T151610_VV_372326_IW3&quot;, &quot;properties&quot;: {&quot;datetime&quot;: &quot;2021-02-12T15:16:10Z&quot;, &quot;stack_id&quot;: &quot;372326_IW3&quot;}, &quot;type&quot;: &quot;Feature&quot;}, {&quot;bbox&quot;: [-136.599027961358, 56.91436305121316, -135.2303656311256, 57.19577058502097], &quot;geometry&quot;: {&quot;coordinates&quot;: [[[-135.2303656311256, 57.08027009493143], [-135.2857029093334, 57.08540971641875], [-135.3547817201641, 57.09177325001163], [-135.4235648665467, 57.09806955686717], [-135.4920591727771, 57.10429991550345], [-135.560271295089, 57.1104653389562], [-135.6282075912965, 57.11656703156746], [-135.6958742591097, 57.12260597805702], [-135.7632772846834, 57.12858314216295], [-135.8304224068903, 57.13449961832064], [-135.8973152440303, 57.14035624384506], [-135.9639611648178, 57.14615405531533], [-136.0303654202459, 57.15189387712702], [-136.09653309148, 57.15757651975076], [-136.1624690531814, 57.16320293102873], [-136.2281780945291, 57.16877380795467], [-136.2936647936727, 57.17429004807646], [-136.3589336546948, 57.17975230014723], [-136.4239889817073, 57.18516142014266], [-136.4888350030349, 57.19051805932376], [-136.5528368057529, 57.19577058502097], [-136.599027961358, 57.03106284381236], [-136.5353124603275, 57.02581259653955], [-136.4707564230267, 57.02045854339248], [-136.4059919204084, 57.01505229715337], [-136.3410147926019, 57.00959303075441], [-136.2758206877378, 57.00408012066423], [-136.2104051853933, 56.99851269557396], [-136.1447636614081, 56.99289008584581], [-136.0788914137087, 56.98721136742222], [-136.0127835360359, 56.98147577363063], [-135.9464349683323, 56.97568249699992], [-135.8798405348288, 56.96983053798007], [-135.8129948209172, 56.96391909305083], [-135.7458923011706, 56.95794709837221], [-135.6785272073733, 56.9519136411863], [-135.6108935785255, 56.94581776131088], [-135.5429852980058, 56.93965829948407], [-135.4747959644499, 56.93343428499789], [-135.4063190198035, 56.92714448366372], [-135.3375475989245, 56.92078784618017], [-135.2684746594213, 56.91436305121316], [-135.2303656311256, 57.08027009493143]]], &quot;type&quot;: &quot;Polygon&quot;}, &quot;id&quot;: &quot;S1_SLC_20210131T151610_VV_372326_IW3&quot;, &quot;properties&quot;: {&quot;datetime&quot;: &quot;2021-01-31T15:16:10Z&quot;, &quot;stack_id&quot;: &quot;372326_IW3&quot;}, &quot;type&quot;: &quot;Feature&quot;}, {&quot;bbox&quot;: [-136.596724129616, 56.91403968728282, -135.2280696723794, 57.19547004946955], &quot;geometry&quot;: {&quot;coordinates&quot;: [[[-135.2280696723794, 57.0799462576482], [-135.2834061944367, 57.08508684914776], [-135.3524840732161, 57.09145159715879], [-135.4212662950506, 57.09774911357637], [-135.489759684114, 57.1039806770353], [-135.5579708777344, 57.11014736165409], [-135.6259062900089, 57.11625018897548], [-135.6935720621483, 57.12229032673285], [-135.7609741990076, 57.12826867779691], [-135.8281184393542, 57.13418633670088], [-135.8950104013988, 57.14004414085528], [-135.9616554537562, 57.14584312693064], [-136.0280588473333, 57.15158411941176], [-136.0942256632111, 57.1572679288556], [-136.1601607759594, 57.16289550318717], [-136.2258689746814, 57.16846753948143], [-136.2913548374405, 57.173984935364], [-136.3566228682476, 57.17944833966427], [-136.4216773711329, 57.18485860843096], [-136.4865225743511, 57.19021639299665], [-136.5505235729218, 57.19547004946955], [-136.596724129616, 57.03076293324437], [-136.5330094227909, 57.02551155994374], [-136.468454176182, 57.02015642721021], [-136.4036905047369, 57.01474897601783], [-136.3387141968219, 57.00928856221122], [-136.273520917916, 57.00377450119091], [-136.2081062476791, 56.9982059215729], [-136.1424655620232, 56.99258215364095], [-136.0765941589622, 56.98690227325748], [-136.0104871323167, 56.98116551366655], [-135.944139422112, 56.97537106731097], [-135.877545852674, 56.96951793455249], [-135.8107010094791, 56.96360531177874], [-135.7435993672014, 56.95763213505544], [-135.6762351391292, 56.95159755250272], [-135.6086024201268, 56.94550042090754], [-135.5406950379157, 56.93933976383262], [-135.4725066098208, 56.93311454948431], [-135.4040305779041, 56.92682354356173], [-135.335260077131, 56.92046569664615], [-135.2661880652346, 56.91403968728282], [-135.2280696723794, 57.0799462576482]]], &quot;type&quot;: &quot;Polygon&quot;}, &quot;id&quot;: &quot;S1_SLC_20210119T151611_VV_372326_IW3&quot;, &quot;properties&quot;: {&quot;datetime&quot;: &quot;2021-01-19T15:16:11Z&quot;, &quot;stack_id&quot;: &quot;372326_IW3&quot;}, &quot;type&quot;: &quot;Feature&quot;}, {&quot;bbox&quot;: [-136.5963356961385, 56.91489223151873, -135.2276489714193, 57.19631792496212], &quot;geometry&quot;: {&quot;coordinates&quot;: [[[-135.2276489714193, 57.0807987798309], [-135.2829868536823, 57.08593925067708], [-135.3520664717773, 57.09230376399958], [-135.4208504241087, 57.09860104532672], [-135.4893455350592, 57.10483237329297], [-135.5575584609576, 57.11099876104701], [-135.6254955611339, 57.11710140834882], [-135.6931630476451, 57.12314125311998], [-135.7605668553161, 57.12911942805014], [-135.8277127773728, 57.13503684944125], [-135.8946064136182, 57.14089441567653], [-135.9612531342232, 57.14669315873493], [-136.027658204085, 57.15243385619039], [-136.0938266559391, 57.15811748278281], [-136.1597634130302, 57.16374482225299], [-136.2254732507148, 57.16931661858415], [-136.2909607458144, 57.17483377409205], [-136.3562304024708, 57.1802969376051], [-136.4212865261767, 57.18570696047951], [-136.4861333585584, 57.19106444713037], [-136.55013593111, 57.19631792496212], [-136.5963356961385, 57.03161071639166], [-136.5326194165279, 57.02635958261191], [-136.4680625926799, 57.02100463040087], [-136.4032973032825, 57.01559748131969], [-136.3383193884222, 57.01013730823112], [-136.2731244961736, 57.0046234875313], [-136.2077082074291, 56.99905514314585], [-136.1420659117005, 56.99343155844598], [-136.0761928574925, 56.98775197818598], [-136.0100841905789, 56.98201545733733], [-135.943734833018, 56.9762212493325], [-135.8771396103869, 56.97036834984344], [-135.810293122158, 56.96445590835143], [-135.7431897919526, 56.95848302979141], [-135.6758239051747, 56.95244862305825], [-135.6081894823783, 56.94635178884944], [-135.5402804068679, 56.94019136779951], [-135.4720902771895, 56.93396638909225], [-135.4036125366714, 56.92767561373779], [-135.3348403348313, 56.92131794542286], [-135.2657665761292, 56.91489223151873], [-135.2276489714193, 57.0807987798309]]], &quot;type&quot;: &quot;Polygon&quot;}, &quot;id&quot;: &quot;S1_SLC_20210107T151611_VV_372326_IW3&quot;, &quot;properties&quot;: {&quot;datetime&quot;: &quot;2021-01-07T15:16:11Z&quot;, &quot;stack_id&quot;: &quot;372326_IW3&quot;}, &quot;type&quot;: &quot;Feature&quot;}], &quot;type&quot;: &quot;FeatureCollection&quot;});\n",
       "\n",
       "        \n",
       "    \n",
       "    geo_json_de4673a298e3d16f1bb850edf7a2a091.bindTooltip(\n",
       "    function(layer){\n",
       "    let div = L.DomUtil.create(&#x27;div&#x27;);\n",
       "    \n",
       "    let handleObject = feature=&gt;typeof(feature)==&#x27;object&#x27; ? JSON.stringify(feature) : feature;\n",
       "    let fields = [&quot;stack_id&quot;, &quot;datetime&quot;];\n",
       "    let aliases = [&quot;stack_id&quot;, &quot;datetime&quot;];\n",
       "    let table = &#x27;&lt;table&gt;&#x27; +\n",
       "        String(\n",
       "        fields.map(\n",
       "        (v,i)=&gt;\n",
       "        `&lt;tr&gt;\n",
       "            &lt;th&gt;${aliases[i]}&lt;/th&gt;\n",
       "            \n",
       "            &lt;td&gt;${handleObject(layer.feature.properties[v])}&lt;/td&gt;\n",
       "        &lt;/tr&gt;`).join(&#x27;&#x27;))\n",
       "    +&#x27;&lt;/table&gt;&#x27;;\n",
       "    div.innerHTML=table;\n",
       "    \n",
       "    return div\n",
       "    }\n",
       "    ,{&quot;className&quot;: &quot;foliumtooltip&quot;, &quot;sticky&quot;: true});\n",
       "                     \n",
       "&lt;/script&gt;\" style=\"position:absolute;width:100%;height:100%;left:0;top:0;border:none !important;\" allowfullscreen webkitallowfullscreen mozallowfullscreen></iframe></div></div>"
      ],
      "text/plain": [
       "<folium.folium.Map at 0x7fa0cc26a710>"
      ]
     },
     "execution_count": 16,
     "metadata": {},
     "output_type": "execute_result"
    }
   ],
   "source": [
    "aoi.explore(style_kwds={'fill':None})"
   ]
  },
  {
   "cell_type": "markdown",
   "metadata": {
    "pycharm": {
     "name": "#%% md\n"
    }
   },
   "source": [
    "## View using STAC-browser"
   ]
  },
  {
   "cell_type": "code",
   "execution_count": 17,
   "metadata": {
    "collapsed": false,
    "jupyter": {
     "outputs_hidden": false
    },
    "pycharm": {
     "name": "#%%\n"
    }
   },
   "outputs": [],
   "source": [
    "stac_path = bursts.save_stac_catalog_locally(stac)"
   ]
  },
  {
   "cell_type": "code",
   "execution_count": 18,
   "metadata": {
    "collapsed": false,
    "jupyter": {
     "outputs_hidden": false
    },
    "pycharm": {
     "name": "#%%\n"
    }
   },
   "outputs": [
    {
     "name": "stdout",
     "output_type": "stream",
     "text": [
      "http://localhost:5555/catalog.json\n",
      " In stac-browser run:\n",
      " npm start -- --open --CATALOG_URL=\"http://localhost:5555/catalog.json\" \n"
     ]
    },
    {
     "ename": "KeyboardInterrupt",
     "evalue": "",
     "output_type": "error",
     "traceback": [
      "\u001B[0;31m---------------------------------------------------------------------------\u001B[0m",
      "\u001B[0;31mKeyboardInterrupt\u001B[0m                         Traceback (most recent call last)",
      "Input \u001B[0;32mIn [18]\u001B[0m, in \u001B[0;36m<cell line: 1>\u001B[0;34m()\u001B[0m\n\u001B[0;32m----> 1\u001B[0m \u001B[43mbursts\u001B[49m\u001B[38;5;241;43m.\u001B[39;49m\u001B[43minitiate_stac_catalog_server\u001B[49m\u001B[43m(\u001B[49m\u001B[38;5;241;43m5555\u001B[39;49m\u001B[43m,\u001B[49m\u001B[43m \u001B[49m\u001B[43mstac_path\u001B[49m\u001B[38;5;241;43m.\u001B[39;49m\u001B[43mparent\u001B[49m\u001B[43m)\u001B[49m\n",
      "File \u001B[0;32m~/Documents/Code/Contributing/burst_workflow/bursts.py:346\u001B[0m, in \u001B[0;36minitiate_stac_catalog_server\u001B[0;34m(port, catalog_dir)\u001B[0m\n\u001B[1;32m    343\u001B[0m \u001B[38;5;28mprint\u001B[39m(\u001B[38;5;124mf\u001B[39m\u001B[38;5;124m'\u001B[39m\u001B[38;5;132;01m{\u001B[39;00murl\u001B[38;5;132;01m}\u001B[39;00m\u001B[38;5;130;01m\\n\u001B[39;00m\u001B[38;5;124m'\u001B[39m, \u001B[38;5;124m'\u001B[39m\u001B[38;5;124mIn stac-browser run:\u001B[39m\u001B[38;5;130;01m\\n\u001B[39;00m\u001B[38;5;124m'\u001B[39m, \u001B[38;5;124mf\u001B[39m\u001B[38;5;124m'\u001B[39m\u001B[38;5;124mnpm start -- --open --CATALOG_URL=\u001B[39m\u001B[38;5;124m\"\u001B[39m\u001B[38;5;132;01m{\u001B[39;00murl\u001B[38;5;132;01m}\u001B[39;00m\u001B[38;5;124m\"\u001B[39m\u001B[38;5;124m \u001B[39m\u001B[38;5;124m'\u001B[39m)\n\u001B[1;32m    345\u001B[0m \u001B[38;5;28;01mwith\u001B[39;00m HTTPServer((\u001B[38;5;124m'\u001B[39m\u001B[38;5;124mlocalhost\u001B[39m\u001B[38;5;124m'\u001B[39m, port), CORSRequestHandler) \u001B[38;5;28;01mas\u001B[39;00m httpd:\n\u001B[0;32m--> 346\u001B[0m     \u001B[43mhttpd\u001B[49m\u001B[38;5;241;43m.\u001B[39;49m\u001B[43mserve_forever\u001B[49m\u001B[43m(\u001B[49m\u001B[43m)\u001B[49m\n",
      "File \u001B[0;32m~/mambaforge/envs/burst-workflow/lib/python3.10/socketserver.py:232\u001B[0m, in \u001B[0;36mBaseServer.serve_forever\u001B[0;34m(self, poll_interval)\u001B[0m\n\u001B[1;32m    229\u001B[0m selector\u001B[38;5;241m.\u001B[39mregister(\u001B[38;5;28mself\u001B[39m, selectors\u001B[38;5;241m.\u001B[39mEVENT_READ)\n\u001B[1;32m    231\u001B[0m \u001B[38;5;28;01mwhile\u001B[39;00m \u001B[38;5;129;01mnot\u001B[39;00m \u001B[38;5;28mself\u001B[39m\u001B[38;5;241m.\u001B[39m__shutdown_request:\n\u001B[0;32m--> 232\u001B[0m     ready \u001B[38;5;241m=\u001B[39m \u001B[43mselector\u001B[49m\u001B[38;5;241;43m.\u001B[39;49m\u001B[43mselect\u001B[49m\u001B[43m(\u001B[49m\u001B[43mpoll_interval\u001B[49m\u001B[43m)\u001B[49m\n\u001B[1;32m    233\u001B[0m     \u001B[38;5;66;03m# bpo-35017: shutdown() called during select(), exit immediately.\u001B[39;00m\n\u001B[1;32m    234\u001B[0m     \u001B[38;5;28;01mif\u001B[39;00m \u001B[38;5;28mself\u001B[39m\u001B[38;5;241m.\u001B[39m__shutdown_request:\n",
      "File \u001B[0;32m~/mambaforge/envs/burst-workflow/lib/python3.10/selectors.py:416\u001B[0m, in \u001B[0;36m_PollLikeSelector.select\u001B[0;34m(self, timeout)\u001B[0m\n\u001B[1;32m    414\u001B[0m ready \u001B[38;5;241m=\u001B[39m []\n\u001B[1;32m    415\u001B[0m \u001B[38;5;28;01mtry\u001B[39;00m:\n\u001B[0;32m--> 416\u001B[0m     fd_event_list \u001B[38;5;241m=\u001B[39m \u001B[38;5;28;43mself\u001B[39;49m\u001B[38;5;241;43m.\u001B[39;49m\u001B[43m_selector\u001B[49m\u001B[38;5;241;43m.\u001B[39;49m\u001B[43mpoll\u001B[49m\u001B[43m(\u001B[49m\u001B[43mtimeout\u001B[49m\u001B[43m)\u001B[49m\n\u001B[1;32m    417\u001B[0m \u001B[38;5;28;01mexcept\u001B[39;00m \u001B[38;5;167;01mInterruptedError\u001B[39;00m:\n\u001B[1;32m    418\u001B[0m     \u001B[38;5;28;01mreturn\u001B[39;00m ready\n",
      "\u001B[0;31mKeyboardInterrupt\u001B[0m: "
     ]
    }
   ],
   "source": [
    "bursts.initiate_stac_catalog_server(5555, stac_path.parent)"
   ]
  },
  {
   "cell_type": "markdown",
   "metadata": {
    "pycharm": {
     "name": "#%% md\n"
    }
   },
   "source": [
    "## Download burst data\n",
    "Using the STAC catalog, users can select an STAC item, then pass this item to `bursts.edl_download_burst_data`. The data is returned in a 2d numpy array with a complex float data type."
   ]
  },
  {
   "cell_type": "code",
   "execution_count": 19,
   "metadata": {
    "collapsed": false,
    "jupyter": {
     "outputs_hidden": false
    },
    "pycharm": {
     "name": "#%%\n"
    }
   },
   "outputs": [],
   "source": [
    "item_list = [stac.get_item(x,recursive=True) for x in aoi.index]"
   ]
  },
  {
   "cell_type": "code",
   "execution_count": 20,
   "metadata": {
    "collapsed": false,
    "jupyter": {
     "outputs_hidden": false
    },
    "pycharm": {
     "name": "#%%\n"
    }
   },
   "outputs": [
    {
     "data": {
      "application/vnd.jupyter.widget-view+json": {
       "model_id": "9cb464c242934e62bfb4dac3f753ce5a",
       "version_major": 2,
       "version_minor": 0
      },
      "text/plain": [
       "SUBMITTING | :   0%|          | 0/12 [00:00<?, ?it/s]"
      ]
     },
     "metadata": {},
     "output_type": "display_data"
    },
    {
     "data": {
      "application/vnd.jupyter.widget-view+json": {
       "model_id": "716a82587df14508b16dd7c428f7c599",
       "version_major": 2,
       "version_minor": 0
      },
      "text/plain": [
       "PROCESSING | :   0%|          | 0/12 [00:00<?, ?it/s]"
      ]
     },
     "metadata": {},
     "output_type": "display_data"
    },
    {
     "data": {
      "application/vnd.jupyter.widget-view+json": {
       "model_id": "808c06107090400583b654a0ad9f8efd",
       "version_major": 2,
       "version_minor": 0
      },
      "text/plain": [
       "COLLECTING | :   0%|          | 0/12 [00:00<?, ?it/s]"
      ]
     },
     "metadata": {},
     "output_type": "display_data"
    }
   ],
   "source": [
    "stack_dataset = bursts.edl_download_stack(item_list, threads=10)"
   ]
  },
  {
   "cell_type": "code",
   "execution_count": 21,
   "metadata": {
    "collapsed": false,
    "jupyter": {
     "outputs_hidden": false
    },
    "pycharm": {
     "name": "#%%\n"
    }
   },
   "outputs": [
    {
     "data": {
      "text/html": [
       "<div><svg style=\"position: absolute; width: 0; height: 0; overflow: hidden\">\n",
       "<defs>\n",
       "<symbol id=\"icon-database\" viewBox=\"0 0 32 32\">\n",
       "<path d=\"M16 0c-8.837 0-16 2.239-16 5v4c0 2.761 7.163 5 16 5s16-2.239 16-5v-4c0-2.761-7.163-5-16-5z\"></path>\n",
       "<path d=\"M16 17c-8.837 0-16-2.239-16-5v6c0 2.761 7.163 5 16 5s16-2.239 16-5v-6c0 2.761-7.163 5-16 5z\"></path>\n",
       "<path d=\"M16 26c-8.837 0-16-2.239-16-5v6c0 2.761 7.163 5 16 5s16-2.239 16-5v-6c0 2.761-7.163 5-16 5z\"></path>\n",
       "</symbol>\n",
       "<symbol id=\"icon-file-text2\" viewBox=\"0 0 32 32\">\n",
       "<path d=\"M28.681 7.159c-0.694-0.947-1.662-2.053-2.724-3.116s-2.169-2.030-3.116-2.724c-1.612-1.182-2.393-1.319-2.841-1.319h-15.5c-1.378 0-2.5 1.121-2.5 2.5v27c0 1.378 1.122 2.5 2.5 2.5h23c1.378 0 2.5-1.122 2.5-2.5v-19.5c0-0.448-0.137-1.23-1.319-2.841zM24.543 5.457c0.959 0.959 1.712 1.825 2.268 2.543h-4.811v-4.811c0.718 0.556 1.584 1.309 2.543 2.268zM28 29.5c0 0.271-0.229 0.5-0.5 0.5h-23c-0.271 0-0.5-0.229-0.5-0.5v-27c0-0.271 0.229-0.5 0.5-0.5 0 0 15.499-0 15.5 0v7c0 0.552 0.448 1 1 1h7v19.5z\"></path>\n",
       "<path d=\"M23 26h-14c-0.552 0-1-0.448-1-1s0.448-1 1-1h14c0.552 0 1 0.448 1 1s-0.448 1-1 1z\"></path>\n",
       "<path d=\"M23 22h-14c-0.552 0-1-0.448-1-1s0.448-1 1-1h14c0.552 0 1 0.448 1 1s-0.448 1-1 1z\"></path>\n",
       "<path d=\"M23 18h-14c-0.552 0-1-0.448-1-1s0.448-1 1-1h14c0.552 0 1 0.448 1 1s-0.448 1-1 1z\"></path>\n",
       "</symbol>\n",
       "</defs>\n",
       "</svg>\n",
       "<style>/* CSS stylesheet for displaying xarray objects in jupyterlab.\n",
       " *\n",
       " */\n",
       "\n",
       ":root {\n",
       "  --xr-font-color0: var(--jp-content-font-color0, rgba(0, 0, 0, 1));\n",
       "  --xr-font-color2: var(--jp-content-font-color2, rgba(0, 0, 0, 0.54));\n",
       "  --xr-font-color3: var(--jp-content-font-color3, rgba(0, 0, 0, 0.38));\n",
       "  --xr-border-color: var(--jp-border-color2, #e0e0e0);\n",
       "  --xr-disabled-color: var(--jp-layout-color3, #bdbdbd);\n",
       "  --xr-background-color: var(--jp-layout-color0, white);\n",
       "  --xr-background-color-row-even: var(--jp-layout-color1, white);\n",
       "  --xr-background-color-row-odd: var(--jp-layout-color2, #eeeeee);\n",
       "}\n",
       "\n",
       "html[theme=dark],\n",
       "body[data-theme=dark],\n",
       "body.vscode-dark {\n",
       "  --xr-font-color0: rgba(255, 255, 255, 1);\n",
       "  --xr-font-color2: rgba(255, 255, 255, 0.54);\n",
       "  --xr-font-color3: rgba(255, 255, 255, 0.38);\n",
       "  --xr-border-color: #1F1F1F;\n",
       "  --xr-disabled-color: #515151;\n",
       "  --xr-background-color: #111111;\n",
       "  --xr-background-color-row-even: #111111;\n",
       "  --xr-background-color-row-odd: #313131;\n",
       "}\n",
       "\n",
       ".xr-wrap {\n",
       "  display: block !important;\n",
       "  min-width: 300px;\n",
       "  max-width: 700px;\n",
       "}\n",
       "\n",
       ".xr-text-repr-fallback {\n",
       "  /* fallback to plain text repr when CSS is not injected (untrusted notebook) */\n",
       "  display: none;\n",
       "}\n",
       "\n",
       ".xr-header {\n",
       "  padding-top: 6px;\n",
       "  padding-bottom: 6px;\n",
       "  margin-bottom: 4px;\n",
       "  border-bottom: solid 1px var(--xr-border-color);\n",
       "}\n",
       "\n",
       ".xr-header > div,\n",
       ".xr-header > ul {\n",
       "  display: inline;\n",
       "  margin-top: 0;\n",
       "  margin-bottom: 0;\n",
       "}\n",
       "\n",
       ".xr-obj-type,\n",
       ".xr-array-name {\n",
       "  margin-left: 2px;\n",
       "  margin-right: 10px;\n",
       "}\n",
       "\n",
       ".xr-obj-type {\n",
       "  color: var(--xr-font-color2);\n",
       "}\n",
       "\n",
       ".xr-sections {\n",
       "  padding-left: 0 !important;\n",
       "  display: grid;\n",
       "  grid-template-columns: 150px auto auto 1fr 20px 20px;\n",
       "}\n",
       "\n",
       ".xr-section-item {\n",
       "  display: contents;\n",
       "}\n",
       "\n",
       ".xr-section-item input {\n",
       "  display: none;\n",
       "}\n",
       "\n",
       ".xr-section-item input + label {\n",
       "  color: var(--xr-disabled-color);\n",
       "}\n",
       "\n",
       ".xr-section-item input:enabled + label {\n",
       "  cursor: pointer;\n",
       "  color: var(--xr-font-color2);\n",
       "}\n",
       "\n",
       ".xr-section-item input:enabled + label:hover {\n",
       "  color: var(--xr-font-color0);\n",
       "}\n",
       "\n",
       ".xr-section-summary {\n",
       "  grid-column: 1;\n",
       "  color: var(--xr-font-color2);\n",
       "  font-weight: 500;\n",
       "}\n",
       "\n",
       ".xr-section-summary > span {\n",
       "  display: inline-block;\n",
       "  padding-left: 0.5em;\n",
       "}\n",
       "\n",
       ".xr-section-summary-in:disabled + label {\n",
       "  color: var(--xr-font-color2);\n",
       "}\n",
       "\n",
       ".xr-section-summary-in + label:before {\n",
       "  display: inline-block;\n",
       "  content: '►';\n",
       "  font-size: 11px;\n",
       "  width: 15px;\n",
       "  text-align: center;\n",
       "}\n",
       "\n",
       ".xr-section-summary-in:disabled + label:before {\n",
       "  color: var(--xr-disabled-color);\n",
       "}\n",
       "\n",
       ".xr-section-summary-in:checked + label:before {\n",
       "  content: '▼';\n",
       "}\n",
       "\n",
       ".xr-section-summary-in:checked + label > span {\n",
       "  display: none;\n",
       "}\n",
       "\n",
       ".xr-section-summary,\n",
       ".xr-section-inline-details {\n",
       "  padding-top: 4px;\n",
       "  padding-bottom: 4px;\n",
       "}\n",
       "\n",
       ".xr-section-inline-details {\n",
       "  grid-column: 2 / -1;\n",
       "}\n",
       "\n",
       ".xr-section-details {\n",
       "  display: none;\n",
       "  grid-column: 1 / -1;\n",
       "  margin-bottom: 5px;\n",
       "}\n",
       "\n",
       ".xr-section-summary-in:checked ~ .xr-section-details {\n",
       "  display: contents;\n",
       "}\n",
       "\n",
       ".xr-array-wrap {\n",
       "  grid-column: 1 / -1;\n",
       "  display: grid;\n",
       "  grid-template-columns: 20px auto;\n",
       "}\n",
       "\n",
       ".xr-array-wrap > label {\n",
       "  grid-column: 1;\n",
       "  vertical-align: top;\n",
       "}\n",
       "\n",
       ".xr-preview {\n",
       "  color: var(--xr-font-color3);\n",
       "}\n",
       "\n",
       ".xr-array-preview,\n",
       ".xr-array-data {\n",
       "  padding: 0 5px !important;\n",
       "  grid-column: 2;\n",
       "}\n",
       "\n",
       ".xr-array-data,\n",
       ".xr-array-in:checked ~ .xr-array-preview {\n",
       "  display: none;\n",
       "}\n",
       "\n",
       ".xr-array-in:checked ~ .xr-array-data,\n",
       ".xr-array-preview {\n",
       "  display: inline-block;\n",
       "}\n",
       "\n",
       ".xr-dim-list {\n",
       "  display: inline-block !important;\n",
       "  list-style: none;\n",
       "  padding: 0 !important;\n",
       "  margin: 0;\n",
       "}\n",
       "\n",
       ".xr-dim-list li {\n",
       "  display: inline-block;\n",
       "  padding: 0;\n",
       "  margin: 0;\n",
       "}\n",
       "\n",
       ".xr-dim-list:before {\n",
       "  content: '(';\n",
       "}\n",
       "\n",
       ".xr-dim-list:after {\n",
       "  content: ')';\n",
       "}\n",
       "\n",
       ".xr-dim-list li:not(:last-child):after {\n",
       "  content: ',';\n",
       "  padding-right: 5px;\n",
       "}\n",
       "\n",
       ".xr-has-index {\n",
       "  font-weight: bold;\n",
       "}\n",
       "\n",
       ".xr-var-list,\n",
       ".xr-var-item {\n",
       "  display: contents;\n",
       "}\n",
       "\n",
       ".xr-var-item > div,\n",
       ".xr-var-item label,\n",
       ".xr-var-item > .xr-var-name span {\n",
       "  background-color: var(--xr-background-color-row-even);\n",
       "  margin-bottom: 0;\n",
       "}\n",
       "\n",
       ".xr-var-item > .xr-var-name:hover span {\n",
       "  padding-right: 5px;\n",
       "}\n",
       "\n",
       ".xr-var-list > li:nth-child(odd) > div,\n",
       ".xr-var-list > li:nth-child(odd) > label,\n",
       ".xr-var-list > li:nth-child(odd) > .xr-var-name span {\n",
       "  background-color: var(--xr-background-color-row-odd);\n",
       "}\n",
       "\n",
       ".xr-var-name {\n",
       "  grid-column: 1;\n",
       "}\n",
       "\n",
       ".xr-var-dims {\n",
       "  grid-column: 2;\n",
       "}\n",
       "\n",
       ".xr-var-dtype {\n",
       "  grid-column: 3;\n",
       "  text-align: right;\n",
       "  color: var(--xr-font-color2);\n",
       "}\n",
       "\n",
       ".xr-var-preview {\n",
       "  grid-column: 4;\n",
       "}\n",
       "\n",
       ".xr-var-name,\n",
       ".xr-var-dims,\n",
       ".xr-var-dtype,\n",
       ".xr-preview,\n",
       ".xr-attrs dt {\n",
       "  white-space: nowrap;\n",
       "  overflow: hidden;\n",
       "  text-overflow: ellipsis;\n",
       "  padding-right: 10px;\n",
       "}\n",
       "\n",
       ".xr-var-name:hover,\n",
       ".xr-var-dims:hover,\n",
       ".xr-var-dtype:hover,\n",
       ".xr-attrs dt:hover {\n",
       "  overflow: visible;\n",
       "  width: auto;\n",
       "  z-index: 1;\n",
       "}\n",
       "\n",
       ".xr-var-attrs,\n",
       ".xr-var-data {\n",
       "  display: none;\n",
       "  background-color: var(--xr-background-color) !important;\n",
       "  padding-bottom: 5px !important;\n",
       "}\n",
       "\n",
       ".xr-var-attrs-in:checked ~ .xr-var-attrs,\n",
       ".xr-var-data-in:checked ~ .xr-var-data {\n",
       "  display: block;\n",
       "}\n",
       "\n",
       ".xr-var-data > table {\n",
       "  float: right;\n",
       "}\n",
       "\n",
       ".xr-var-name span,\n",
       ".xr-var-data,\n",
       ".xr-attrs {\n",
       "  padding-left: 25px !important;\n",
       "}\n",
       "\n",
       ".xr-attrs,\n",
       ".xr-var-attrs,\n",
       ".xr-var-data {\n",
       "  grid-column: 1 / -1;\n",
       "}\n",
       "\n",
       "dl.xr-attrs {\n",
       "  padding: 0;\n",
       "  margin: 0;\n",
       "  display: grid;\n",
       "  grid-template-columns: 125px auto;\n",
       "}\n",
       "\n",
       ".xr-attrs dt,\n",
       ".xr-attrs dd {\n",
       "  padding: 0;\n",
       "  margin: 0;\n",
       "  float: left;\n",
       "  padding-right: 10px;\n",
       "  width: auto;\n",
       "}\n",
       "\n",
       ".xr-attrs dt {\n",
       "  font-weight: normal;\n",
       "  grid-column: 1;\n",
       "}\n",
       "\n",
       ".xr-attrs dt:hover span {\n",
       "  display: inline-block;\n",
       "  background: var(--xr-background-color);\n",
       "  padding-right: 10px;\n",
       "}\n",
       "\n",
       ".xr-attrs dd {\n",
       "  grid-column: 2;\n",
       "  white-space: pre-wrap;\n",
       "  word-break: break-all;\n",
       "}\n",
       "\n",
       ".xr-icon-database,\n",
       ".xr-icon-file-text2 {\n",
       "  display: inline-block;\n",
       "  vertical-align: middle;\n",
       "  width: 1em;\n",
       "  height: 1.5em !important;\n",
       "  stroke-width: 0;\n",
       "  stroke: currentColor;\n",
       "  fill: currentColor;\n",
       "}\n",
       "</style><pre class='xr-text-repr-fallback'>&lt;xarray.Dataset&gt;\n",
       "Dimensions:                               (line: 1519, sample: 24229, time: 12)\n",
       "Coordinates:\n",
       "  * line                                  (line) int64 0 1 2 ... 1516 1517 1518\n",
       "  * sample                                (sample) int64 0 1 2 ... 24227 24228\n",
       "  * time                                  (time) datetime64[ns] 2021-05-31T15...\n",
       "Data variables:\n",
       "    S1_SLC_20210531T151613_VV_372326_IW3  (line, sample) complex128 0j 0j ... 0j\n",
       "    S1_SLC_20210519T151612_VV_372326_IW3  (line, sample) complex128 0j 0j ... 0j\n",
       "    S1_SLC_20210507T151612_VV_372326_IW3  (line, sample) complex128 0j 0j ... 0j\n",
       "    S1_SLC_20210425T151611_VV_372326_IW3  (line, sample) complex128 0j 0j ... 0j\n",
       "    S1_SLC_20210413T151611_VV_372326_IW3  (line, sample) complex128 0j 0j ... 0j\n",
       "    S1_SLC_20210401T151610_VV_372326_IW3  (line, sample) complex128 0j 0j ... 0j\n",
       "    S1_SLC_20210320T151610_VV_372326_IW3  (line, sample) complex128 0j 0j ... 0j\n",
       "    S1_SLC_20210224T151610_VV_372326_IW3  (line, sample) complex128 0j 0j ... 0j\n",
       "    S1_SLC_20210212T151610_VV_372326_IW3  (line, sample) complex128 0j 0j ... 0j\n",
       "    S1_SLC_20210131T151610_VV_372326_IW3  (line, sample) complex128 0j 0j ... 0j\n",
       "    S1_SLC_20210119T151611_VV_372326_IW3  (line, sample) complex128 0j 0j ... 0j\n",
       "    S1_SLC_20210107T151611_VV_372326_IW3  (line, sample) complex128 0j 0j ... 0j</pre><div class='xr-wrap' style='display:none'><div class='xr-header'><div class='xr-obj-type'>xarray.Dataset</div></div><ul class='xr-sections'><li class='xr-section-item'><input id='section-805f5108-813f-4bf5-89de-fb68bac00e1f' class='xr-section-summary-in' type='checkbox' disabled ><label for='section-805f5108-813f-4bf5-89de-fb68bac00e1f' class='xr-section-summary'  title='Expand/collapse section'>Dimensions:</label><div class='xr-section-inline-details'><ul class='xr-dim-list'><li><span class='xr-has-index'>line</span>: 1519</li><li><span class='xr-has-index'>sample</span>: 24229</li><li><span class='xr-has-index'>time</span>: 12</li></ul></div><div class='xr-section-details'></div></li><li class='xr-section-item'><input id='section-7fc5237b-68ac-4c33-8db1-050dbe0243ac' class='xr-section-summary-in' type='checkbox'  checked><label for='section-7fc5237b-68ac-4c33-8db1-050dbe0243ac' class='xr-section-summary' >Coordinates: <span>(3)</span></label><div class='xr-section-inline-details'></div><div class='xr-section-details'><ul class='xr-var-list'><li class='xr-var-item'><div class='xr-var-name'><span class='xr-has-index'>line</span></div><div class='xr-var-dims'>(line)</div><div class='xr-var-dtype'>int64</div><div class='xr-var-preview xr-preview'>0 1 2 3 4 ... 1515 1516 1517 1518</div><input id='attrs-0d875f09-5636-4a8f-9fc0-f1a1591b350d' class='xr-var-attrs-in' type='checkbox' disabled><label for='attrs-0d875f09-5636-4a8f-9fc0-f1a1591b350d' title='Show/Hide attributes'><svg class='icon xr-icon-file-text2'><use xlink:href='#icon-file-text2'></use></svg></label><input id='data-bac7b766-4444-4757-a5df-8ca7147f1c82' class='xr-var-data-in' type='checkbox'><label for='data-bac7b766-4444-4757-a5df-8ca7147f1c82' title='Show/Hide data repr'><svg class='icon xr-icon-database'><use xlink:href='#icon-database'></use></svg></label><div class='xr-var-attrs'><dl class='xr-attrs'></dl></div><div class='xr-var-data'><pre>array([   0,    1,    2, ..., 1516, 1517, 1518])</pre></div></li><li class='xr-var-item'><div class='xr-var-name'><span class='xr-has-index'>sample</span></div><div class='xr-var-dims'>(sample)</div><div class='xr-var-dtype'>int64</div><div class='xr-var-preview xr-preview'>0 1 2 3 ... 24225 24226 24227 24228</div><input id='attrs-898479ea-5597-496b-a984-a48727ec2108' class='xr-var-attrs-in' type='checkbox' disabled><label for='attrs-898479ea-5597-496b-a984-a48727ec2108' title='Show/Hide attributes'><svg class='icon xr-icon-file-text2'><use xlink:href='#icon-file-text2'></use></svg></label><input id='data-7b3dd423-bc27-45ba-ade9-e8bc2943fa7f' class='xr-var-data-in' type='checkbox'><label for='data-7b3dd423-bc27-45ba-ade9-e8bc2943fa7f' title='Show/Hide data repr'><svg class='icon xr-icon-database'><use xlink:href='#icon-database'></use></svg></label><div class='xr-var-attrs'><dl class='xr-attrs'></dl></div><div class='xr-var-data'><pre>array([    0,     1,     2, ..., 24226, 24227, 24228])</pre></div></li><li class='xr-var-item'><div class='xr-var-name'><span class='xr-has-index'>time</span></div><div class='xr-var-dims'>(time)</div><div class='xr-var-dtype'>datetime64[ns]</div><div class='xr-var-preview xr-preview'>2021-05-31T15:16:13 ... 2021-01-...</div><input id='attrs-8d755b18-0ed2-42a1-a3fb-7196c27d73a9' class='xr-var-attrs-in' type='checkbox' disabled><label for='attrs-8d755b18-0ed2-42a1-a3fb-7196c27d73a9' title='Show/Hide attributes'><svg class='icon xr-icon-file-text2'><use xlink:href='#icon-file-text2'></use></svg></label><input id='data-2088c32e-c1f0-4a99-8dce-5dbf81ce3133' class='xr-var-data-in' type='checkbox'><label for='data-2088c32e-c1f0-4a99-8dce-5dbf81ce3133' title='Show/Hide data repr'><svg class='icon xr-icon-database'><use xlink:href='#icon-database'></use></svg></label><div class='xr-var-attrs'><dl class='xr-attrs'></dl></div><div class='xr-var-data'><pre>array([&#x27;2021-05-31T15:16:13.000000000&#x27;, &#x27;2021-05-19T15:16:12.000000000&#x27;,\n",
       "       &#x27;2021-05-07T15:16:12.000000000&#x27;, &#x27;2021-04-25T15:16:11.000000000&#x27;,\n",
       "       &#x27;2021-04-13T15:16:11.000000000&#x27;, &#x27;2021-04-01T15:16:10.000000000&#x27;,\n",
       "       &#x27;2021-03-20T15:16:10.000000000&#x27;, &#x27;2021-02-24T15:16:10.000000000&#x27;,\n",
       "       &#x27;2021-02-12T15:16:10.000000000&#x27;, &#x27;2021-01-31T15:16:10.000000000&#x27;,\n",
       "       &#x27;2021-01-19T15:16:11.000000000&#x27;, &#x27;2021-01-07T15:16:11.000000000&#x27;],\n",
       "      dtype=&#x27;datetime64[ns]&#x27;)</pre></div></li></ul></div></li><li class='xr-section-item'><input id='section-e957d225-1402-49ef-965f-b20acdeb26e4' class='xr-section-summary-in' type='checkbox'  checked><label for='section-e957d225-1402-49ef-965f-b20acdeb26e4' class='xr-section-summary' >Data variables: <span>(12)</span></label><div class='xr-section-inline-details'></div><div class='xr-section-details'><ul class='xr-var-list'><li class='xr-var-item'><div class='xr-var-name'><span>S1_SLC_20210531T151613_VV_372326_IW3</span></div><div class='xr-var-dims'>(line, sample)</div><div class='xr-var-dtype'>complex128</div><div class='xr-var-preview xr-preview'>0j 0j 0j 0j 0j ... 0j 0j 0j 0j 0j</div><input id='attrs-d24d4d51-fdb3-4212-bf3c-3903b5a286d1' class='xr-var-attrs-in' type='checkbox' ><label for='attrs-d24d4d51-fdb3-4212-bf3c-3903b5a286d1' title='Show/Hide attributes'><svg class='icon xr-icon-file-text2'><use xlink:href='#icon-file-text2'></use></svg></label><input id='data-37d47cb7-b599-40fe-b64c-50bd3bf2c2d3' class='xr-var-data-in' type='checkbox'><label for='data-37d47cb7-b599-40fe-b64c-50bd3bf2c2d3' title='Show/Hide data repr'><svg class='icon xr-icon-database'><use xlink:href='#icon-database'></use></svg></label><div class='xr-var-attrs'><dl class='xr-attrs'><dt><span>stack_id :</span></dt><dd>372326_IW3</dd><dt><span>datetime :</span></dt><dd>2021-05-31 15:16:13</dd><dt><span>id :</span></dt><dd>S1_SLC_20210531T151613_VV_372326_IW3</dd></dl></div><div class='xr-var-data'><pre>array([[0.+0.j, 0.+0.j, 0.+0.j, ..., 0.+0.j, 0.+0.j, 0.+0.j],\n",
       "       [0.+0.j, 0.+0.j, 0.+0.j, ..., 0.+0.j, 0.+0.j, 0.+0.j],\n",
       "       [0.+0.j, 0.+0.j, 0.+0.j, ..., 0.+0.j, 0.+0.j, 0.+0.j],\n",
       "       ...,\n",
       "       [0.+0.j, 0.+0.j, 0.+0.j, ..., 0.+0.j, 0.+0.j, 0.+0.j],\n",
       "       [0.+0.j, 0.+0.j, 0.+0.j, ..., 0.+0.j, 0.+0.j, 0.+0.j],\n",
       "       [0.+0.j, 0.+0.j, 0.+0.j, ..., 0.+0.j, 0.+0.j, 0.+0.j]])</pre></div></li><li class='xr-var-item'><div class='xr-var-name'><span>S1_SLC_20210519T151612_VV_372326_IW3</span></div><div class='xr-var-dims'>(line, sample)</div><div class='xr-var-dtype'>complex128</div><div class='xr-var-preview xr-preview'>0j 0j 0j 0j 0j ... 0j 0j 0j 0j 0j</div><input id='attrs-457becd1-9774-4b72-8b7d-b1f1f51a97a0' class='xr-var-attrs-in' type='checkbox' ><label for='attrs-457becd1-9774-4b72-8b7d-b1f1f51a97a0' title='Show/Hide attributes'><svg class='icon xr-icon-file-text2'><use xlink:href='#icon-file-text2'></use></svg></label><input id='data-982abdeb-71a7-47f3-ad27-fd985e75bbf8' class='xr-var-data-in' type='checkbox'><label for='data-982abdeb-71a7-47f3-ad27-fd985e75bbf8' title='Show/Hide data repr'><svg class='icon xr-icon-database'><use xlink:href='#icon-database'></use></svg></label><div class='xr-var-attrs'><dl class='xr-attrs'><dt><span>stack_id :</span></dt><dd>372326_IW3</dd><dt><span>datetime :</span></dt><dd>2021-05-19 15:16:12</dd><dt><span>id :</span></dt><dd>S1_SLC_20210519T151612_VV_372326_IW3</dd></dl></div><div class='xr-var-data'><pre>array([[0.+0.j, 0.+0.j, 0.+0.j, ..., 0.+0.j, 0.+0.j, 0.+0.j],\n",
       "       [0.+0.j, 0.+0.j, 0.+0.j, ..., 0.+0.j, 0.+0.j, 0.+0.j],\n",
       "       [0.+0.j, 0.+0.j, 0.+0.j, ..., 0.+0.j, 0.+0.j, 0.+0.j],\n",
       "       ...,\n",
       "       [0.+0.j, 0.+0.j, 0.+0.j, ..., 0.+0.j, 0.+0.j, 0.+0.j],\n",
       "       [0.+0.j, 0.+0.j, 0.+0.j, ..., 0.+0.j, 0.+0.j, 0.+0.j],\n",
       "       [0.+0.j, 0.+0.j, 0.+0.j, ..., 0.+0.j, 0.+0.j, 0.+0.j]])</pre></div></li><li class='xr-var-item'><div class='xr-var-name'><span>S1_SLC_20210507T151612_VV_372326_IW3</span></div><div class='xr-var-dims'>(line, sample)</div><div class='xr-var-dtype'>complex128</div><div class='xr-var-preview xr-preview'>0j 0j 0j 0j 0j ... 0j 0j 0j 0j 0j</div><input id='attrs-db7e5000-bd71-4d11-9d32-393301ecffd6' class='xr-var-attrs-in' type='checkbox' ><label for='attrs-db7e5000-bd71-4d11-9d32-393301ecffd6' title='Show/Hide attributes'><svg class='icon xr-icon-file-text2'><use xlink:href='#icon-file-text2'></use></svg></label><input id='data-a432e5c8-9c4f-4fe9-b828-4d458672a125' class='xr-var-data-in' type='checkbox'><label for='data-a432e5c8-9c4f-4fe9-b828-4d458672a125' title='Show/Hide data repr'><svg class='icon xr-icon-database'><use xlink:href='#icon-database'></use></svg></label><div class='xr-var-attrs'><dl class='xr-attrs'><dt><span>stack_id :</span></dt><dd>372326_IW3</dd><dt><span>datetime :</span></dt><dd>2021-05-07 15:16:12</dd><dt><span>id :</span></dt><dd>S1_SLC_20210507T151612_VV_372326_IW3</dd></dl></div><div class='xr-var-data'><pre>array([[0.+0.j, 0.+0.j, 0.+0.j, ..., 0.+0.j, 0.+0.j, 0.+0.j],\n",
       "       [0.+0.j, 0.+0.j, 0.+0.j, ..., 0.+0.j, 0.+0.j, 0.+0.j],\n",
       "       [0.+0.j, 0.+0.j, 0.+0.j, ..., 0.+0.j, 0.+0.j, 0.+0.j],\n",
       "       ...,\n",
       "       [0.+0.j, 0.+0.j, 0.+0.j, ..., 0.+0.j, 0.+0.j, 0.+0.j],\n",
       "       [0.+0.j, 0.+0.j, 0.+0.j, ..., 0.+0.j, 0.+0.j, 0.+0.j],\n",
       "       [0.+0.j, 0.+0.j, 0.+0.j, ..., 0.+0.j, 0.+0.j, 0.+0.j]])</pre></div></li><li class='xr-var-item'><div class='xr-var-name'><span>S1_SLC_20210425T151611_VV_372326_IW3</span></div><div class='xr-var-dims'>(line, sample)</div><div class='xr-var-dtype'>complex128</div><div class='xr-var-preview xr-preview'>0j 0j 0j 0j 0j ... 0j 0j 0j 0j 0j</div><input id='attrs-6150c792-c4b2-4f88-b804-0c52f69a065a' class='xr-var-attrs-in' type='checkbox' ><label for='attrs-6150c792-c4b2-4f88-b804-0c52f69a065a' title='Show/Hide attributes'><svg class='icon xr-icon-file-text2'><use xlink:href='#icon-file-text2'></use></svg></label><input id='data-7bc3a97a-2414-4d9d-b79c-b759d99ca258' class='xr-var-data-in' type='checkbox'><label for='data-7bc3a97a-2414-4d9d-b79c-b759d99ca258' title='Show/Hide data repr'><svg class='icon xr-icon-database'><use xlink:href='#icon-database'></use></svg></label><div class='xr-var-attrs'><dl class='xr-attrs'><dt><span>stack_id :</span></dt><dd>372326_IW3</dd><dt><span>datetime :</span></dt><dd>2021-04-25 15:16:11</dd><dt><span>id :</span></dt><dd>S1_SLC_20210425T151611_VV_372326_IW3</dd></dl></div><div class='xr-var-data'><pre>array([[0.+0.j, 0.+0.j, 0.+0.j, ..., 0.+0.j, 0.+0.j, 0.+0.j],\n",
       "       [0.+0.j, 0.+0.j, 0.+0.j, ..., 0.+0.j, 0.+0.j, 0.+0.j],\n",
       "       [0.+0.j, 0.+0.j, 0.+0.j, ..., 0.+0.j, 0.+0.j, 0.+0.j],\n",
       "       ...,\n",
       "       [0.+0.j, 0.+0.j, 0.+0.j, ..., 0.+0.j, 0.+0.j, 0.+0.j],\n",
       "       [0.+0.j, 0.+0.j, 0.+0.j, ..., 0.+0.j, 0.+0.j, 0.+0.j],\n",
       "       [0.+0.j, 0.+0.j, 0.+0.j, ..., 0.+0.j, 0.+0.j, 0.+0.j]])</pre></div></li><li class='xr-var-item'><div class='xr-var-name'><span>S1_SLC_20210413T151611_VV_372326_IW3</span></div><div class='xr-var-dims'>(line, sample)</div><div class='xr-var-dtype'>complex128</div><div class='xr-var-preview xr-preview'>0j 0j 0j 0j 0j ... 0j 0j 0j 0j 0j</div><input id='attrs-ca53bee6-7401-49c5-96e4-b70f280df8aa' class='xr-var-attrs-in' type='checkbox' ><label for='attrs-ca53bee6-7401-49c5-96e4-b70f280df8aa' title='Show/Hide attributes'><svg class='icon xr-icon-file-text2'><use xlink:href='#icon-file-text2'></use></svg></label><input id='data-53c2d229-afe6-48f8-92dd-becdaf41768b' class='xr-var-data-in' type='checkbox'><label for='data-53c2d229-afe6-48f8-92dd-becdaf41768b' title='Show/Hide data repr'><svg class='icon xr-icon-database'><use xlink:href='#icon-database'></use></svg></label><div class='xr-var-attrs'><dl class='xr-attrs'><dt><span>stack_id :</span></dt><dd>372326_IW3</dd><dt><span>datetime :</span></dt><dd>2021-04-13 15:16:11</dd><dt><span>id :</span></dt><dd>S1_SLC_20210413T151611_VV_372326_IW3</dd></dl></div><div class='xr-var-data'><pre>array([[0.+0.j, 0.+0.j, 0.+0.j, ..., 0.+0.j, 0.+0.j, 0.+0.j],\n",
       "       [0.+0.j, 0.+0.j, 0.+0.j, ..., 0.+0.j, 0.+0.j, 0.+0.j],\n",
       "       [0.+0.j, 0.+0.j, 0.+0.j, ..., 0.+0.j, 0.+0.j, 0.+0.j],\n",
       "       ...,\n",
       "       [0.+0.j, 0.+0.j, 0.+0.j, ..., 0.+0.j, 0.+0.j, 0.+0.j],\n",
       "       [0.+0.j, 0.+0.j, 0.+0.j, ..., 0.+0.j, 0.+0.j, 0.+0.j],\n",
       "       [0.+0.j, 0.+0.j, 0.+0.j, ..., 0.+0.j, 0.+0.j, 0.+0.j]])</pre></div></li><li class='xr-var-item'><div class='xr-var-name'><span>S1_SLC_20210401T151610_VV_372326_IW3</span></div><div class='xr-var-dims'>(line, sample)</div><div class='xr-var-dtype'>complex128</div><div class='xr-var-preview xr-preview'>0j 0j 0j 0j 0j ... 0j 0j 0j 0j 0j</div><input id='attrs-3664d079-5d45-4128-b5d8-77cc4352a56c' class='xr-var-attrs-in' type='checkbox' ><label for='attrs-3664d079-5d45-4128-b5d8-77cc4352a56c' title='Show/Hide attributes'><svg class='icon xr-icon-file-text2'><use xlink:href='#icon-file-text2'></use></svg></label><input id='data-4f208669-9c5b-4b93-978d-64d5c4a333e5' class='xr-var-data-in' type='checkbox'><label for='data-4f208669-9c5b-4b93-978d-64d5c4a333e5' title='Show/Hide data repr'><svg class='icon xr-icon-database'><use xlink:href='#icon-database'></use></svg></label><div class='xr-var-attrs'><dl class='xr-attrs'><dt><span>stack_id :</span></dt><dd>372326_IW3</dd><dt><span>datetime :</span></dt><dd>2021-04-01 15:16:10</dd><dt><span>id :</span></dt><dd>S1_SLC_20210401T151610_VV_372326_IW3</dd></dl></div><div class='xr-var-data'><pre>array([[0.+0.j, 0.+0.j, 0.+0.j, ..., 0.+0.j, 0.+0.j, 0.+0.j],\n",
       "       [0.+0.j, 0.+0.j, 0.+0.j, ..., 0.+0.j, 0.+0.j, 0.+0.j],\n",
       "       [0.+0.j, 0.+0.j, 0.+0.j, ..., 0.+0.j, 0.+0.j, 0.+0.j],\n",
       "       ...,\n",
       "       [0.+0.j, 0.+0.j, 0.+0.j, ..., 0.+0.j, 0.+0.j, 0.+0.j],\n",
       "       [0.+0.j, 0.+0.j, 0.+0.j, ..., 0.+0.j, 0.+0.j, 0.+0.j],\n",
       "       [0.+0.j, 0.+0.j, 0.+0.j, ..., 0.+0.j, 0.+0.j, 0.+0.j]])</pre></div></li><li class='xr-var-item'><div class='xr-var-name'><span>S1_SLC_20210320T151610_VV_372326_IW3</span></div><div class='xr-var-dims'>(line, sample)</div><div class='xr-var-dtype'>complex128</div><div class='xr-var-preview xr-preview'>0j 0j 0j 0j 0j ... 0j 0j 0j 0j 0j</div><input id='attrs-abacd2c2-4999-4950-bb13-bba257488bff' class='xr-var-attrs-in' type='checkbox' ><label for='attrs-abacd2c2-4999-4950-bb13-bba257488bff' title='Show/Hide attributes'><svg class='icon xr-icon-file-text2'><use xlink:href='#icon-file-text2'></use></svg></label><input id='data-cb0dfe8d-13d2-4fe8-a232-eb054699238d' class='xr-var-data-in' type='checkbox'><label for='data-cb0dfe8d-13d2-4fe8-a232-eb054699238d' title='Show/Hide data repr'><svg class='icon xr-icon-database'><use xlink:href='#icon-database'></use></svg></label><div class='xr-var-attrs'><dl class='xr-attrs'><dt><span>stack_id :</span></dt><dd>372326_IW3</dd><dt><span>datetime :</span></dt><dd>2021-03-20 15:16:10</dd><dt><span>id :</span></dt><dd>S1_SLC_20210320T151610_VV_372326_IW3</dd></dl></div><div class='xr-var-data'><pre>array([[0.+0.j, 0.+0.j, 0.+0.j, ..., 0.+0.j, 0.+0.j, 0.+0.j],\n",
       "       [0.+0.j, 0.+0.j, 0.+0.j, ..., 0.+0.j, 0.+0.j, 0.+0.j],\n",
       "       [0.+0.j, 0.+0.j, 0.+0.j, ..., 0.+0.j, 0.+0.j, 0.+0.j],\n",
       "       ...,\n",
       "       [0.+0.j, 0.+0.j, 0.+0.j, ..., 0.+0.j, 0.+0.j, 0.+0.j],\n",
       "       [0.+0.j, 0.+0.j, 0.+0.j, ..., 0.+0.j, 0.+0.j, 0.+0.j],\n",
       "       [0.+0.j, 0.+0.j, 0.+0.j, ..., 0.+0.j, 0.+0.j, 0.+0.j]])</pre></div></li><li class='xr-var-item'><div class='xr-var-name'><span>S1_SLC_20210224T151610_VV_372326_IW3</span></div><div class='xr-var-dims'>(line, sample)</div><div class='xr-var-dtype'>complex128</div><div class='xr-var-preview xr-preview'>0j 0j 0j 0j 0j ... 0j 0j 0j 0j 0j</div><input id='attrs-8c4abc25-585e-4690-9334-0f74c0ec335a' class='xr-var-attrs-in' type='checkbox' ><label for='attrs-8c4abc25-585e-4690-9334-0f74c0ec335a' title='Show/Hide attributes'><svg class='icon xr-icon-file-text2'><use xlink:href='#icon-file-text2'></use></svg></label><input id='data-7d09dbd6-870b-448b-af03-271b0cca0dd5' class='xr-var-data-in' type='checkbox'><label for='data-7d09dbd6-870b-448b-af03-271b0cca0dd5' title='Show/Hide data repr'><svg class='icon xr-icon-database'><use xlink:href='#icon-database'></use></svg></label><div class='xr-var-attrs'><dl class='xr-attrs'><dt><span>stack_id :</span></dt><dd>372326_IW3</dd><dt><span>datetime :</span></dt><dd>2021-02-24 15:16:10</dd><dt><span>id :</span></dt><dd>S1_SLC_20210224T151610_VV_372326_IW3</dd></dl></div><div class='xr-var-data'><pre>array([[0.+0.j, 0.+0.j, 0.+0.j, ..., 0.+0.j, 0.+0.j, 0.+0.j],\n",
       "       [0.+0.j, 0.+0.j, 0.+0.j, ..., 0.+0.j, 0.+0.j, 0.+0.j],\n",
       "       [0.+0.j, 0.+0.j, 0.+0.j, ..., 0.+0.j, 0.+0.j, 0.+0.j],\n",
       "       ...,\n",
       "       [0.+0.j, 0.+0.j, 0.+0.j, ..., 0.+0.j, 0.+0.j, 0.+0.j],\n",
       "       [0.+0.j, 0.+0.j, 0.+0.j, ..., 0.+0.j, 0.+0.j, 0.+0.j],\n",
       "       [0.+0.j, 0.+0.j, 0.+0.j, ..., 0.+0.j, 0.+0.j, 0.+0.j]])</pre></div></li><li class='xr-var-item'><div class='xr-var-name'><span>S1_SLC_20210212T151610_VV_372326_IW3</span></div><div class='xr-var-dims'>(line, sample)</div><div class='xr-var-dtype'>complex128</div><div class='xr-var-preview xr-preview'>0j 0j 0j 0j 0j ... 0j 0j 0j 0j 0j</div><input id='attrs-6ed82afb-0165-4ae9-ba68-26c3cd7c68a0' class='xr-var-attrs-in' type='checkbox' ><label for='attrs-6ed82afb-0165-4ae9-ba68-26c3cd7c68a0' title='Show/Hide attributes'><svg class='icon xr-icon-file-text2'><use xlink:href='#icon-file-text2'></use></svg></label><input id='data-5563c541-2fe1-4f22-b8b1-98bb1ff6dbdb' class='xr-var-data-in' type='checkbox'><label for='data-5563c541-2fe1-4f22-b8b1-98bb1ff6dbdb' title='Show/Hide data repr'><svg class='icon xr-icon-database'><use xlink:href='#icon-database'></use></svg></label><div class='xr-var-attrs'><dl class='xr-attrs'><dt><span>stack_id :</span></dt><dd>372326_IW3</dd><dt><span>datetime :</span></dt><dd>2021-02-12 15:16:10</dd><dt><span>id :</span></dt><dd>S1_SLC_20210212T151610_VV_372326_IW3</dd></dl></div><div class='xr-var-data'><pre>array([[0.+0.j, 0.+0.j, 0.+0.j, ..., 0.+0.j, 0.+0.j, 0.+0.j],\n",
       "       [0.+0.j, 0.+0.j, 0.+0.j, ..., 0.+0.j, 0.+0.j, 0.+0.j],\n",
       "       [0.+0.j, 0.+0.j, 0.+0.j, ..., 0.+0.j, 0.+0.j, 0.+0.j],\n",
       "       ...,\n",
       "       [0.+0.j, 0.+0.j, 0.+0.j, ..., 0.+0.j, 0.+0.j, 0.+0.j],\n",
       "       [0.+0.j, 0.+0.j, 0.+0.j, ..., 0.+0.j, 0.+0.j, 0.+0.j],\n",
       "       [0.+0.j, 0.+0.j, 0.+0.j, ..., 0.+0.j, 0.+0.j, 0.+0.j]])</pre></div></li><li class='xr-var-item'><div class='xr-var-name'><span>S1_SLC_20210131T151610_VV_372326_IW3</span></div><div class='xr-var-dims'>(line, sample)</div><div class='xr-var-dtype'>complex128</div><div class='xr-var-preview xr-preview'>0j 0j 0j 0j 0j ... 0j 0j 0j 0j 0j</div><input id='attrs-bb1dddd2-edbe-4a4a-a5ab-2924485919ea' class='xr-var-attrs-in' type='checkbox' ><label for='attrs-bb1dddd2-edbe-4a4a-a5ab-2924485919ea' title='Show/Hide attributes'><svg class='icon xr-icon-file-text2'><use xlink:href='#icon-file-text2'></use></svg></label><input id='data-59981671-e457-4776-af22-95a03e1a910c' class='xr-var-data-in' type='checkbox'><label for='data-59981671-e457-4776-af22-95a03e1a910c' title='Show/Hide data repr'><svg class='icon xr-icon-database'><use xlink:href='#icon-database'></use></svg></label><div class='xr-var-attrs'><dl class='xr-attrs'><dt><span>stack_id :</span></dt><dd>372326_IW3</dd><dt><span>datetime :</span></dt><dd>2021-01-31 15:16:10</dd><dt><span>id :</span></dt><dd>S1_SLC_20210131T151610_VV_372326_IW3</dd></dl></div><div class='xr-var-data'><pre>array([[0.+0.j, 0.+0.j, 0.+0.j, ..., 0.+0.j, 0.+0.j, 0.+0.j],\n",
       "       [0.+0.j, 0.+0.j, 0.+0.j, ..., 0.+0.j, 0.+0.j, 0.+0.j],\n",
       "       [0.+0.j, 0.+0.j, 0.+0.j, ..., 0.+0.j, 0.+0.j, 0.+0.j],\n",
       "       ...,\n",
       "       [0.+0.j, 0.+0.j, 0.+0.j, ..., 0.+0.j, 0.+0.j, 0.+0.j],\n",
       "       [0.+0.j, 0.+0.j, 0.+0.j, ..., 0.+0.j, 0.+0.j, 0.+0.j],\n",
       "       [0.+0.j, 0.+0.j, 0.+0.j, ..., 0.+0.j, 0.+0.j, 0.+0.j]])</pre></div></li><li class='xr-var-item'><div class='xr-var-name'><span>S1_SLC_20210119T151611_VV_372326_IW3</span></div><div class='xr-var-dims'>(line, sample)</div><div class='xr-var-dtype'>complex128</div><div class='xr-var-preview xr-preview'>0j 0j 0j 0j 0j ... 0j 0j 0j 0j 0j</div><input id='attrs-f86ed09f-3650-4b9d-ae54-d38aad483d08' class='xr-var-attrs-in' type='checkbox' ><label for='attrs-f86ed09f-3650-4b9d-ae54-d38aad483d08' title='Show/Hide attributes'><svg class='icon xr-icon-file-text2'><use xlink:href='#icon-file-text2'></use></svg></label><input id='data-84a2e439-457e-4407-af0d-40b75dcf2780' class='xr-var-data-in' type='checkbox'><label for='data-84a2e439-457e-4407-af0d-40b75dcf2780' title='Show/Hide data repr'><svg class='icon xr-icon-database'><use xlink:href='#icon-database'></use></svg></label><div class='xr-var-attrs'><dl class='xr-attrs'><dt><span>stack_id :</span></dt><dd>372326_IW3</dd><dt><span>datetime :</span></dt><dd>2021-01-19 15:16:11</dd><dt><span>id :</span></dt><dd>S1_SLC_20210119T151611_VV_372326_IW3</dd></dl></div><div class='xr-var-data'><pre>array([[0.+0.j, 0.+0.j, 0.+0.j, ..., 0.+0.j, 0.+0.j, 0.+0.j],\n",
       "       [0.+0.j, 0.+0.j, 0.+0.j, ..., 0.+0.j, 0.+0.j, 0.+0.j],\n",
       "       [0.+0.j, 0.+0.j, 0.+0.j, ..., 0.+0.j, 0.+0.j, 0.+0.j],\n",
       "       ...,\n",
       "       [0.+0.j, 0.+0.j, 0.+0.j, ..., 0.+0.j, 0.+0.j, 0.+0.j],\n",
       "       [0.+0.j, 0.+0.j, 0.+0.j, ..., 0.+0.j, 0.+0.j, 0.+0.j],\n",
       "       [0.+0.j, 0.+0.j, 0.+0.j, ..., 0.+0.j, 0.+0.j, 0.+0.j]])</pre></div></li><li class='xr-var-item'><div class='xr-var-name'><span>S1_SLC_20210107T151611_VV_372326_IW3</span></div><div class='xr-var-dims'>(line, sample)</div><div class='xr-var-dtype'>complex128</div><div class='xr-var-preview xr-preview'>0j 0j 0j 0j 0j ... 0j 0j 0j 0j 0j</div><input id='attrs-81640d16-e480-4657-bac6-15dcbffd9cea' class='xr-var-attrs-in' type='checkbox' ><label for='attrs-81640d16-e480-4657-bac6-15dcbffd9cea' title='Show/Hide attributes'><svg class='icon xr-icon-file-text2'><use xlink:href='#icon-file-text2'></use></svg></label><input id='data-1f5086d3-3e8a-48d6-85d4-6fadc766f78e' class='xr-var-data-in' type='checkbox'><label for='data-1f5086d3-3e8a-48d6-85d4-6fadc766f78e' title='Show/Hide data repr'><svg class='icon xr-icon-database'><use xlink:href='#icon-database'></use></svg></label><div class='xr-var-attrs'><dl class='xr-attrs'><dt><span>stack_id :</span></dt><dd>372326_IW3</dd><dt><span>datetime :</span></dt><dd>2021-01-07 15:16:11</dd><dt><span>id :</span></dt><dd>S1_SLC_20210107T151611_VV_372326_IW3</dd></dl></div><div class='xr-var-data'><pre>array([[0.+0.j, 0.+0.j, 0.+0.j, ..., 0.+0.j, 0.+0.j, 0.+0.j],\n",
       "       [0.+0.j, 0.+0.j, 0.+0.j, ..., 0.+0.j, 0.+0.j, 0.+0.j],\n",
       "       [0.+0.j, 0.+0.j, 0.+0.j, ..., 0.+0.j, 0.+0.j, 0.+0.j],\n",
       "       ...,\n",
       "       [0.+0.j, 0.+0.j, 0.+0.j, ..., 0.+0.j, 0.+0.j, 0.+0.j],\n",
       "       [0.+0.j, 0.+0.j, 0.+0.j, ..., 0.+0.j, 0.+0.j, 0.+0.j],\n",
       "       [0.+0.j, 0.+0.j, 0.+0.j, ..., 0.+0.j, 0.+0.j, 0.+0.j]])</pre></div></li></ul></div></li><li class='xr-section-item'><input id='section-f627e8b2-e6d2-472b-be29-463d196f505f' class='xr-section-summary-in' type='checkbox' disabled ><label for='section-f627e8b2-e6d2-472b-be29-463d196f505f' class='xr-section-summary'  title='Expand/collapse section'>Attributes: <span>(0)</span></label><div class='xr-section-inline-details'></div><div class='xr-section-details'><dl class='xr-attrs'></dl></div></li></ul></div></div>"
      ],
      "text/plain": [
       "<xarray.Dataset>\n",
       "Dimensions:                               (line: 1519, sample: 24229, time: 12)\n",
       "Coordinates:\n",
       "  * line                                  (line) int64 0 1 2 ... 1516 1517 1518\n",
       "  * sample                                (sample) int64 0 1 2 ... 24227 24228\n",
       "  * time                                  (time) datetime64[ns] 2021-05-31T15...\n",
       "Data variables:\n",
       "    S1_SLC_20210531T151613_VV_372326_IW3  (line, sample) complex128 0j 0j ... 0j\n",
       "    S1_SLC_20210519T151612_VV_372326_IW3  (line, sample) complex128 0j 0j ... 0j\n",
       "    S1_SLC_20210507T151612_VV_372326_IW3  (line, sample) complex128 0j 0j ... 0j\n",
       "    S1_SLC_20210425T151611_VV_372326_IW3  (line, sample) complex128 0j 0j ... 0j\n",
       "    S1_SLC_20210413T151611_VV_372326_IW3  (line, sample) complex128 0j 0j ... 0j\n",
       "    S1_SLC_20210401T151610_VV_372326_IW3  (line, sample) complex128 0j 0j ... 0j\n",
       "    S1_SLC_20210320T151610_VV_372326_IW3  (line, sample) complex128 0j 0j ... 0j\n",
       "    S1_SLC_20210224T151610_VV_372326_IW3  (line, sample) complex128 0j 0j ... 0j\n",
       "    S1_SLC_20210212T151610_VV_372326_IW3  (line, sample) complex128 0j 0j ... 0j\n",
       "    S1_SLC_20210131T151610_VV_372326_IW3  (line, sample) complex128 0j 0j ... 0j\n",
       "    S1_SLC_20210119T151611_VV_372326_IW3  (line, sample) complex128 0j 0j ... 0j\n",
       "    S1_SLC_20210107T151611_VV_372326_IW3  (line, sample) complex128 0j 0j ... 0j"
      ]
     },
     "execution_count": 21,
     "metadata": {},
     "output_type": "execute_result"
    }
   ],
   "source": [
    "stack_dataset"
   ]
  },
  {
   "cell_type": "code",
   "execution_count": 22,
   "metadata": {
    "collapsed": false,
    "jupyter": {
     "outputs_hidden": false
    },
    "pycharm": {
     "name": "#%%\n"
    }
   },
   "outputs": [
    {
     "ename": "TypeError",
     "evalue": "Invalid attribute in Dataset.attrs.",
     "output_type": "error",
     "traceback": [
      "\u001B[0;31m---------------------------------------------------------------------------\u001B[0m",
      "\u001B[0;31mTypeError\u001B[0m                                 Traceback (most recent call last)",
      "File \u001B[0;32m~/mambaforge/envs/burst-workflow/lib/python3.10/site-packages/xarray/backends/zarr.py:328\u001B[0m, in \u001B[0;36m_put_attrs\u001B[0;34m(zarr_obj, attrs)\u001B[0m\n\u001B[1;32m    327\u001B[0m \u001B[38;5;28;01mtry\u001B[39;00m:\n\u001B[0;32m--> 328\u001B[0m     \u001B[43mzarr_obj\u001B[49m\u001B[38;5;241;43m.\u001B[39;49m\u001B[43mattrs\u001B[49m\u001B[38;5;241;43m.\u001B[39;49m\u001B[43mput\u001B[49m\u001B[43m(\u001B[49m\u001B[43mattrs\u001B[49m\u001B[43m)\u001B[49m\n\u001B[1;32m    329\u001B[0m \u001B[38;5;28;01mexcept\u001B[39;00m \u001B[38;5;167;01mTypeError\u001B[39;00m \u001B[38;5;28;01mas\u001B[39;00m e:\n",
      "File \u001B[0;32m~/mambaforge/envs/burst-workflow/lib/python3.10/site-packages/zarr/attrs.py:126\u001B[0m, in \u001B[0;36mAttributes.put\u001B[0;34m(self, d)\u001B[0m\n\u001B[1;32m    125\u001B[0m \u001B[38;5;28;01mif\u001B[39;00m \u001B[38;5;28mself\u001B[39m\u001B[38;5;241m.\u001B[39m_version \u001B[38;5;241m==\u001B[39m \u001B[38;5;241m2\u001B[39m:\n\u001B[0;32m--> 126\u001B[0m     \u001B[38;5;28;43mself\u001B[39;49m\u001B[38;5;241;43m.\u001B[39;49m\u001B[43m_write_op\u001B[49m\u001B[43m(\u001B[49m\u001B[38;5;28;43mself\u001B[39;49m\u001B[38;5;241;43m.\u001B[39;49m\u001B[43m_put_nosync\u001B[49m\u001B[43m,\u001B[49m\u001B[43m \u001B[49m\u001B[43md\u001B[49m\u001B[43m)\u001B[49m\n\u001B[1;32m    127\u001B[0m \u001B[38;5;28;01melse\u001B[39;00m:\n",
      "File \u001B[0;32m~/mambaforge/envs/burst-workflow/lib/python3.10/site-packages/zarr/attrs.py:83\u001B[0m, in \u001B[0;36mAttributes._write_op\u001B[0;34m(self, f, *args, **kwargs)\u001B[0m\n\u001B[1;32m     82\u001B[0m \u001B[38;5;28;01mif\u001B[39;00m \u001B[38;5;28mself\u001B[39m\u001B[38;5;241m.\u001B[39msynchronizer \u001B[38;5;129;01mis\u001B[39;00m \u001B[38;5;28;01mNone\u001B[39;00m:\n\u001B[0;32m---> 83\u001B[0m     \u001B[38;5;28;01mreturn\u001B[39;00m \u001B[43mf\u001B[49m\u001B[43m(\u001B[49m\u001B[38;5;241;43m*\u001B[39;49m\u001B[43margs\u001B[49m\u001B[43m,\u001B[49m\u001B[43m \u001B[49m\u001B[38;5;241;43m*\u001B[39;49m\u001B[38;5;241;43m*\u001B[39;49m\u001B[43mkwargs\u001B[49m\u001B[43m)\u001B[49m\n\u001B[1;32m     84\u001B[0m \u001B[38;5;28;01melse\u001B[39;00m:\n",
      "File \u001B[0;32m~/mambaforge/envs/burst-workflow/lib/python3.10/site-packages/zarr/attrs.py:132\u001B[0m, in \u001B[0;36mAttributes._put_nosync\u001B[0;34m(self, d)\u001B[0m\n\u001B[1;32m    131\u001B[0m \u001B[38;5;28;01mif\u001B[39;00m \u001B[38;5;28mself\u001B[39m\u001B[38;5;241m.\u001B[39m_version \u001B[38;5;241m==\u001B[39m \u001B[38;5;241m2\u001B[39m:\n\u001B[0;32m--> 132\u001B[0m     \u001B[38;5;28mself\u001B[39m\u001B[38;5;241m.\u001B[39mstore[\u001B[38;5;28mself\u001B[39m\u001B[38;5;241m.\u001B[39mkey] \u001B[38;5;241m=\u001B[39m \u001B[43mjson_dumps\u001B[49m\u001B[43m(\u001B[49m\u001B[43md\u001B[49m\u001B[43m)\u001B[49m\n\u001B[1;32m    133\u001B[0m     \u001B[38;5;28;01mif\u001B[39;00m \u001B[38;5;28mself\u001B[39m\u001B[38;5;241m.\u001B[39mcache:\n",
      "File \u001B[0;32m~/mambaforge/envs/burst-workflow/lib/python3.10/site-packages/zarr/util.py:50\u001B[0m, in \u001B[0;36mjson_dumps\u001B[0;34m(o)\u001B[0m\n\u001B[1;32m     49\u001B[0m \u001B[38;5;124;03m\"\"\"Write JSON in a consistent, human-readable way.\"\"\"\u001B[39;00m\n\u001B[0;32m---> 50\u001B[0m \u001B[38;5;28;01mreturn\u001B[39;00m \u001B[43mjson\u001B[49m\u001B[38;5;241;43m.\u001B[39;49m\u001B[43mdumps\u001B[49m\u001B[43m(\u001B[49m\u001B[43mo\u001B[49m\u001B[43m,\u001B[49m\u001B[43m \u001B[49m\u001B[43mindent\u001B[49m\u001B[38;5;241;43m=\u001B[39;49m\u001B[38;5;241;43m4\u001B[39;49m\u001B[43m,\u001B[49m\u001B[43m \u001B[49m\u001B[43msort_keys\u001B[49m\u001B[38;5;241;43m=\u001B[39;49m\u001B[38;5;28;43;01mTrue\u001B[39;49;00m\u001B[43m,\u001B[49m\u001B[43m \u001B[49m\u001B[43mensure_ascii\u001B[49m\u001B[38;5;241;43m=\u001B[39;49m\u001B[38;5;28;43;01mTrue\u001B[39;49;00m\u001B[43m,\u001B[49m\n\u001B[1;32m     51\u001B[0m \u001B[43m                  \u001B[49m\u001B[43mseparators\u001B[49m\u001B[38;5;241;43m=\u001B[39;49m\u001B[43m(\u001B[49m\u001B[38;5;124;43m'\u001B[39;49m\u001B[38;5;124;43m,\u001B[39;49m\u001B[38;5;124;43m'\u001B[39;49m\u001B[43m,\u001B[49m\u001B[43m \u001B[49m\u001B[38;5;124;43m'\u001B[39;49m\u001B[38;5;124;43m: \u001B[39;49m\u001B[38;5;124;43m'\u001B[39;49m\u001B[43m)\u001B[49m\u001B[43m,\u001B[49m\u001B[43m \u001B[49m\u001B[38;5;28;43mcls\u001B[39;49m\u001B[38;5;241;43m=\u001B[39;49m\u001B[43mNumberEncoder\u001B[49m\u001B[43m)\u001B[49m\u001B[38;5;241m.\u001B[39mencode(\u001B[38;5;124m'\u001B[39m\u001B[38;5;124mascii\u001B[39m\u001B[38;5;124m'\u001B[39m)\n",
      "File \u001B[0;32m~/mambaforge/envs/burst-workflow/lib/python3.10/json/__init__.py:238\u001B[0m, in \u001B[0;36mdumps\u001B[0;34m(obj, skipkeys, ensure_ascii, check_circular, allow_nan, cls, indent, separators, default, sort_keys, **kw)\u001B[0m\n\u001B[1;32m    233\u001B[0m     \u001B[38;5;28mcls\u001B[39m \u001B[38;5;241m=\u001B[39m JSONEncoder\n\u001B[1;32m    234\u001B[0m \u001B[38;5;28;01mreturn\u001B[39;00m \u001B[38;5;28;43mcls\u001B[39;49m\u001B[43m(\u001B[49m\n\u001B[1;32m    235\u001B[0m \u001B[43m    \u001B[49m\u001B[43mskipkeys\u001B[49m\u001B[38;5;241;43m=\u001B[39;49m\u001B[43mskipkeys\u001B[49m\u001B[43m,\u001B[49m\u001B[43m \u001B[49m\u001B[43mensure_ascii\u001B[49m\u001B[38;5;241;43m=\u001B[39;49m\u001B[43mensure_ascii\u001B[49m\u001B[43m,\u001B[49m\n\u001B[1;32m    236\u001B[0m \u001B[43m    \u001B[49m\u001B[43mcheck_circular\u001B[49m\u001B[38;5;241;43m=\u001B[39;49m\u001B[43mcheck_circular\u001B[49m\u001B[43m,\u001B[49m\u001B[43m \u001B[49m\u001B[43mallow_nan\u001B[49m\u001B[38;5;241;43m=\u001B[39;49m\u001B[43mallow_nan\u001B[49m\u001B[43m,\u001B[49m\u001B[43m \u001B[49m\u001B[43mindent\u001B[49m\u001B[38;5;241;43m=\u001B[39;49m\u001B[43mindent\u001B[49m\u001B[43m,\u001B[49m\n\u001B[1;32m    237\u001B[0m \u001B[43m    \u001B[49m\u001B[43mseparators\u001B[49m\u001B[38;5;241;43m=\u001B[39;49m\u001B[43mseparators\u001B[49m\u001B[43m,\u001B[49m\u001B[43m \u001B[49m\u001B[43mdefault\u001B[49m\u001B[38;5;241;43m=\u001B[39;49m\u001B[43mdefault\u001B[49m\u001B[43m,\u001B[49m\u001B[43m \u001B[49m\u001B[43msort_keys\u001B[49m\u001B[38;5;241;43m=\u001B[39;49m\u001B[43msort_keys\u001B[49m\u001B[43m,\u001B[49m\n\u001B[0;32m--> 238\u001B[0m \u001B[43m    \u001B[49m\u001B[38;5;241;43m*\u001B[39;49m\u001B[38;5;241;43m*\u001B[39;49m\u001B[43mkw\u001B[49m\u001B[43m)\u001B[49m\u001B[38;5;241;43m.\u001B[39;49m\u001B[43mencode\u001B[49m\u001B[43m(\u001B[49m\u001B[43mobj\u001B[49m\u001B[43m)\u001B[49m\n",
      "File \u001B[0;32m~/mambaforge/envs/burst-workflow/lib/python3.10/json/encoder.py:201\u001B[0m, in \u001B[0;36mJSONEncoder.encode\u001B[0;34m(self, o)\u001B[0m\n\u001B[1;32m    200\u001B[0m \u001B[38;5;28;01mif\u001B[39;00m \u001B[38;5;129;01mnot\u001B[39;00m \u001B[38;5;28misinstance\u001B[39m(chunks, (\u001B[38;5;28mlist\u001B[39m, \u001B[38;5;28mtuple\u001B[39m)):\n\u001B[0;32m--> 201\u001B[0m     chunks \u001B[38;5;241m=\u001B[39m \u001B[38;5;28;43mlist\u001B[39;49m\u001B[43m(\u001B[49m\u001B[43mchunks\u001B[49m\u001B[43m)\u001B[49m\n\u001B[1;32m    202\u001B[0m \u001B[38;5;28;01mreturn\u001B[39;00m \u001B[38;5;124m'\u001B[39m\u001B[38;5;124m'\u001B[39m\u001B[38;5;241m.\u001B[39mjoin(chunks)\n",
      "File \u001B[0;32m~/mambaforge/envs/burst-workflow/lib/python3.10/json/encoder.py:431\u001B[0m, in \u001B[0;36m_make_iterencode.<locals>._iterencode\u001B[0;34m(o, _current_indent_level)\u001B[0m\n\u001B[1;32m    430\u001B[0m \u001B[38;5;28;01melif\u001B[39;00m \u001B[38;5;28misinstance\u001B[39m(o, \u001B[38;5;28mdict\u001B[39m):\n\u001B[0;32m--> 431\u001B[0m     \u001B[38;5;28;01myield from\u001B[39;00m _iterencode_dict(o, _current_indent_level)\n\u001B[1;32m    432\u001B[0m \u001B[38;5;28;01melse\u001B[39;00m:\n",
      "File \u001B[0;32m~/mambaforge/envs/burst-workflow/lib/python3.10/json/encoder.py:405\u001B[0m, in \u001B[0;36m_make_iterencode.<locals>._iterencode_dict\u001B[0;34m(dct, _current_indent_level)\u001B[0m\n\u001B[1;32m    404\u001B[0m             chunks \u001B[38;5;241m=\u001B[39m _iterencode(value, _current_indent_level)\n\u001B[0;32m--> 405\u001B[0m         \u001B[38;5;28;01myield from\u001B[39;00m chunks\n\u001B[1;32m    406\u001B[0m \u001B[38;5;28;01mif\u001B[39;00m newline_indent \u001B[38;5;129;01mis\u001B[39;00m \u001B[38;5;129;01mnot\u001B[39;00m \u001B[38;5;28;01mNone\u001B[39;00m:\n",
      "File \u001B[0;32m~/mambaforge/envs/burst-workflow/lib/python3.10/json/encoder.py:438\u001B[0m, in \u001B[0;36m_make_iterencode.<locals>._iterencode\u001B[0;34m(o, _current_indent_level)\u001B[0m\n\u001B[1;32m    437\u001B[0m     markers[markerid] \u001B[38;5;241m=\u001B[39m o\n\u001B[0;32m--> 438\u001B[0m o \u001B[38;5;241m=\u001B[39m \u001B[43m_default\u001B[49m\u001B[43m(\u001B[49m\u001B[43mo\u001B[49m\u001B[43m)\u001B[49m\n\u001B[1;32m    439\u001B[0m \u001B[38;5;28;01myield from\u001B[39;00m _iterencode(o, _current_indent_level)\n",
      "File \u001B[0;32m~/mambaforge/envs/burst-workflow/lib/python3.10/site-packages/zarr/util.py:45\u001B[0m, in \u001B[0;36mNumberEncoder.default\u001B[0;34m(self, o)\u001B[0m\n\u001B[1;32m     44\u001B[0m     \u001B[38;5;28;01mreturn\u001B[39;00m \u001B[38;5;28mfloat\u001B[39m(o)\n\u001B[0;32m---> 45\u001B[0m \u001B[38;5;28;01mreturn\u001B[39;00m \u001B[43mjson\u001B[49m\u001B[38;5;241;43m.\u001B[39;49m\u001B[43mJSONEncoder\u001B[49m\u001B[38;5;241;43m.\u001B[39;49m\u001B[43mdefault\u001B[49m\u001B[43m(\u001B[49m\u001B[38;5;28;43mself\u001B[39;49m\u001B[43m,\u001B[49m\u001B[43m \u001B[49m\u001B[43mo\u001B[49m\u001B[43m)\u001B[49m\n",
      "File \u001B[0;32m~/mambaforge/envs/burst-workflow/lib/python3.10/json/encoder.py:179\u001B[0m, in \u001B[0;36mJSONEncoder.default\u001B[0;34m(self, o)\u001B[0m\n\u001B[1;32m    161\u001B[0m \u001B[38;5;124;03m\"\"\"Implement this method in a subclass such that it returns\u001B[39;00m\n\u001B[1;32m    162\u001B[0m \u001B[38;5;124;03ma serializable object for ``o``, or calls the base implementation\u001B[39;00m\n\u001B[1;32m    163\u001B[0m \u001B[38;5;124;03m(to raise a ``TypeError``).\u001B[39;00m\n\u001B[0;32m   (...)\u001B[0m\n\u001B[1;32m    177\u001B[0m \n\u001B[1;32m    178\u001B[0m \u001B[38;5;124;03m\"\"\"\u001B[39;00m\n\u001B[0;32m--> 179\u001B[0m \u001B[38;5;28;01mraise\u001B[39;00m \u001B[38;5;167;01mTypeError\u001B[39;00m(\u001B[38;5;124mf\u001B[39m\u001B[38;5;124m'\u001B[39m\u001B[38;5;124mObject of type \u001B[39m\u001B[38;5;132;01m{\u001B[39;00mo\u001B[38;5;241m.\u001B[39m\u001B[38;5;18m__class__\u001B[39m\u001B[38;5;241m.\u001B[39m\u001B[38;5;18m__name__\u001B[39m\u001B[38;5;132;01m}\u001B[39;00m\u001B[38;5;124m \u001B[39m\u001B[38;5;124m'\u001B[39m\n\u001B[1;32m    180\u001B[0m                 \u001B[38;5;124mf\u001B[39m\u001B[38;5;124m'\u001B[39m\u001B[38;5;124mis not JSON serializable\u001B[39m\u001B[38;5;124m'\u001B[39m)\n",
      "\u001B[0;31mTypeError\u001B[0m: Object of type datetime is not JSON serializable",
      "\nThe above exception was the direct cause of the following exception:\n",
      "\u001B[0;31mTypeError\u001B[0m                                 Traceback (most recent call last)",
      "Input \u001B[0;32mIn [22]\u001B[0m, in \u001B[0;36m<cell line: 1>\u001B[0;34m()\u001B[0m\n\u001B[0;32m----> 1\u001B[0m \u001B[43mstack_dataset\u001B[49m\u001B[38;5;241;43m.\u001B[39;49m\u001B[43mto_zarr\u001B[49m\u001B[43m(\u001B[49m\u001B[38;5;124;43m'\u001B[39;49m\u001B[38;5;124;43mexample.zarr\u001B[39;49m\u001B[38;5;124;43m'\u001B[39;49m\u001B[43m)\u001B[49m\n",
      "File \u001B[0;32m~/mambaforge/envs/burst-workflow/lib/python3.10/site-packages/xarray/core/dataset.py:2060\u001B[0m, in \u001B[0;36mDataset.to_zarr\u001B[0;34m(self, store, chunk_store, mode, synchronizer, group, encoding, compute, consolidated, append_dim, region, safe_chunks, storage_options)\u001B[0m\n\u001B[1;32m   1950\u001B[0m \u001B[38;5;124;03m\"\"\"Write dataset contents to a zarr group.\u001B[39;00m\n\u001B[1;32m   1951\u001B[0m \n\u001B[1;32m   1952\u001B[0m \u001B[38;5;124;03mZarr chunks are determined in the following way:\u001B[39;00m\n\u001B[0;32m   (...)\u001B[0m\n\u001B[1;32m   2056\u001B[0m \u001B[38;5;124;03m    The I/O user guide, with more details and examples.\u001B[39;00m\n\u001B[1;32m   2057\u001B[0m \u001B[38;5;124;03m\"\"\"\u001B[39;00m\n\u001B[1;32m   2058\u001B[0m \u001B[38;5;28;01mfrom\u001B[39;00m \u001B[38;5;21;01m.\u001B[39;00m\u001B[38;5;21;01m.\u001B[39;00m\u001B[38;5;21;01mbackends\u001B[39;00m\u001B[38;5;21;01m.\u001B[39;00m\u001B[38;5;21;01mapi\u001B[39;00m \u001B[38;5;28;01mimport\u001B[39;00m to_zarr\n\u001B[0;32m-> 2060\u001B[0m \u001B[38;5;28;01mreturn\u001B[39;00m \u001B[43mto_zarr\u001B[49m\u001B[43m(\u001B[49m\u001B[43m  \u001B[49m\u001B[38;5;66;43;03m# type: ignore\u001B[39;49;00m\n\u001B[1;32m   2061\u001B[0m \u001B[43m    \u001B[49m\u001B[38;5;28;43mself\u001B[39;49m\u001B[43m,\u001B[49m\n\u001B[1;32m   2062\u001B[0m \u001B[43m    \u001B[49m\u001B[43mstore\u001B[49m\u001B[38;5;241;43m=\u001B[39;49m\u001B[43mstore\u001B[49m\u001B[43m,\u001B[49m\n\u001B[1;32m   2063\u001B[0m \u001B[43m    \u001B[49m\u001B[43mchunk_store\u001B[49m\u001B[38;5;241;43m=\u001B[39;49m\u001B[43mchunk_store\u001B[49m\u001B[43m,\u001B[49m\n\u001B[1;32m   2064\u001B[0m \u001B[43m    \u001B[49m\u001B[43mstorage_options\u001B[49m\u001B[38;5;241;43m=\u001B[39;49m\u001B[43mstorage_options\u001B[49m\u001B[43m,\u001B[49m\n\u001B[1;32m   2065\u001B[0m \u001B[43m    \u001B[49m\u001B[43mmode\u001B[49m\u001B[38;5;241;43m=\u001B[39;49m\u001B[43mmode\u001B[49m\u001B[43m,\u001B[49m\n\u001B[1;32m   2066\u001B[0m \u001B[43m    \u001B[49m\u001B[43msynchronizer\u001B[49m\u001B[38;5;241;43m=\u001B[39;49m\u001B[43msynchronizer\u001B[49m\u001B[43m,\u001B[49m\n\u001B[1;32m   2067\u001B[0m \u001B[43m    \u001B[49m\u001B[43mgroup\u001B[49m\u001B[38;5;241;43m=\u001B[39;49m\u001B[43mgroup\u001B[49m\u001B[43m,\u001B[49m\n\u001B[1;32m   2068\u001B[0m \u001B[43m    \u001B[49m\u001B[43mencoding\u001B[49m\u001B[38;5;241;43m=\u001B[39;49m\u001B[43mencoding\u001B[49m\u001B[43m,\u001B[49m\n\u001B[1;32m   2069\u001B[0m \u001B[43m    \u001B[49m\u001B[43mcompute\u001B[49m\u001B[38;5;241;43m=\u001B[39;49m\u001B[43mcompute\u001B[49m\u001B[43m,\u001B[49m\n\u001B[1;32m   2070\u001B[0m \u001B[43m    \u001B[49m\u001B[43mconsolidated\u001B[49m\u001B[38;5;241;43m=\u001B[39;49m\u001B[43mconsolidated\u001B[49m\u001B[43m,\u001B[49m\n\u001B[1;32m   2071\u001B[0m \u001B[43m    \u001B[49m\u001B[43mappend_dim\u001B[49m\u001B[38;5;241;43m=\u001B[39;49m\u001B[43mappend_dim\u001B[49m\u001B[43m,\u001B[49m\n\u001B[1;32m   2072\u001B[0m \u001B[43m    \u001B[49m\u001B[43mregion\u001B[49m\u001B[38;5;241;43m=\u001B[39;49m\u001B[43mregion\u001B[49m\u001B[43m,\u001B[49m\n\u001B[1;32m   2073\u001B[0m \u001B[43m    \u001B[49m\u001B[43msafe_chunks\u001B[49m\u001B[38;5;241;43m=\u001B[39;49m\u001B[43msafe_chunks\u001B[49m\u001B[43m,\u001B[49m\n\u001B[1;32m   2074\u001B[0m \u001B[43m\u001B[49m\u001B[43m)\u001B[49m\n",
      "File \u001B[0;32m~/mambaforge/envs/burst-workflow/lib/python3.10/site-packages/xarray/backends/api.py:1637\u001B[0m, in \u001B[0;36mto_zarr\u001B[0;34m(dataset, store, chunk_store, mode, synchronizer, group, encoding, compute, consolidated, append_dim, region, safe_chunks, storage_options)\u001B[0m\n\u001B[1;32m   1635\u001B[0m writer \u001B[38;5;241m=\u001B[39m ArrayWriter()\n\u001B[1;32m   1636\u001B[0m \u001B[38;5;66;03m# TODO: figure out how to properly handle unlimited_dims\u001B[39;00m\n\u001B[0;32m-> 1637\u001B[0m \u001B[43mdump_to_store\u001B[49m\u001B[43m(\u001B[49m\u001B[43mdataset\u001B[49m\u001B[43m,\u001B[49m\u001B[43m \u001B[49m\u001B[43mzstore\u001B[49m\u001B[43m,\u001B[49m\u001B[43m \u001B[49m\u001B[43mwriter\u001B[49m\u001B[43m,\u001B[49m\u001B[43m \u001B[49m\u001B[43mencoding\u001B[49m\u001B[38;5;241;43m=\u001B[39;49m\u001B[43mencoding\u001B[49m\u001B[43m)\u001B[49m\n\u001B[1;32m   1638\u001B[0m writes \u001B[38;5;241m=\u001B[39m writer\u001B[38;5;241m.\u001B[39msync(compute\u001B[38;5;241m=\u001B[39mcompute)\n\u001B[1;32m   1640\u001B[0m \u001B[38;5;28;01mif\u001B[39;00m compute:\n",
      "File \u001B[0;32m~/mambaforge/envs/burst-workflow/lib/python3.10/site-packages/xarray/backends/api.py:1257\u001B[0m, in \u001B[0;36mdump_to_store\u001B[0;34m(dataset, store, writer, encoder, encoding, unlimited_dims)\u001B[0m\n\u001B[1;32m   1254\u001B[0m \u001B[38;5;28;01mif\u001B[39;00m encoder:\n\u001B[1;32m   1255\u001B[0m     variables, attrs \u001B[38;5;241m=\u001B[39m encoder(variables, attrs)\n\u001B[0;32m-> 1257\u001B[0m \u001B[43mstore\u001B[49m\u001B[38;5;241;43m.\u001B[39;49m\u001B[43mstore\u001B[49m\u001B[43m(\u001B[49m\u001B[43mvariables\u001B[49m\u001B[43m,\u001B[49m\u001B[43m \u001B[49m\u001B[43mattrs\u001B[49m\u001B[43m,\u001B[49m\u001B[43m \u001B[49m\u001B[43mcheck_encoding\u001B[49m\u001B[43m,\u001B[49m\u001B[43m \u001B[49m\u001B[43mwriter\u001B[49m\u001B[43m,\u001B[49m\u001B[43m \u001B[49m\u001B[43munlimited_dims\u001B[49m\u001B[38;5;241;43m=\u001B[39;49m\u001B[43munlimited_dims\u001B[49m\u001B[43m)\u001B[49m\n",
      "File \u001B[0;32m~/mambaforge/envs/burst-workflow/lib/python3.10/site-packages/xarray/backends/zarr.py:571\u001B[0m, in \u001B[0;36mZarrStore.store\u001B[0;34m(self, variables, attributes, check_encoding_set, writer, unlimited_dims)\u001B[0m\n\u001B[1;32m    568\u001B[0m     \u001B[38;5;28mself\u001B[39m\u001B[38;5;241m.\u001B[39mset_attributes(attributes)\n\u001B[1;32m    569\u001B[0m     \u001B[38;5;28mself\u001B[39m\u001B[38;5;241m.\u001B[39mset_dimensions(variables_encoded, unlimited_dims\u001B[38;5;241m=\u001B[39munlimited_dims)\n\u001B[0;32m--> 571\u001B[0m \u001B[38;5;28;43mself\u001B[39;49m\u001B[38;5;241;43m.\u001B[39;49m\u001B[43mset_variables\u001B[49m\u001B[43m(\u001B[49m\n\u001B[1;32m    572\u001B[0m \u001B[43m    \u001B[49m\u001B[43mvariables_encoded\u001B[49m\u001B[43m,\u001B[49m\u001B[43m \u001B[49m\u001B[43mcheck_encoding_set\u001B[49m\u001B[43m,\u001B[49m\u001B[43m \u001B[49m\u001B[43mwriter\u001B[49m\u001B[43m,\u001B[49m\u001B[43m \u001B[49m\u001B[43munlimited_dims\u001B[49m\u001B[38;5;241;43m=\u001B[39;49m\u001B[43munlimited_dims\u001B[49m\n\u001B[1;32m    573\u001B[0m \u001B[43m\u001B[49m\u001B[43m)\u001B[49m\n\u001B[1;32m    574\u001B[0m \u001B[38;5;28;01mif\u001B[39;00m \u001B[38;5;28mself\u001B[39m\u001B[38;5;241m.\u001B[39m_consolidate_on_close:\n\u001B[1;32m    575\u001B[0m     zarr\u001B[38;5;241m.\u001B[39mconsolidate_metadata(\u001B[38;5;28mself\u001B[39m\u001B[38;5;241m.\u001B[39mzarr_group\u001B[38;5;241m.\u001B[39mstore)\n",
      "File \u001B[0;32m~/mambaforge/envs/burst-workflow/lib/python3.10/site-packages/xarray/backends/zarr.py:632\u001B[0m, in \u001B[0;36mZarrStore.set_variables\u001B[0;34m(self, variables, check_encoding_set, writer, unlimited_dims)\u001B[0m\n\u001B[1;32m    628\u001B[0m         dtype \u001B[38;5;241m=\u001B[39m \u001B[38;5;28mstr\u001B[39m\n\u001B[1;32m    629\u001B[0m     zarr_array \u001B[38;5;241m=\u001B[39m \u001B[38;5;28mself\u001B[39m\u001B[38;5;241m.\u001B[39mzarr_group\u001B[38;5;241m.\u001B[39mcreate(\n\u001B[1;32m    630\u001B[0m         name, shape\u001B[38;5;241m=\u001B[39mshape, dtype\u001B[38;5;241m=\u001B[39mdtype, fill_value\u001B[38;5;241m=\u001B[39mfill_value, \u001B[38;5;241m*\u001B[39m\u001B[38;5;241m*\u001B[39mencoding\n\u001B[1;32m    631\u001B[0m     )\n\u001B[0;32m--> 632\u001B[0m     zarr_array \u001B[38;5;241m=\u001B[39m \u001B[43m_put_attrs\u001B[49m\u001B[43m(\u001B[49m\u001B[43mzarr_array\u001B[49m\u001B[43m,\u001B[49m\u001B[43m \u001B[49m\u001B[43mencoded_attrs\u001B[49m\u001B[43m)\u001B[49m\n\u001B[1;32m    634\u001B[0m write_region \u001B[38;5;241m=\u001B[39m \u001B[38;5;28mself\u001B[39m\u001B[38;5;241m.\u001B[39m_write_region \u001B[38;5;28;01mif\u001B[39;00m \u001B[38;5;28mself\u001B[39m\u001B[38;5;241m.\u001B[39m_write_region \u001B[38;5;129;01mis\u001B[39;00m \u001B[38;5;129;01mnot\u001B[39;00m \u001B[38;5;28;01mNone\u001B[39;00m \u001B[38;5;28;01melse\u001B[39;00m {}\n\u001B[1;32m    635\u001B[0m write_region \u001B[38;5;241m=\u001B[39m {dim: write_region\u001B[38;5;241m.\u001B[39mget(dim, \u001B[38;5;28mslice\u001B[39m(\u001B[38;5;28;01mNone\u001B[39;00m)) \u001B[38;5;28;01mfor\u001B[39;00m dim \u001B[38;5;129;01min\u001B[39;00m dims}\n",
      "File \u001B[0;32m~/mambaforge/envs/burst-workflow/lib/python3.10/site-packages/xarray/backends/zarr.py:330\u001B[0m, in \u001B[0;36m_put_attrs\u001B[0;34m(zarr_obj, attrs)\u001B[0m\n\u001B[1;32m    328\u001B[0m     zarr_obj\u001B[38;5;241m.\u001B[39mattrs\u001B[38;5;241m.\u001B[39mput(attrs)\n\u001B[1;32m    329\u001B[0m \u001B[38;5;28;01mexcept\u001B[39;00m \u001B[38;5;167;01mTypeError\u001B[39;00m \u001B[38;5;28;01mas\u001B[39;00m e:\n\u001B[0;32m--> 330\u001B[0m     \u001B[38;5;28;01mraise\u001B[39;00m \u001B[38;5;167;01mTypeError\u001B[39;00m(\u001B[38;5;124m\"\u001B[39m\u001B[38;5;124mInvalid attribute in Dataset.attrs.\u001B[39m\u001B[38;5;124m\"\u001B[39m) \u001B[38;5;28;01mfrom\u001B[39;00m \u001B[38;5;21;01me\u001B[39;00m\n\u001B[1;32m    331\u001B[0m \u001B[38;5;28;01mreturn\u001B[39;00m zarr_obj\n",
      "\u001B[0;31mTypeError\u001B[0m: Invalid attribute in Dataset.attrs."
     ]
    }
   ],
   "source": [
    "stack_dataset.to_zarr('example.zarr')"
   ]
  },
  {
   "cell_type": "markdown",
   "metadata": {
    "pycharm": {
     "name": "#%% md\n"
    }
   },
   "source": [
    "## xarray scrap"
   ]
  },
  {
   "cell_type": "code",
   "execution_count": null,
   "metadata": {
    "collapsed": false,
    "jupyter": {
     "outputs_hidden": false
    },
    "pycharm": {
     "name": "#%%\n"
    }
   },
   "outputs": [],
   "source": [
    "np.save('./example_burst_data.npy', arrays[0])"
   ]
  },
  {
   "cell_type": "code",
   "execution_count": null,
   "metadata": {
    "collapsed": false,
    "jupyter": {
     "outputs_hidden": false
    },
    "pycharm": {
     "name": "#%%\n"
    }
   },
   "outputs": [],
   "source": [
    "item = items[0]\n",
    "array = np.load('./example_burst_data.npy')"
   ]
  },
  {
   "cell_type": "code",
   "execution_count": null,
   "metadata": {
    "collapsed": false,
    "jupyter": {
     "outputs_hidden": false
    },
    "pycharm": {
     "name": "#%%\n"
    }
   },
   "outputs": [],
   "source": [
    "n_lines, n_samples = array.shape\n",
    "dims = ('time','line','sample')\n",
    "coords = ([item.datetime],list(range(n_lines)),list(range(n_samples)))\n",
    "coords = {key:value for key,value in zip(dims,coords)}\n",
    "burst_array = xr.DataArray(np.expand_dims(array,axis=0),coords=coords,dims=('time','line','sample'),attrs=item.properties)"
   ]
  },
  {
   "cell_type": "code",
   "execution_count": null,
   "metadata": {
    "collapsed": false,
    "jupyter": {
     "outputs_hidden": false
    },
    "pycharm": {
     "name": "#%%\n"
    }
   },
   "outputs": [],
   "source": [
    "burst_array\n"
   ]
  },
  {
   "cell_type": "code",
   "execution_count": null,
   "metadata": {
    "collapsed": false,
    "jupyter": {
     "outputs_hidden": false
    },
    "pycharm": {
     "name": "#%%\n"
    }
   },
   "outputs": [],
   "source": [
    "# aoi.explore(style_kwds={'fill':None})"
   ]
  },
  {
   "cell_type": "markdown",
   "metadata": {
    "pycharm": {
     "name": "#%% md\n"
    }
   },
   "source": [
    "## View using STAC-browser"
   ]
  },
  {
   "cell_type": "code",
   "execution_count": null,
   "metadata": {
    "collapsed": false,
    "jupyter": {
     "outputs_hidden": false
    },
    "pycharm": {
     "name": "#%%\n"
    }
   },
   "outputs": [],
   "source": [
    "stac_path = bursts.save_stac_catalog_locally(stac)"
   ]
  },
  {
   "cell_type": "code",
   "execution_count": null,
   "metadata": {
    "collapsed": false,
    "jupyter": {
     "outputs_hidden": false
    },
    "pycharm": {
     "name": "#%%\n"
    }
   },
   "outputs": [],
   "source": [
    "bursts.initiate_stac_catalog_server(5555,stac_path)"
   ]
  },
  {
   "cell_type": "markdown",
   "metadata": {
    "pycharm": {
     "name": "#%% md\n"
    }
   },
   "source": [
    "## Download burst data\n",
    "Using the STAC catalog, users can select an STAC item, then pass this item to `bursts.edl_download_burst_data`. The data is returned in a 2d numpy array with a complex float data type."
   ]
  },
  {
   "cell_type": "code",
   "execution_count": null,
   "metadata": {
    "collapsed": false,
    "jupyter": {
     "outputs_hidden": false
    },
    "pycharm": {
     "name": "#%%\n"
    }
   },
   "outputs": [],
   "source": [
    "item_list = [stac.get_item(x,recursive=True) for x in aoi.index]"
   ]
  },
  {
   "cell_type": "code",
   "execution_count": null,
   "metadata": {
    "collapsed": false,
    "jupyter": {
     "outputs_hidden": false
    },
    "pycharm": {
     "name": "#%%\n"
    }
   },
   "outputs": [],
   "source": [
    "stack_dataset = bursts.edl_download_stack(item_list, threads=10)"
   ]
  },
  {
   "cell_type": "code",
   "execution_count": null,
   "metadata": {
    "collapsed": false,
    "jupyter": {
     "outputs_hidden": false
    },
    "pycharm": {
     "name": "#%%\n"
    }
   },
   "outputs": [],
   "source": [
    "stack_dataset"
   ]
  },
  {
   "cell_type": "code",
   "execution_count": null,
   "metadata": {
    "collapsed": false,
    "jupyter": {
     "outputs_hidden": false
    },
    "pycharm": {
     "name": "#%%\n"
    }
   },
   "outputs": [],
   "source": [
    "# stack_dataset.to_zarr('example.zarr')"
   ]
  },
  {
   "cell_type": "markdown",
   "metadata": {
    "pycharm": {
     "name": "#%% md\n"
    }
   },
   "source": [
    "## xarray scrap"
   ]
  },
  {
   "cell_type": "code",
   "execution_count": null,
   "metadata": {
    "collapsed": false,
    "jupyter": {
     "outputs_hidden": false
    },
    "pycharm": {
     "name": "#%%\n"
    }
   },
   "outputs": [],
   "source": [
    "np.save('./example_burst_data.npy',arrays[0])"
   ]
  },
  {
   "cell_type": "code",
   "execution_count": null,
   "metadata": {
    "collapsed": false,
    "jupyter": {
     "outputs_hidden": false
    },
    "pycharm": {
     "name": "#%%\n"
    }
   },
   "outputs": [],
   "source": [
    "item = items[0]\n",
    "array = np.load('./example_burst_data.npy')"
   ]
  },
  {
   "cell_type": "code",
   "execution_count": null,
   "metadata": {
    "collapsed": false,
    "jupyter": {
     "outputs_hidden": false
    },
    "pycharm": {
     "name": "#%%\n"
    }
   },
   "outputs": [],
   "source": [
    "n_lines, n_samples = array.shape\n",
    "dims = ('time','line','sample')\n",
    "coords = ([item.datetime],list(range(n_lines)),list(range(n_samples)))\n",
    "coords = {key:value for key,value in zip(dims,coords)}\n",
    "burst_array = xr.DataArray(np.expand_dims(array,axis=0),coords=coords,dims=('time','line','sample'),attrs=item.properties)"
   ]
  },
  {
   "cell_type": "code",
   "execution_count": null,
   "metadata": {
    "collapsed": false,
    "jupyter": {
     "outputs_hidden": false
    },
    "pycharm": {
     "name": "#%%\n"
    }
   },
   "outputs": [],
   "source": [
    "burst_array\n"
   ]
  },
  {
   "cell_type": "code",
   "execution_count": null,
   "metadata": {
    "collapsed": false,
    "jupyter": {
     "outputs_hidden": false
    },
    "pycharm": {
     "name": "#%%\n"
    }
   },
   "outputs": [],
   "source": [
    "# aoi.explore(style_kwds={'fill':None})"
   ]
  },
  {
   "cell_type": "markdown",
   "metadata": {
    "pycharm": {
     "name": "#%% md\n"
    }
   },
   "source": [
    "## View using STAC-browser"
   ]
  },
  {
   "cell_type": "code",
   "execution_count": null,
   "metadata": {
    "collapsed": false,
    "jupyter": {
     "outputs_hidden": false
    },
    "pycharm": {
     "name": "#%%\n"
    }
   },
   "outputs": [],
   "source": [
    "stac_path = bursts.save_stac_catalog_locally(stac)"
   ]
  },
  {
   "cell_type": "code",
   "execution_count": null,
   "metadata": {
    "collapsed": false,
    "jupyter": {
     "outputs_hidden": false
    },
    "pycharm": {
     "name": "#%%\n"
    }
   },
   "outputs": [],
   "source": [
    "bursts.initiate_stac_catalog_server(5555,stac_path)"
   ]
  },
  {
   "cell_type": "markdown",
   "metadata": {
    "pycharm": {
     "name": "#%% md\n"
    }
   },
   "source": [
    "## Download burst data\n",
    "Using the STAC catalog, users can select an STAC item, then pass this item to `bursts.edl_download_burst_data`. The data is returned in a 2d numpy array with a complex float data type."
   ]
  },
  {
   "cell_type": "code",
   "execution_count": null,
   "metadata": {
    "collapsed": false,
    "jupyter": {
     "outputs_hidden": false
    },
    "pycharm": {
     "name": "#%%\n"
    }
   },
   "outputs": [],
   "source": [
    "item_list = [stac.get_item(x,recursive=True) for x in aoi.index]"
   ]
  },
  {
   "cell_type": "code",
   "execution_count": null,
   "metadata": {
    "collapsed": false,
    "jupyter": {
     "outputs_hidden": false
    },
    "pycharm": {
     "name": "#%%\n"
    }
   },
   "outputs": [],
   "source": [
    "stack_dataset = bursts.edl_download_stack(item_list, threads=10)"
   ]
  },
  {
   "cell_type": "code",
   "execution_count": null,
   "metadata": {
    "collapsed": false,
    "jupyter": {
     "outputs_hidden": false
    },
    "pycharm": {
     "name": "#%%\n"
    }
   },
   "outputs": [],
   "source": [
    "stack_dataset"
   ]
  },
  {
   "cell_type": "code",
   "execution_count": null,
   "metadata": {
    "collapsed": false,
    "jupyter": {
     "outputs_hidden": false
    },
    "pycharm": {
     "name": "#%%\n"
    }
   },
   "outputs": [],
   "source": [
    "# stack_dataset.to_zarr('example.zarr')"
   ]
  },
  {
   "cell_type": "markdown",
   "metadata": {
    "pycharm": {
     "name": "#%% md\n"
    }
   },
   "source": [
    "## xarray scrap"
   ]
  },
  {
   "cell_type": "code",
   "execution_count": null,
   "metadata": {
    "collapsed": false,
    "jupyter": {
     "outputs_hidden": false
    },
    "pycharm": {
     "name": "#%%\n"
    }
   },
   "outputs": [],
   "source": [
    "np.save('./example_burst_data.npy',arrays[0])"
   ]
  },
  {
   "cell_type": "code",
   "execution_count": null,
   "metadata": {
    "collapsed": false,
    "jupyter": {
     "outputs_hidden": false
    },
    "pycharm": {
     "name": "#%%\n"
    }
   },
   "outputs": [],
   "source": [
    "item = items[0]\n",
    "array = np.load('./example_burst_data.npy')"
   ]
  },
  {
   "cell_type": "code",
   "execution_count": null,
   "metadata": {
    "collapsed": false,
    "jupyter": {
     "outputs_hidden": false
    },
    "pycharm": {
     "name": "#%%\n"
    }
   },
   "outputs": [],
   "source": [
    "n_lines, n_samples = array.shape\n",
    "dims = ('time','line','sample')\n",
    "coords = ([item.datetime],list(range(n_lines)),list(range(n_samples)))\n",
    "coords = {key:value for key,value in zip(dims,coords)}\n",
    "burst_array = xr.DataArray(np.expand_dims(array,axis=0),coords=coords,dims=('time','line','sample'),attrs=item.properties)"
   ]
  },
  {
   "cell_type": "code",
   "execution_count": null,
   "metadata": {
    "collapsed": false,
    "jupyter": {
     "outputs_hidden": false
    },
    "pycharm": {
     "name": "#%%\n"
    }
   },
   "outputs": [],
   "source": [
    "burst_array"
   ]
  }
 ],
 "metadata": {
  "kernelspec": {
   "display_name": "Python 3 (ipykernel)",
   "language": "python",
   "name": "python3"
  },
  "language_info": {
   "codemirror_mode": {
    "name": "ipython",
    "version": 3
   },
   "file_extension": ".py",
   "mimetype": "text/x-python",
   "name": "python",
   "nbconvert_exporter": "python",
   "pygments_lexer": "ipython3",
   "version": "3.10.5"
  }
 },
 "nbformat": 4,
 "nbformat_minor": 4
}