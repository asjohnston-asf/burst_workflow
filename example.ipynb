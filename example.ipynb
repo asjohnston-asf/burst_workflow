{
 "cells": [
  {
   "cell_type": "code",
   "execution_count": 1,
   "metadata": {
    "collapsed": true,
    "pycharm": {
     "name": "#%%\n"
    }
   },
   "outputs": [],
   "source": [
    "from importlib import reload\n",
    "import bursts\n",
    "import pandas as pd\n",
    "import geopandas as gpd\n",
    "from shapely import wkt"
   ]
  },
  {
   "cell_type": "code",
   "execution_count": 2,
   "outputs": [
    {
     "name": "stdout",
     "output_type": "stream",
     "text": [
      "/Users/ffwilliams2/Repositories/burst_prototype/example_data\n"
     ]
    }
   ],
   "source": [
    "cd ../example_data"
   ],
   "metadata": {
    "collapsed": false,
    "pycharm": {
     "name": "#%%\n"
    }
   }
  },
  {
   "cell_type": "code",
   "execution_count": 3,
   "outputs": [],
   "source": [
    "slc_name = 'S1A_IW_SLC__1SDV_20220716T115019_20220716T115049_044125_054459_71A9.zip'\n",
    "slc = bursts.SLCMetadata(slc_name)\n",
    "swath = bursts.SwathMetadata(slc,'vv',0)\n",
    "burst = bursts.BurstMetadata(swath,0)"
   ],
   "metadata": {
    "collapsed": false,
    "pycharm": {
     "name": "#%%\n"
    }
   }
  },
  {
   "cell_type": "code",
   "execution_count": 4,
   "outputs": [
    {
     "data": {
      "text/plain": "<bursts.BurstMetadata at 0x12edbf670>"
     },
     "execution_count": 4,
     "metadata": {},
     "output_type": "execute_result"
    }
   ],
   "source": [
    "burst"
   ],
   "metadata": {
    "collapsed": false,
    "pycharm": {
     "name": "#%%\n"
    }
   }
  },
  {
   "cell_type": "code",
   "execution_count": 5,
   "outputs": [],
   "source": [
    "stac_item_list = []\n",
    "series_list = []\n",
    "for swath_index in range(0,slc.n_swaths):\n",
    "    swath = bursts.SwathMetadata(slc,'vv',swath_index)\n",
    "    for burst_index in range(0,swath.n_bursts):\n",
    "        burst = bursts.BurstMetadata(swath,burst_index)\n",
    "        stac_item_list.append(burst.to_stac_item())\n",
    "        series_list.append(burst.to_series())\n",
    "\n",
    "burst_df = pd.DataFrame(series_list)"
   ],
   "metadata": {
    "collapsed": false,
    "pycharm": {
     "name": "#%%\n"
    }
   }
  },
  {
   "cell_type": "code",
   "execution_count": 6,
   "outputs": [],
   "source": [
    "geometry = burst_df['footprint'].map(wkt.loads)\n",
    "gdf = gpd.GeoDataFrame(burst_df.drop(columns=['footprint']), geometry=geometry, crs=4326)"
   ],
   "metadata": {
    "collapsed": false,
    "pycharm": {
     "name": "#%%\n"
    }
   }
  },
  {
   "cell_type": "code",
   "execution_count": 17,
   "outputs": [],
   "source": [
    "# gdf.explore()"
   ],
   "metadata": {
    "collapsed": false,
    "pycharm": {
     "name": "#%%\n"
    }
   }
  },
  {
   "cell_type": "code",
   "execution_count": 7,
   "outputs": [
    {
     "name": "stdout",
     "output_type": "stream",
     "text": [
      "* <Catalog id=burst-catalog>\n",
      "  * <Item id=S1_SLC_20220716T115020_VV_273858_IW1>\n",
      "  * <Item id=S1_SLC_20220716T115023_VV_273859_IW1>\n",
      "  * <Item id=S1_SLC_20220716T115026_VV_273860_IW1>\n",
      "  * <Item id=S1_SLC_20220716T115028_VV_273861_IW1>\n",
      "  * <Item id=S1_SLC_20220716T115031_VV_273862_IW1>\n",
      "  * <Item id=S1_SLC_20220716T115034_VV_273863_IW1>\n",
      "  * <Item id=S1_SLC_20220716T115037_VV_273864_IW1>\n",
      "  * <Item id=S1_SLC_20220716T115039_VV_273865_IW1>\n",
      "  * <Item id=S1_SLC_20220716T115042_VV_273866_IW1>\n",
      "  * <Item id=S1_SLC_20220716T115045_VV_273867_IW1>\n",
      "  * <Item id=S1_SLC_20220716T115021_VV_273858_IW2>\n",
      "  * <Item id=S1_SLC_20220716T115024_VV_273859_IW2>\n",
      "  * <Item id=S1_SLC_20220716T115026_VV_273860_IW2>\n",
      "  * <Item id=S1_SLC_20220716T115029_VV_273861_IW2>\n",
      "  * <Item id=S1_SLC_20220716T115032_VV_273862_IW2>\n",
      "  * <Item id=S1_SLC_20220716T115035_VV_273863_IW2>\n",
      "  * <Item id=S1_SLC_20220716T115038_VV_273864_IW2>\n",
      "  * <Item id=S1_SLC_20220716T115040_VV_273865_IW2>\n",
      "  * <Item id=S1_SLC_20220716T115043_VV_273866_IW2>\n",
      "  * <Item id=S1_SLC_20220716T115046_VV_273867_IW2>\n",
      "  * <Item id=S1_SLC_20220716T115022_VV_273859_IW3>\n",
      "  * <Item id=S1_SLC_20220716T115025_VV_273860_IW3>\n",
      "  * <Item id=S1_SLC_20220716T115028_VV_273861_IW3>\n",
      "  * <Item id=S1_SLC_20220716T115030_VV_273862_IW3>\n",
      "  * <Item id=S1_SLC_20220716T115033_VV_273863_IW3>\n",
      "  * <Item id=S1_SLC_20220716T115036_VV_273864_IW3>\n",
      "  * <Item id=S1_SLC_20220716T115039_VV_273865_IW3>\n",
      "  * <Item id=S1_SLC_20220716T115041_VV_273866_IW3>\n",
      "  * <Item id=S1_SLC_20220716T115044_VV_273867_IW3>\n",
      "  * <Item id=S1_SLC_20220716T115047_VV_273868_IW3>\n"
     ]
    }
   ],
   "source": [
    "stac = bursts.generate_stac_catalog([slc_name])\n",
    "stac.describe()"
   ],
   "metadata": {
    "collapsed": false,
    "pycharm": {
     "name": "#%%\n"
    }
   }
  },
  {
   "cell_type": "code",
   "execution_count": 9,
   "outputs": [
    {
     "data": {
      "text/plain": "{'lines': 1487,\n 'samples': 20472,\n 'byte_offset': 119275,\n 'byte_length': 121767456,\n 'stack_id': '273858_IW1'}"
     },
     "execution_count": 9,
     "metadata": {},
     "output_type": "execute_result"
    }
   ],
   "source": [
    "item = stac.get_item('S1_SLC_20220716T115020_VV_273858_IW1')\n",
    "item.properties"
   ],
   "metadata": {
    "collapsed": false,
    "pycharm": {
     "name": "#%%\n"
    }
   }
  },
  {
   "cell_type": "code",
   "execution_count": 25,
   "outputs": [
    {
     "data": {
      "text/plain": "(1487, 20472)"
     },
     "execution_count": 25,
     "metadata": {},
     "output_type": "execute_result"
    }
   ],
   "source": [
    "data = bursts.read_local_burst(item,polarization='VV')\n",
    "data.shape"
   ],
   "metadata": {
    "collapsed": false,
    "pycharm": {
     "name": "#%%\n"
    }
   }
  },
  {
   "cell_type": "code",
   "execution_count": null,
   "outputs": [],
   "source": [],
   "metadata": {
    "collapsed": false,
    "pycharm": {
     "name": "#%%\n"
    }
   }
  }
 ],
 "metadata": {
  "kernelspec": {
   "display_name": "Python 3",
   "language": "python",
   "name": "python3"
  },
  "language_info": {
   "codemirror_mode": {
    "name": "ipython",
    "version": 2
   },
   "file_extension": ".py",
   "mimetype": "text/x-python",
   "name": "python",
   "nbconvert_exporter": "python",
   "pygments_lexer": "ipython2",
   "version": "2.7.6"
  }
 },
 "nbformat": 4,
 "nbformat_minor": 0
}