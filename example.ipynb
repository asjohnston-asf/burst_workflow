{
 "cells": [
  {
   "cell_type": "markdown",
   "metadata": {
    "pycharm": {
     "name": "#%% md\n"
    }
   },
   "source": [
    "# A functional burst search and download service"
   ]
  },
  {
   "cell_type": "markdown",
   "metadata": {
    "pycharm": {
     "name": "#%% md\n"
    }
   },
   "source": [
    "## Setup"
   ]
  },
  {
   "cell_type": "code",
   "execution_count": 1,
   "metadata": {
    "pycharm": {
     "name": "#%%\n"
    },
    "tags": []
   },
   "outputs": [],
   "source": [
    "%load_ext autoreload\n",
    "%autoreload 2\n",
    "import bursts\n",
    "import asf_search as asf\n",
    "from datetime import datetime, timedelta\n",
    "import xarray as xr\n",
    "from pathlib import Path\n",
    "import pqdm\n",
    "import numpy as np\n",
    "from importlib import reload\n",
    "from pqdm.threads import pqdm\n",
    "import geopandas as gpd\n",
    "from shapely import geometry, wkt\n",
    "import time\n",
    "import pystac\n",
    "import fsspec\n",
    "import xml.etree.ElementTree as ET\n",
    "import time"
   ]
  },
  {
   "cell_type": "code",
   "execution_count": 2,
   "outputs": [],
   "source": [
    "def time_function_call(args,fun):\n",
    "    start = time.time()\n",
    "    result = fun(**args)\n",
    "    end = time.time()\n",
    "    time_s = end - start\n",
    "    return result, time_s"
   ],
   "metadata": {
    "collapsed": false,
    "pycharm": {
     "name": "#%%\n"
    }
   }
  },
  {
   "cell_type": "code",
   "execution_count": 3,
   "metadata": {
    "collapsed": false,
    "jupyter": {
     "outputs_hidden": false
    },
    "pycharm": {
     "name": "#%%\n"
    }
   },
   "outputs": [],
   "source": [
    "safe_url = 'https://datapool.asf.alaska.edu/SLC/SA/S1A_IW_SLC__1SDV_20220716T115019_20220716T115049_044125_054459_71A9.zip'"
   ]
  },
  {
   "cell_type": "markdown",
   "metadata": {
    "pycharm": {
     "name": "#%% md\n"
    }
   },
   "source": [
    "## Demoing interior objects\n",
    "These objects will not likely not be accessed by users, but this function demonstrates how the metadata objects are created"
   ]
  },
  {
   "cell_type": "code",
   "execution_count": null,
   "outputs": [],
   "source": [
    "auth = bursts.get_netrc_auth()"
   ],
   "metadata": {
    "collapsed": false,
    "pycharm": {
     "name": "#%%\n"
    }
   }
  },
  {
   "cell_type": "code",
   "execution_count": null,
   "outputs": [],
   "source": [
    "manifest, annotations = bursts.edl_download_metadata(safe_url, auth)"
   ],
   "metadata": {
    "collapsed": false,
    "pycharm": {
     "name": "#%%\n"
    }
   }
  },
  {
   "cell_type": "code",
   "execution_count": null,
   "outputs": [],
   "source": [
    "slc = bursts.SLCMetadata(safe_url, manifest, annotations)"
   ],
   "metadata": {
    "collapsed": false,
    "pycharm": {
     "name": "#%%\n"
    }
   }
  },
  {
   "cell_type": "code",
   "execution_count": null,
   "metadata": {
    "collapsed": false,
    "jupyter": {
     "outputs_hidden": false
    },
    "pycharm": {
     "name": "#%%\n"
    }
   },
   "outputs": [],
   "source": [
    "swath = bursts.SwathMetadata(slc,'vv',swath_index=0)"
   ]
  },
  {
   "cell_type": "code",
   "execution_count": null,
   "metadata": {
    "collapsed": false,
    "jupyter": {
     "outputs_hidden": false
    },
    "pycharm": {
     "name": "#%%\n"
    }
   },
   "outputs": [],
   "source": [
    "burst = bursts.BurstMetadata(swath,burst_index=0)"
   ]
  },
  {
   "cell_type": "code",
   "execution_count": null,
   "outputs": [],
   "source": [
    "item = burst.to_stac_item()\n",
    "pystac.validation.validate(item)"
   ],
   "metadata": {
    "collapsed": false,
    "pycharm": {
     "name": "#%%\n"
    }
   }
  },
  {
   "cell_type": "markdown",
   "metadata": {
    "pycharm": {
     "name": "#%% md\n"
    }
   },
   "source": [
    "## Creating burst metadata datasets\n",
    "Users have the option of creating either a geodatframe, or a STAC catalog. Burst data download is only enabled for the STAC catalog, but the geodataframe is great for in-notebook visualizations. Hopefully, users won't have to create these datasets themselves and will instead use an ASF-provided dataset."
   ]
  },
  {
   "cell_type": "code",
   "execution_count": 4,
   "outputs": [],
   "source": [
    "start = datetime.strptime('20210101','%Y%m%d')\n",
    "end = datetime.strptime('20210301','%Y%m%d')\n",
    "mt_edgecumb = 'POLYGON ((-135.7849 57.0417,-135.7243 57.0417,-135.7243 57.0654,-135.7849 57.0654,-135.7849 57.0417))'\n",
    "insar_opts = dict(platform=[asf.PLATFORM.SENTINEL1], polarization=['VV','VV+VH','Dual VV'], beamMode='IW', processingLevel='SLC')\n",
    "results = asf.geo_search(flightDirection='DESCENDING', intersectsWith=mt_edgecumb, start=start, end=end, **insar_opts)\n",
    "safe_urls = [x.properties['url'] for x in results]"
   ],
   "metadata": {
    "collapsed": false,
    "pycharm": {
     "name": "#%%\n"
    }
   }
  },
  {
   "cell_type": "code",
   "execution_count": 5,
   "outputs": [
    {
     "data": {
      "text/plain": "['https://datapool.asf.alaska.edu/SLC/SB/S1B_IW_SLC__1SDV_20210224T151554_20210224T151621_025750_0311EE_7026.zip',\n 'https://datapool.asf.alaska.edu/SLC/SB/S1B_IW_SLC__1SDV_20210212T151554_20210212T151621_025575_030C38_5BC5.zip',\n 'https://datapool.asf.alaska.edu/SLC/SB/S1B_IW_SLC__1SDV_20210131T151555_20210131T151621_025400_03067B_415D.zip',\n 'https://datapool.asf.alaska.edu/SLC/SB/S1B_IW_SLC__1SDV_20210119T151555_20210119T151622_025225_0300ED_6AAB.zip',\n 'https://datapool.asf.alaska.edu/SLC/SB/S1B_IW_SLC__1SDV_20210107T151555_20210107T151622_025050_02FB52_DB32.zip']"
     },
     "execution_count": 5,
     "metadata": {},
     "output_type": "execute_result"
    }
   ],
   "source": [
    "safe_urls"
   ],
   "metadata": {
    "collapsed": false,
    "pycharm": {
     "name": "#%%\n"
    }
   }
  },
  {
   "cell_type": "code",
   "execution_count": 6,
   "outputs": [
    {
     "data": {
      "text/plain": "SUBMITTING | :   0%|          | 0/5 [00:00<?, ?it/s]",
      "application/vnd.jupyter.widget-view+json": {
       "version_major": 2,
       "version_minor": 0,
       "model_id": "a5d34d0ed3964c159a4c660a629b6022"
      }
     },
     "metadata": {},
     "output_type": "display_data"
    },
    {
     "data": {
      "text/plain": "PROCESSING | :   0%|          | 0/5 [00:00<?, ?it/s]",
      "application/vnd.jupyter.widget-view+json": {
       "version_major": 2,
       "version_minor": 0,
       "model_id": "f83410e6691b4cceb50c4b1fcd852a7e"
      }
     },
     "metadata": {},
     "output_type": "display_data"
    },
    {
     "data": {
      "text/plain": "COLLECTING | :   0%|          | 0/5 [00:00<?, ?it/s]",
      "application/vnd.jupyter.widget-view+json": {
       "version_major": 2,
       "version_minor": 0,
       "model_id": "c8818d443104481d8e5f0294b4f59ad8"
      }
     },
     "metadata": {},
     "output_type": "display_data"
    }
   ],
   "source": [
    "burst_list = bursts.get_burst_metadata(safe_urls, threads=5)"
   ],
   "metadata": {
    "collapsed": false,
    "pycharm": {
     "name": "#%%\n"
    }
   }
  },
  {
   "cell_type": "code",
   "execution_count": 7,
   "metadata": {
    "collapsed": false,
    "jupyter": {
     "outputs_hidden": false
    },
    "pycharm": {
     "name": "#%%\n"
    }
   },
   "outputs": [
    {
     "name": "stdout",
     "output_type": "stream",
     "text": [
      "* <Catalog id=burst-catalog>\n",
      "    * <Collection id=372328_IW2>\n",
      "      * <Item id=S1_SLC_20210224T151617_VV_372328_IW2>\n",
      "      * <Item id=S1_SLC_20210212T151617_VV_372328_IW2>\n",
      "      * <Item id=S1_SLC_20210131T151618_VV_372328_IW2>\n",
      "      * <Item id=S1_SLC_20210119T151618_VV_372328_IW2>\n",
      "      * <Item id=S1_SLC_20210107T151618_VV_372328_IW2>\n",
      "    * <Collection id=372326_IW1>\n",
      "      * <Item id=S1_SLC_20210224T151611_VV_372326_IW1>\n",
      "      * <Item id=S1_SLC_20210212T151611_VV_372326_IW1>\n",
      "      * <Item id=S1_SLC_20210131T151611_VV_372326_IW1>\n",
      "      * <Item id=S1_SLC_20210119T151612_VV_372326_IW1>\n",
      "      * <Item id=S1_SLC_20210107T151612_VV_372326_IW1>\n",
      "    * <Collection id=372321_IW2>\n",
      "      * <Item id=S1_SLC_20210224T151558_VV_372321_IW2>\n",
      "      * <Item id=S1_SLC_20210212T151558_VV_372321_IW2>\n",
      "      * <Item id=S1_SLC_20210131T151558_VV_372321_IW2>\n",
      "      * <Item id=S1_SLC_20210119T151559_VV_372321_IW2>\n",
      "      * <Item id=S1_SLC_20210107T151559_VV_372321_IW2>\n",
      "    * <Collection id=372324_IW1>\n",
      "      * <Item id=S1_SLC_20210224T151605_VV_372324_IW1>\n",
      "      * <Item id=S1_SLC_20210212T151605_VV_372324_IW1>\n",
      "      * <Item id=S1_SLC_20210131T151606_VV_372324_IW1>\n",
      "      * <Item id=S1_SLC_20210119T151606_VV_372324_IW1>\n",
      "      * <Item id=S1_SLC_20210107T151607_VV_372324_IW1>\n",
      "    * <Collection id=372325_IW2>\n",
      "      * <Item id=S1_SLC_20210224T151609_VV_372325_IW2>\n",
      "      * <Item id=S1_SLC_20210212T151609_VV_372325_IW2>\n",
      "      * <Item id=S1_SLC_20210131T151609_VV_372325_IW2>\n",
      "      * <Item id=S1_SLC_20210119T151610_VV_372325_IW2>\n",
      "      * <Item id=S1_SLC_20210107T151610_VV_372325_IW2>\n",
      "    * <Collection id=372329_IW1>\n",
      "      * <Item id=S1_SLC_20210224T151619_VV_372329_IW1>\n",
      "      * <Item id=S1_SLC_20210212T151619_VV_372329_IW1>\n",
      "      * <Item id=S1_SLC_20210131T151620_VV_372329_IW1>\n",
      "      * <Item id=S1_SLC_20210119T151620_VV_372329_IW1>\n",
      "      * <Item id=S1_SLC_20210107T151620_VV_372329_IW1>\n",
      "    * <Collection id=372322_IW1>\n",
      "      * <Item id=S1_SLC_20210224T151600_VV_372322_IW1>\n",
      "      * <Item id=S1_SLC_20210212T151600_VV_372322_IW1>\n",
      "      * <Item id=S1_SLC_20210131T151600_VV_372322_IW1>\n",
      "      * <Item id=S1_SLC_20210119T151601_VV_372322_IW1>\n",
      "      * <Item id=S1_SLC_20210107T151601_VV_372322_IW1>\n",
      "    * <Collection id=372323_IW2>\n",
      "      * <Item id=S1_SLC_20210224T151603_VV_372323_IW2>\n",
      "      * <Item id=S1_SLC_20210212T151603_VV_372323_IW2>\n",
      "      * <Item id=S1_SLC_20210131T151604_VV_372323_IW2>\n",
      "      * <Item id=S1_SLC_20210119T151604_VV_372323_IW2>\n",
      "      * <Item id=S1_SLC_20210107T151605_VV_372323_IW2>\n",
      "    * <Collection id=372324_IW3>\n",
      "      * <Item id=S1_SLC_20210224T151604_VV_372324_IW3>\n",
      "      * <Item id=S1_SLC_20210212T151605_VV_372324_IW3>\n",
      "      * <Item id=S1_SLC_20210131T151605_VV_372324_IW3>\n",
      "      * <Item id=S1_SLC_20210119T151605_VV_372324_IW3>\n",
      "      * <Item id=S1_SLC_20210107T151606_VV_372324_IW3>\n",
      "    * <Collection id=372327_IW3>\n",
      "      * <Item id=S1_SLC_20210224T151613_VV_372327_IW3>\n",
      "      * <Item id=S1_SLC_20210212T151613_VV_372327_IW3>\n",
      "      * <Item id=S1_SLC_20210131T151613_VV_372327_IW3>\n",
      "      * <Item id=S1_SLC_20210119T151614_VV_372327_IW3>\n",
      "      * <Item id=S1_SLC_20210107T151614_VV_372327_IW3>\n",
      "    * <Collection id=372320_IW2>\n",
      "      * <Item id=S1_SLC_20210224T151555_VV_372320_IW2>\n",
      "      * <Item id=S1_SLC_20210212T151555_VV_372320_IW2>\n",
      "      * <Item id=S1_SLC_20210131T151556_VV_372320_IW2>\n",
      "      * <Item id=S1_SLC_20210119T151556_VV_372320_IW2>\n",
      "      * <Item id=S1_SLC_20210107T151556_VV_372320_IW2>\n",
      "    * <Collection id=372328_IW3>\n",
      "      * <Item id=S1_SLC_20210224T151615_VV_372328_IW3>\n",
      "      * <Item id=S1_SLC_20210212T151616_VV_372328_IW3>\n",
      "      * <Item id=S1_SLC_20210131T151616_VV_372328_IW3>\n",
      "      * <Item id=S1_SLC_20210119T151616_VV_372328_IW3>\n",
      "      * <Item id=S1_SLC_20210107T151617_VV_372328_IW3>\n",
      "    * <Collection id=372323_IW3>\n",
      "      * <Item id=S1_SLC_20210224T151602_VV_372323_IW3>\n",
      "      * <Item id=S1_SLC_20210212T151602_VV_372323_IW3>\n",
      "      * <Item id=S1_SLC_20210131T151602_VV_372323_IW3>\n",
      "      * <Item id=S1_SLC_20210119T151602_VV_372323_IW3>\n",
      "      * <Item id=S1_SLC_20210107T151603_VV_372323_IW3>\n",
      "    * <Collection id=372321_IW1>\n",
      "      * <Item id=S1_SLC_20210224T151557_VV_372321_IW1>\n",
      "      * <Item id=S1_SLC_20210212T151557_VV_372321_IW1>\n",
      "      * <Item id=S1_SLC_20210131T151557_VV_372321_IW1>\n",
      "      * <Item id=S1_SLC_20210119T151558_VV_372321_IW1>\n",
      "      * <Item id=S1_SLC_20210107T151558_VV_372321_IW1>\n",
      "    * <Collection id=372327_IW2>\n",
      "      * <Item id=S1_SLC_20210224T151614_VV_372327_IW2>\n",
      "      * <Item id=S1_SLC_20210212T151615_VV_372327_IW2>\n",
      "      * <Item id=S1_SLC_20210131T151615_VV_372327_IW2>\n",
      "      * <Item id=S1_SLC_20210119T151615_VV_372327_IW2>\n",
      "      * <Item id=S1_SLC_20210107T151616_VV_372327_IW2>\n",
      "    * <Collection id=372323_IW1>\n",
      "      * <Item id=S1_SLC_20210224T151602_VV_372323_IW1>\n",
      "      * <Item id=S1_SLC_20210212T151603_VV_372323_IW1>\n",
      "      * <Item id=S1_SLC_20210131T151603_VV_372323_IW1>\n",
      "      * <Item id=S1_SLC_20210119T151603_VV_372323_IW1>\n",
      "      * <Item id=S1_SLC_20210107T151604_VV_372323_IW1>\n",
      "    * <Collection id=372327_IW1>\n",
      "      * <Item id=S1_SLC_20210224T151613_VV_372327_IW1>\n",
      "      * <Item id=S1_SLC_20210212T151614_VV_372327_IW1>\n",
      "      * <Item id=S1_SLC_20210131T151614_VV_372327_IW1>\n",
      "      * <Item id=S1_SLC_20210119T151614_VV_372327_IW1>\n",
      "      * <Item id=S1_SLC_20210107T151615_VV_372327_IW1>\n",
      "    * <Collection id=372325_IW1>\n",
      "      * <Item id=S1_SLC_20210224T151608_VV_372325_IW1>\n",
      "      * <Item id=S1_SLC_20210212T151608_VV_372325_IW1>\n",
      "      * <Item id=S1_SLC_20210131T151608_VV_372325_IW1>\n",
      "      * <Item id=S1_SLC_20210119T151609_VV_372325_IW1>\n",
      "      * <Item id=S1_SLC_20210107T151609_VV_372325_IW1>\n",
      "    * <Collection id=372322_IW2>\n",
      "      * <Item id=S1_SLC_20210224T151600_VV_372322_IW2>\n",
      "      * <Item id=S1_SLC_20210212T151601_VV_372322_IW2>\n",
      "      * <Item id=S1_SLC_20210131T151601_VV_372322_IW2>\n",
      "      * <Item id=S1_SLC_20210119T151601_VV_372322_IW2>\n",
      "      * <Item id=S1_SLC_20210107T151602_VV_372322_IW2>\n",
      "    * <Collection id=372324_IW2>\n",
      "      * <Item id=S1_SLC_20210224T151606_VV_372324_IW2>\n",
      "      * <Item id=S1_SLC_20210212T151606_VV_372324_IW2>\n",
      "      * <Item id=S1_SLC_20210131T151607_VV_372324_IW2>\n",
      "      * <Item id=S1_SLC_20210119T151607_VV_372324_IW2>\n",
      "      * <Item id=S1_SLC_20210107T151607_VV_372324_IW2>\n",
      "    * <Collection id=372322_IW3>\n",
      "      * <Item id=S1_SLC_20210224T151559_VV_372322_IW3>\n",
      "      * <Item id=S1_SLC_20210212T151559_VV_372322_IW3>\n",
      "      * <Item id=S1_SLC_20210131T151559_VV_372322_IW3>\n",
      "      * <Item id=S1_SLC_20210119T151600_VV_372322_IW3>\n",
      "      * <Item id=S1_SLC_20210107T151600_VV_372322_IW3>\n",
      "    * <Collection id=372326_IW2>\n",
      "      * <Item id=S1_SLC_20210224T151612_VV_372326_IW2>\n",
      "      * <Item id=S1_SLC_20210212T151612_VV_372326_IW2>\n",
      "      * <Item id=S1_SLC_20210131T151612_VV_372326_IW2>\n",
      "      * <Item id=S1_SLC_20210119T151612_VV_372326_IW2>\n",
      "      * <Item id=S1_SLC_20210107T151613_VV_372326_IW2>\n",
      "    * <Collection id=372321_IW3>\n",
      "      * <Item id=S1_SLC_20210224T151556_VV_372321_IW3>\n",
      "      * <Item id=S1_SLC_20210212T151556_VV_372321_IW3>\n",
      "      * <Item id=S1_SLC_20210131T151557_VV_372321_IW3>\n",
      "      * <Item id=S1_SLC_20210119T151557_VV_372321_IW3>\n",
      "      * <Item id=S1_SLC_20210107T151557_VV_372321_IW3>\n",
      "    * <Collection id=372325_IW3>\n",
      "      * <Item id=S1_SLC_20210224T151607_VV_372325_IW3>\n",
      "      * <Item id=S1_SLC_20210212T151607_VV_372325_IW3>\n",
      "      * <Item id=S1_SLC_20210131T151608_VV_372325_IW3>\n",
      "      * <Item id=S1_SLC_20210119T151608_VV_372325_IW3>\n",
      "      * <Item id=S1_SLC_20210107T151608_VV_372325_IW3>\n",
      "    * <Collection id=372329_IW3>\n",
      "      * <Item id=S1_SLC_20210224T151618_VV_372329_IW3>\n",
      "      * <Item id=S1_SLC_20210212T151618_VV_372329_IW3>\n",
      "      * <Item id=S1_SLC_20210131T151619_VV_372329_IW3>\n",
      "      * <Item id=S1_SLC_20210119T151619_VV_372329_IW3>\n",
      "      * <Item id=S1_SLC_20210107T151620_VV_372329_IW3>\n",
      "    * <Collection id=372328_IW1>\n",
      "      * <Item id=S1_SLC_20210224T151616_VV_372328_IW1>\n",
      "      * <Item id=S1_SLC_20210212T151616_VV_372328_IW1>\n",
      "      * <Item id=S1_SLC_20210131T151617_VV_372328_IW1>\n",
      "      * <Item id=S1_SLC_20210119T151617_VV_372328_IW1>\n",
      "      * <Item id=S1_SLC_20210107T151618_VV_372328_IW1>\n",
      "    * <Collection id=372326_IW3>\n",
      "      * <Item id=S1_SLC_20210224T151610_VV_372326_IW3>\n",
      "      * <Item id=S1_SLC_20210212T151610_VV_372326_IW3>\n",
      "      * <Item id=S1_SLC_20210131T151610_VV_372326_IW3>\n",
      "      * <Item id=S1_SLC_20210119T151611_VV_372326_IW3>\n",
      "      * <Item id=S1_SLC_20210107T151611_VV_372326_IW3>\n"
     ]
    }
   ],
   "source": [
    "stac = bursts.generate_burst_stac_catalog(burst_list)\n",
    "stac.describe()"
   ]
  },
  {
   "cell_type": "markdown",
   "source": [
    "## Explore with Geopandas"
   ],
   "metadata": {
    "collapsed": false,
    "pycharm": {
     "name": "#%% md\n"
    }
   }
  },
  {
   "cell_type": "code",
   "execution_count": 8,
   "outputs": [],
   "source": [
    "items = [x.to_dict() for x in stac.get_all_items()]\n",
    "df = gpd.GeoDataFrame.from_features(items, crs=\"epsg:4326\")\n",
    "df.index = [x['id'] for x in items]"
   ],
   "metadata": {
    "collapsed": false,
    "pycharm": {
     "name": "#%%\n"
    }
   }
  },
  {
   "cell_type": "code",
   "execution_count": 9,
   "outputs": [
    {
     "name": "stdout",
     "output_type": "stream",
     "text": [
      "Located 5 bursts that meet criteria\n"
     ]
    }
   ],
   "source": [
    "in_aoi = df.intersects(wkt.loads(mt_edgecumb))\n",
    "aoi = df.loc[in_aoi].copy()\n",
    "print(f'Located {aoi.shape[0]} bursts that meet criteria')"
   ],
   "metadata": {
    "collapsed": false,
    "pycharm": {
     "name": "#%%\n"
    }
   }
  },
  {
   "cell_type": "code",
   "execution_count": 10,
   "outputs": [],
   "source": [
    "# aoi.explore(style_kwds={'fill':None})"
   ],
   "metadata": {
    "collapsed": false,
    "pycharm": {
     "name": "#%%\n"
    }
   }
  },
  {
   "cell_type": "markdown",
   "source": [
    "## View using STAC-browser"
   ],
   "metadata": {
    "collapsed": false,
    "pycharm": {
     "name": "#%% md\n"
    }
   }
  },
  {
   "cell_type": "code",
   "execution_count": 11,
   "outputs": [],
   "source": [
    "stac_path = bursts.save_stac_catalog_locally(stac)"
   ],
   "metadata": {
    "collapsed": false,
    "pycharm": {
     "name": "#%%\n"
    }
   }
  },
  {
   "cell_type": "code",
   "execution_count": null,
   "outputs": [],
   "source": [
    "bursts.initiate_stac_catalog_server(5555,stac_path)"
   ],
   "metadata": {
    "collapsed": false,
    "pycharm": {
     "name": "#%%\n"
    }
   }
  },
  {
   "cell_type": "markdown",
   "metadata": {
    "pycharm": {
     "name": "#%% md\n"
    }
   },
   "source": [
    "## Download burst data\n",
    "Using the STAC catalog, users can select an STAC item, then pass this item to `bursts.edl_download_burst_data`. The data is returned in a 2d numpy array with a complex float data type."
   ]
  },
  {
   "cell_type": "code",
   "execution_count": 12,
   "outputs": [],
   "source": [
    "item_list = [stac.get_item(x,recursive=True) for x in aoi.index]"
   ],
   "metadata": {
    "collapsed": false,
    "pycharm": {
     "name": "#%%\n"
    }
   }
  },
  {
   "cell_type": "code",
   "execution_count": 16,
   "outputs": [
    {
     "data": {
      "text/plain": "SUBMITTING | :   0%|          | 0/5 [00:00<?, ?it/s]",
      "application/vnd.jupyter.widget-view+json": {
       "version_major": 2,
       "version_minor": 0,
       "model_id": "d1521ce415b3423091c58bdf927d5347"
      }
     },
     "metadata": {},
     "output_type": "display_data"
    },
    {
     "data": {
      "text/plain": "PROCESSING | :   0%|          | 0/5 [00:00<?, ?it/s]",
      "application/vnd.jupyter.widget-view+json": {
       "version_major": 2,
       "version_minor": 0,
       "model_id": "4ad5f64c7b1f478582c48dfe9d3fdca6"
      }
     },
     "metadata": {},
     "output_type": "display_data"
    },
    {
     "data": {
      "text/plain": "COLLECTING | :   0%|          | 0/5 [00:00<?, ?it/s]",
      "application/vnd.jupyter.widget-view+json": {
       "version_major": 2,
       "version_minor": 0,
       "model_id": "5fc2b9d6a6c948758efca49e210afd26"
      }
     },
     "metadata": {},
     "output_type": "display_data"
    }
   ],
   "source": [
    "stack_dataset = bursts.edl_download_stack(item_list, threads=5)"
   ],
   "metadata": {
    "collapsed": false,
    "pycharm": {
     "name": "#%%\n"
    }
   }
  },
  {
   "cell_type": "code",
   "execution_count": 17,
   "outputs": [
    {
     "data": {
      "text/plain": "<xarray.Dataset>\nDimensions:                               (line: 1519, sample: 24229, time: 5)\nCoordinates:\n  * line                                  (line) int64 0 1 2 ... 1516 1517 1518\n  * sample                                (sample) int64 0 1 2 ... 24227 24228\n  * time                                  (time) datetime64[ns] 2021-02-24T15...\nData variables:\n    S1_SLC_20210224T151610_VV_372326_IW3  (line, sample) complex128 0j 0j ... 0j\n    S1_SLC_20210212T151610_VV_372326_IW3  (line, sample) complex128 0j 0j ... 0j\n    S1_SLC_20210131T151610_VV_372326_IW3  (line, sample) complex128 0j 0j ... 0j\n    S1_SLC_20210119T151611_VV_372326_IW3  (line, sample) complex128 0j 0j ... 0j\n    S1_SLC_20210107T151611_VV_372326_IW3  (line, sample) complex128 0j 0j ... 0j",
      "text/html": "<div><svg style=\"position: absolute; width: 0; height: 0; overflow: hidden\">\n<defs>\n<symbol id=\"icon-database\" viewBox=\"0 0 32 32\">\n<path d=\"M16 0c-8.837 0-16 2.239-16 5v4c0 2.761 7.163 5 16 5s16-2.239 16-5v-4c0-2.761-7.163-5-16-5z\"></path>\n<path d=\"M16 17c-8.837 0-16-2.239-16-5v6c0 2.761 7.163 5 16 5s16-2.239 16-5v-6c0 2.761-7.163 5-16 5z\"></path>\n<path d=\"M16 26c-8.837 0-16-2.239-16-5v6c0 2.761 7.163 5 16 5s16-2.239 16-5v-6c0 2.761-7.163 5-16 5z\"></path>\n</symbol>\n<symbol id=\"icon-file-text2\" viewBox=\"0 0 32 32\">\n<path d=\"M28.681 7.159c-0.694-0.947-1.662-2.053-2.724-3.116s-2.169-2.030-3.116-2.724c-1.612-1.182-2.393-1.319-2.841-1.319h-15.5c-1.378 0-2.5 1.121-2.5 2.5v27c0 1.378 1.122 2.5 2.5 2.5h23c1.378 0 2.5-1.122 2.5-2.5v-19.5c0-0.448-0.137-1.23-1.319-2.841zM24.543 5.457c0.959 0.959 1.712 1.825 2.268 2.543h-4.811v-4.811c0.718 0.556 1.584 1.309 2.543 2.268zM28 29.5c0 0.271-0.229 0.5-0.5 0.5h-23c-0.271 0-0.5-0.229-0.5-0.5v-27c0-0.271 0.229-0.5 0.5-0.5 0 0 15.499-0 15.5 0v7c0 0.552 0.448 1 1 1h7v19.5z\"></path>\n<path d=\"M23 26h-14c-0.552 0-1-0.448-1-1s0.448-1 1-1h14c0.552 0 1 0.448 1 1s-0.448 1-1 1z\"></path>\n<path d=\"M23 22h-14c-0.552 0-1-0.448-1-1s0.448-1 1-1h14c0.552 0 1 0.448 1 1s-0.448 1-1 1z\"></path>\n<path d=\"M23 18h-14c-0.552 0-1-0.448-1-1s0.448-1 1-1h14c0.552 0 1 0.448 1 1s-0.448 1-1 1z\"></path>\n</symbol>\n</defs>\n</svg>\n<style>/* CSS stylesheet for displaying xarray objects in jupyterlab.\n *\n */\n\n:root {\n  --xr-font-color0: var(--jp-content-font-color0, rgba(0, 0, 0, 1));\n  --xr-font-color2: var(--jp-content-font-color2, rgba(0, 0, 0, 0.54));\n  --xr-font-color3: var(--jp-content-font-color3, rgba(0, 0, 0, 0.38));\n  --xr-border-color: var(--jp-border-color2, #e0e0e0);\n  --xr-disabled-color: var(--jp-layout-color3, #bdbdbd);\n  --xr-background-color: var(--jp-layout-color0, white);\n  --xr-background-color-row-even: var(--jp-layout-color1, white);\n  --xr-background-color-row-odd: var(--jp-layout-color2, #eeeeee);\n}\n\nhtml[theme=dark],\nbody.vscode-dark {\n  --xr-font-color0: rgba(255, 255, 255, 1);\n  --xr-font-color2: rgba(255, 255, 255, 0.54);\n  --xr-font-color3: rgba(255, 255, 255, 0.38);\n  --xr-border-color: #1F1F1F;\n  --xr-disabled-color: #515151;\n  --xr-background-color: #111111;\n  --xr-background-color-row-even: #111111;\n  --xr-background-color-row-odd: #313131;\n}\n\n.xr-wrap {\n  display: block !important;\n  min-width: 300px;\n  max-width: 700px;\n}\n\n.xr-text-repr-fallback {\n  /* fallback to plain text repr when CSS is not injected (untrusted notebook) */\n  display: none;\n}\n\n.xr-header {\n  padding-top: 6px;\n  padding-bottom: 6px;\n  margin-bottom: 4px;\n  border-bottom: solid 1px var(--xr-border-color);\n}\n\n.xr-header > div,\n.xr-header > ul {\n  display: inline;\n  margin-top: 0;\n  margin-bottom: 0;\n}\n\n.xr-obj-type,\n.xr-array-name {\n  margin-left: 2px;\n  margin-right: 10px;\n}\n\n.xr-obj-type {\n  color: var(--xr-font-color2);\n}\n\n.xr-sections {\n  padding-left: 0 !important;\n  display: grid;\n  grid-template-columns: 150px auto auto 1fr 20px 20px;\n}\n\n.xr-section-item {\n  display: contents;\n}\n\n.xr-section-item input {\n  display: none;\n}\n\n.xr-section-item input + label {\n  color: var(--xr-disabled-color);\n}\n\n.xr-section-item input:enabled + label {\n  cursor: pointer;\n  color: var(--xr-font-color2);\n}\n\n.xr-section-item input:enabled + label:hover {\n  color: var(--xr-font-color0);\n}\n\n.xr-section-summary {\n  grid-column: 1;\n  color: var(--xr-font-color2);\n  font-weight: 500;\n}\n\n.xr-section-summary > span {\n  display: inline-block;\n  padding-left: 0.5em;\n}\n\n.xr-section-summary-in:disabled + label {\n  color: var(--xr-font-color2);\n}\n\n.xr-section-summary-in + label:before {\n  display: inline-block;\n  content: '►';\n  font-size: 11px;\n  width: 15px;\n  text-align: center;\n}\n\n.xr-section-summary-in:disabled + label:before {\n  color: var(--xr-disabled-color);\n}\n\n.xr-section-summary-in:checked + label:before {\n  content: '▼';\n}\n\n.xr-section-summary-in:checked + label > span {\n  display: none;\n}\n\n.xr-section-summary,\n.xr-section-inline-details {\n  padding-top: 4px;\n  padding-bottom: 4px;\n}\n\n.xr-section-inline-details {\n  grid-column: 2 / -1;\n}\n\n.xr-section-details {\n  display: none;\n  grid-column: 1 / -1;\n  margin-bottom: 5px;\n}\n\n.xr-section-summary-in:checked ~ .xr-section-details {\n  display: contents;\n}\n\n.xr-array-wrap {\n  grid-column: 1 / -1;\n  display: grid;\n  grid-template-columns: 20px auto;\n}\n\n.xr-array-wrap > label {\n  grid-column: 1;\n  vertical-align: top;\n}\n\n.xr-preview {\n  color: var(--xr-font-color3);\n}\n\n.xr-array-preview,\n.xr-array-data {\n  padding: 0 5px !important;\n  grid-column: 2;\n}\n\n.xr-array-data,\n.xr-array-in:checked ~ .xr-array-preview {\n  display: none;\n}\n\n.xr-array-in:checked ~ .xr-array-data,\n.xr-array-preview {\n  display: inline-block;\n}\n\n.xr-dim-list {\n  display: inline-block !important;\n  list-style: none;\n  padding: 0 !important;\n  margin: 0;\n}\n\n.xr-dim-list li {\n  display: inline-block;\n  padding: 0;\n  margin: 0;\n}\n\n.xr-dim-list:before {\n  content: '(';\n}\n\n.xr-dim-list:after {\n  content: ')';\n}\n\n.xr-dim-list li:not(:last-child):after {\n  content: ',';\n  padding-right: 5px;\n}\n\n.xr-has-index {\n  font-weight: bold;\n}\n\n.xr-var-list,\n.xr-var-item {\n  display: contents;\n}\n\n.xr-var-item > div,\n.xr-var-item label,\n.xr-var-item > .xr-var-name span {\n  background-color: var(--xr-background-color-row-even);\n  margin-bottom: 0;\n}\n\n.xr-var-item > .xr-var-name:hover span {\n  padding-right: 5px;\n}\n\n.xr-var-list > li:nth-child(odd) > div,\n.xr-var-list > li:nth-child(odd) > label,\n.xr-var-list > li:nth-child(odd) > .xr-var-name span {\n  background-color: var(--xr-background-color-row-odd);\n}\n\n.xr-var-name {\n  grid-column: 1;\n}\n\n.xr-var-dims {\n  grid-column: 2;\n}\n\n.xr-var-dtype {\n  grid-column: 3;\n  text-align: right;\n  color: var(--xr-font-color2);\n}\n\n.xr-var-preview {\n  grid-column: 4;\n}\n\n.xr-var-name,\n.xr-var-dims,\n.xr-var-dtype,\n.xr-preview,\n.xr-attrs dt {\n  white-space: nowrap;\n  overflow: hidden;\n  text-overflow: ellipsis;\n  padding-right: 10px;\n}\n\n.xr-var-name:hover,\n.xr-var-dims:hover,\n.xr-var-dtype:hover,\n.xr-attrs dt:hover {\n  overflow: visible;\n  width: auto;\n  z-index: 1;\n}\n\n.xr-var-attrs,\n.xr-var-data {\n  display: none;\n  background-color: var(--xr-background-color) !important;\n  padding-bottom: 5px !important;\n}\n\n.xr-var-attrs-in:checked ~ .xr-var-attrs,\n.xr-var-data-in:checked ~ .xr-var-data {\n  display: block;\n}\n\n.xr-var-data > table {\n  float: right;\n}\n\n.xr-var-name span,\n.xr-var-data,\n.xr-attrs {\n  padding-left: 25px !important;\n}\n\n.xr-attrs,\n.xr-var-attrs,\n.xr-var-data {\n  grid-column: 1 / -1;\n}\n\ndl.xr-attrs {\n  padding: 0;\n  margin: 0;\n  display: grid;\n  grid-template-columns: 125px auto;\n}\n\n.xr-attrs dt,\n.xr-attrs dd {\n  padding: 0;\n  margin: 0;\n  float: left;\n  padding-right: 10px;\n  width: auto;\n}\n\n.xr-attrs dt {\n  font-weight: normal;\n  grid-column: 1;\n}\n\n.xr-attrs dt:hover span {\n  display: inline-block;\n  background: var(--xr-background-color);\n  padding-right: 10px;\n}\n\n.xr-attrs dd {\n  grid-column: 2;\n  white-space: pre-wrap;\n  word-break: break-all;\n}\n\n.xr-icon-database,\n.xr-icon-file-text2 {\n  display: inline-block;\n  vertical-align: middle;\n  width: 1em;\n  height: 1.5em !important;\n  stroke-width: 0;\n  stroke: currentColor;\n  fill: currentColor;\n}\n</style><pre class='xr-text-repr-fallback'>&lt;xarray.Dataset&gt;\nDimensions:                               (line: 1519, sample: 24229, time: 5)\nCoordinates:\n  * line                                  (line) int64 0 1 2 ... 1516 1517 1518\n  * sample                                (sample) int64 0 1 2 ... 24227 24228\n  * time                                  (time) datetime64[ns] 2021-02-24T15...\nData variables:\n    S1_SLC_20210224T151610_VV_372326_IW3  (line, sample) complex128 0j 0j ... 0j\n    S1_SLC_20210212T151610_VV_372326_IW3  (line, sample) complex128 0j 0j ... 0j\n    S1_SLC_20210131T151610_VV_372326_IW3  (line, sample) complex128 0j 0j ... 0j\n    S1_SLC_20210119T151611_VV_372326_IW3  (line, sample) complex128 0j 0j ... 0j\n    S1_SLC_20210107T151611_VV_372326_IW3  (line, sample) complex128 0j 0j ... 0j</pre><div class='xr-wrap' style='display:none'><div class='xr-header'><div class='xr-obj-type'>xarray.Dataset</div></div><ul class='xr-sections'><li class='xr-section-item'><input id='section-d127f906-1ba7-4360-98f8-e6706d071020' class='xr-section-summary-in' type='checkbox' disabled ><label for='section-d127f906-1ba7-4360-98f8-e6706d071020' class='xr-section-summary'  title='Expand/collapse section'>Dimensions:</label><div class='xr-section-inline-details'><ul class='xr-dim-list'><li><span class='xr-has-index'>line</span>: 1519</li><li><span class='xr-has-index'>sample</span>: 24229</li><li><span class='xr-has-index'>time</span>: 5</li></ul></div><div class='xr-section-details'></div></li><li class='xr-section-item'><input id='section-fc7763d7-6969-4bb6-8707-eb9f5d849381' class='xr-section-summary-in' type='checkbox'  checked><label for='section-fc7763d7-6969-4bb6-8707-eb9f5d849381' class='xr-section-summary' >Coordinates: <span>(3)</span></label><div class='xr-section-inline-details'></div><div class='xr-section-details'><ul class='xr-var-list'><li class='xr-var-item'><div class='xr-var-name'><span class='xr-has-index'>line</span></div><div class='xr-var-dims'>(line)</div><div class='xr-var-dtype'>int64</div><div class='xr-var-preview xr-preview'>0 1 2 3 4 ... 1515 1516 1517 1518</div><input id='attrs-6947cd1e-4150-44ab-a851-6f4ce5de5ed0' class='xr-var-attrs-in' type='checkbox' disabled><label for='attrs-6947cd1e-4150-44ab-a851-6f4ce5de5ed0' title='Show/Hide attributes'><svg class='icon xr-icon-file-text2'><use xlink:href='#icon-file-text2'></use></svg></label><input id='data-81e05ab3-3452-455c-a087-407f93eecc58' class='xr-var-data-in' type='checkbox'><label for='data-81e05ab3-3452-455c-a087-407f93eecc58' title='Show/Hide data repr'><svg class='icon xr-icon-database'><use xlink:href='#icon-database'></use></svg></label><div class='xr-var-attrs'><dl class='xr-attrs'></dl></div><div class='xr-var-data'><pre>array([   0,    1,    2, ..., 1516, 1517, 1518])</pre></div></li><li class='xr-var-item'><div class='xr-var-name'><span class='xr-has-index'>sample</span></div><div class='xr-var-dims'>(sample)</div><div class='xr-var-dtype'>int64</div><div class='xr-var-preview xr-preview'>0 1 2 3 ... 24225 24226 24227 24228</div><input id='attrs-d6022687-9d30-49dd-ac59-af8491a89027' class='xr-var-attrs-in' type='checkbox' disabled><label for='attrs-d6022687-9d30-49dd-ac59-af8491a89027' title='Show/Hide attributes'><svg class='icon xr-icon-file-text2'><use xlink:href='#icon-file-text2'></use></svg></label><input id='data-04a3b47b-de18-48bb-b1c4-1128fde668af' class='xr-var-data-in' type='checkbox'><label for='data-04a3b47b-de18-48bb-b1c4-1128fde668af' title='Show/Hide data repr'><svg class='icon xr-icon-database'><use xlink:href='#icon-database'></use></svg></label><div class='xr-var-attrs'><dl class='xr-attrs'></dl></div><div class='xr-var-data'><pre>array([    0,     1,     2, ..., 24226, 24227, 24228])</pre></div></li><li class='xr-var-item'><div class='xr-var-name'><span class='xr-has-index'>time</span></div><div class='xr-var-dims'>(time)</div><div class='xr-var-dtype'>datetime64[ns]</div><div class='xr-var-preview xr-preview'>2021-02-24T15:16:10 ... 2021-01-...</div><input id='attrs-106af169-1a36-43b8-bf2f-0488467d8adc' class='xr-var-attrs-in' type='checkbox' disabled><label for='attrs-106af169-1a36-43b8-bf2f-0488467d8adc' title='Show/Hide attributes'><svg class='icon xr-icon-file-text2'><use xlink:href='#icon-file-text2'></use></svg></label><input id='data-3054816d-a521-47ed-81ce-cc9eb15087b2' class='xr-var-data-in' type='checkbox'><label for='data-3054816d-a521-47ed-81ce-cc9eb15087b2' title='Show/Hide data repr'><svg class='icon xr-icon-database'><use xlink:href='#icon-database'></use></svg></label><div class='xr-var-attrs'><dl class='xr-attrs'></dl></div><div class='xr-var-data'><pre>array([&#x27;2021-02-24T15:16:10.000000000&#x27;, &#x27;2021-02-12T15:16:10.000000000&#x27;,\n       &#x27;2021-01-31T15:16:10.000000000&#x27;, &#x27;2021-01-19T15:16:11.000000000&#x27;,\n       &#x27;2021-01-07T15:16:11.000000000&#x27;], dtype=&#x27;datetime64[ns]&#x27;)</pre></div></li></ul></div></li><li class='xr-section-item'><input id='section-76b8a4d6-1fd9-4587-a4db-6e34e24c4242' class='xr-section-summary-in' type='checkbox'  checked><label for='section-76b8a4d6-1fd9-4587-a4db-6e34e24c4242' class='xr-section-summary' >Data variables: <span>(5)</span></label><div class='xr-section-inline-details'></div><div class='xr-section-details'><ul class='xr-var-list'><li class='xr-var-item'><div class='xr-var-name'><span>S1_SLC_20210224T151610_VV_372326_IW3</span></div><div class='xr-var-dims'>(line, sample)</div><div class='xr-var-dtype'>complex128</div><div class='xr-var-preview xr-preview'>0j 0j 0j 0j 0j ... 0j 0j 0j 0j 0j</div><input id='attrs-d43cacf7-a5e5-494d-9054-a70d511e4b67' class='xr-var-attrs-in' type='checkbox' ><label for='attrs-d43cacf7-a5e5-494d-9054-a70d511e4b67' title='Show/Hide attributes'><svg class='icon xr-icon-file-text2'><use xlink:href='#icon-file-text2'></use></svg></label><input id='data-a92197d0-61e4-4156-9d7c-12fb42306799' class='xr-var-data-in' type='checkbox'><label for='data-a92197d0-61e4-4156-9d7c-12fb42306799' title='Show/Hide data repr'><svg class='icon xr-icon-database'><use xlink:href='#icon-database'></use></svg></label><div class='xr-var-attrs'><dl class='xr-attrs'><dt><span>stack_id :</span></dt><dd>372326_IW3</dd><dt><span>datetime :</span></dt><dd>2021-02-24 15:16:10</dd><dt><span>id :</span></dt><dd>S1_SLC_20210224T151610_VV_372326_IW3</dd></dl></div><div class='xr-var-data'><pre>array([[0.+0.j, 0.+0.j, 0.+0.j, ..., 0.+0.j, 0.+0.j, 0.+0.j],\n       [0.+0.j, 0.+0.j, 0.+0.j, ..., 0.+0.j, 0.+0.j, 0.+0.j],\n       [0.+0.j, 0.+0.j, 0.+0.j, ..., 0.+0.j, 0.+0.j, 0.+0.j],\n       ...,\n       [0.+0.j, 0.+0.j, 0.+0.j, ..., 0.+0.j, 0.+0.j, 0.+0.j],\n       [0.+0.j, 0.+0.j, 0.+0.j, ..., 0.+0.j, 0.+0.j, 0.+0.j],\n       [0.+0.j, 0.+0.j, 0.+0.j, ..., 0.+0.j, 0.+0.j, 0.+0.j]])</pre></div></li><li class='xr-var-item'><div class='xr-var-name'><span>S1_SLC_20210212T151610_VV_372326_IW3</span></div><div class='xr-var-dims'>(line, sample)</div><div class='xr-var-dtype'>complex128</div><div class='xr-var-preview xr-preview'>0j 0j 0j 0j 0j ... 0j 0j 0j 0j 0j</div><input id='attrs-7fe44136-a862-4bbe-b128-d760e3746984' class='xr-var-attrs-in' type='checkbox' ><label for='attrs-7fe44136-a862-4bbe-b128-d760e3746984' title='Show/Hide attributes'><svg class='icon xr-icon-file-text2'><use xlink:href='#icon-file-text2'></use></svg></label><input id='data-29cfd242-81b7-442e-807e-4db6c21cb05c' class='xr-var-data-in' type='checkbox'><label for='data-29cfd242-81b7-442e-807e-4db6c21cb05c' title='Show/Hide data repr'><svg class='icon xr-icon-database'><use xlink:href='#icon-database'></use></svg></label><div class='xr-var-attrs'><dl class='xr-attrs'><dt><span>stack_id :</span></dt><dd>372326_IW3</dd><dt><span>datetime :</span></dt><dd>2021-02-12 15:16:10</dd><dt><span>id :</span></dt><dd>S1_SLC_20210212T151610_VV_372326_IW3</dd></dl></div><div class='xr-var-data'><pre>array([[0.+0.j, 0.+0.j, 0.+0.j, ..., 0.+0.j, 0.+0.j, 0.+0.j],\n       [0.+0.j, 0.+0.j, 0.+0.j, ..., 0.+0.j, 0.+0.j, 0.+0.j],\n       [0.+0.j, 0.+0.j, 0.+0.j, ..., 0.+0.j, 0.+0.j, 0.+0.j],\n       ...,\n       [0.+0.j, 0.+0.j, 0.+0.j, ..., 0.+0.j, 0.+0.j, 0.+0.j],\n       [0.+0.j, 0.+0.j, 0.+0.j, ..., 0.+0.j, 0.+0.j, 0.+0.j],\n       [0.+0.j, 0.+0.j, 0.+0.j, ..., 0.+0.j, 0.+0.j, 0.+0.j]])</pre></div></li><li class='xr-var-item'><div class='xr-var-name'><span>S1_SLC_20210131T151610_VV_372326_IW3</span></div><div class='xr-var-dims'>(line, sample)</div><div class='xr-var-dtype'>complex128</div><div class='xr-var-preview xr-preview'>0j 0j 0j 0j 0j ... 0j 0j 0j 0j 0j</div><input id='attrs-0573163d-d88e-49bb-aa90-5bf57989380a' class='xr-var-attrs-in' type='checkbox' ><label for='attrs-0573163d-d88e-49bb-aa90-5bf57989380a' title='Show/Hide attributes'><svg class='icon xr-icon-file-text2'><use xlink:href='#icon-file-text2'></use></svg></label><input id='data-15752b8f-8530-450d-a560-5bc4f9c5dd3a' class='xr-var-data-in' type='checkbox'><label for='data-15752b8f-8530-450d-a560-5bc4f9c5dd3a' title='Show/Hide data repr'><svg class='icon xr-icon-database'><use xlink:href='#icon-database'></use></svg></label><div class='xr-var-attrs'><dl class='xr-attrs'><dt><span>stack_id :</span></dt><dd>372326_IW3</dd><dt><span>datetime :</span></dt><dd>2021-01-31 15:16:10</dd><dt><span>id :</span></dt><dd>S1_SLC_20210131T151610_VV_372326_IW3</dd></dl></div><div class='xr-var-data'><pre>array([[0.+0.j, 0.+0.j, 0.+0.j, ..., 0.+0.j, 0.+0.j, 0.+0.j],\n       [0.+0.j, 0.+0.j, 0.+0.j, ..., 0.+0.j, 0.+0.j, 0.+0.j],\n       [0.+0.j, 0.+0.j, 0.+0.j, ..., 0.+0.j, 0.+0.j, 0.+0.j],\n       ...,\n       [0.+0.j, 0.+0.j, 0.+0.j, ..., 0.+0.j, 0.+0.j, 0.+0.j],\n       [0.+0.j, 0.+0.j, 0.+0.j, ..., 0.+0.j, 0.+0.j, 0.+0.j],\n       [0.+0.j, 0.+0.j, 0.+0.j, ..., 0.+0.j, 0.+0.j, 0.+0.j]])</pre></div></li><li class='xr-var-item'><div class='xr-var-name'><span>S1_SLC_20210119T151611_VV_372326_IW3</span></div><div class='xr-var-dims'>(line, sample)</div><div class='xr-var-dtype'>complex128</div><div class='xr-var-preview xr-preview'>0j 0j 0j 0j 0j ... 0j 0j 0j 0j 0j</div><input id='attrs-5852f9dc-af45-41e7-8367-e624b6e5973c' class='xr-var-attrs-in' type='checkbox' ><label for='attrs-5852f9dc-af45-41e7-8367-e624b6e5973c' title='Show/Hide attributes'><svg class='icon xr-icon-file-text2'><use xlink:href='#icon-file-text2'></use></svg></label><input id='data-dd51e37e-ea76-4fa8-bc32-06e2a439d4d0' class='xr-var-data-in' type='checkbox'><label for='data-dd51e37e-ea76-4fa8-bc32-06e2a439d4d0' title='Show/Hide data repr'><svg class='icon xr-icon-database'><use xlink:href='#icon-database'></use></svg></label><div class='xr-var-attrs'><dl class='xr-attrs'><dt><span>stack_id :</span></dt><dd>372326_IW3</dd><dt><span>datetime :</span></dt><dd>2021-01-19 15:16:11</dd><dt><span>id :</span></dt><dd>S1_SLC_20210119T151611_VV_372326_IW3</dd></dl></div><div class='xr-var-data'><pre>array([[0.+0.j, 0.+0.j, 0.+0.j, ..., 0.+0.j, 0.+0.j, 0.+0.j],\n       [0.+0.j, 0.+0.j, 0.+0.j, ..., 0.+0.j, 0.+0.j, 0.+0.j],\n       [0.+0.j, 0.+0.j, 0.+0.j, ..., 0.+0.j, 0.+0.j, 0.+0.j],\n       ...,\n       [0.+0.j, 0.+0.j, 0.+0.j, ..., 0.+0.j, 0.+0.j, 0.+0.j],\n       [0.+0.j, 0.+0.j, 0.+0.j, ..., 0.+0.j, 0.+0.j, 0.+0.j],\n       [0.+0.j, 0.+0.j, 0.+0.j, ..., 0.+0.j, 0.+0.j, 0.+0.j]])</pre></div></li><li class='xr-var-item'><div class='xr-var-name'><span>S1_SLC_20210107T151611_VV_372326_IW3</span></div><div class='xr-var-dims'>(line, sample)</div><div class='xr-var-dtype'>complex128</div><div class='xr-var-preview xr-preview'>0j 0j 0j 0j 0j ... 0j 0j 0j 0j 0j</div><input id='attrs-495d8549-d0e5-4701-bcf4-5a18cc943387' class='xr-var-attrs-in' type='checkbox' ><label for='attrs-495d8549-d0e5-4701-bcf4-5a18cc943387' title='Show/Hide attributes'><svg class='icon xr-icon-file-text2'><use xlink:href='#icon-file-text2'></use></svg></label><input id='data-1ab56e13-9adb-43ed-8b3b-6f8001ed1c8d' class='xr-var-data-in' type='checkbox'><label for='data-1ab56e13-9adb-43ed-8b3b-6f8001ed1c8d' title='Show/Hide data repr'><svg class='icon xr-icon-database'><use xlink:href='#icon-database'></use></svg></label><div class='xr-var-attrs'><dl class='xr-attrs'><dt><span>stack_id :</span></dt><dd>372326_IW3</dd><dt><span>datetime :</span></dt><dd>2021-01-07 15:16:11</dd><dt><span>id :</span></dt><dd>S1_SLC_20210107T151611_VV_372326_IW3</dd></dl></div><div class='xr-var-data'><pre>array([[0.+0.j, 0.+0.j, 0.+0.j, ..., 0.+0.j, 0.+0.j, 0.+0.j],\n       [0.+0.j, 0.+0.j, 0.+0.j, ..., 0.+0.j, 0.+0.j, 0.+0.j],\n       [0.+0.j, 0.+0.j, 0.+0.j, ..., 0.+0.j, 0.+0.j, 0.+0.j],\n       ...,\n       [0.+0.j, 0.+0.j, 0.+0.j, ..., 0.+0.j, 0.+0.j, 0.+0.j],\n       [0.+0.j, 0.+0.j, 0.+0.j, ..., 0.+0.j, 0.+0.j, 0.+0.j],\n       [0.+0.j, 0.+0.j, 0.+0.j, ..., 0.+0.j, 0.+0.j, 0.+0.j]])</pre></div></li></ul></div></li><li class='xr-section-item'><input id='section-bf95e554-60ed-49aa-9daa-6a7d08f405cb' class='xr-section-summary-in' type='checkbox' disabled ><label for='section-bf95e554-60ed-49aa-9daa-6a7d08f405cb' class='xr-section-summary'  title='Expand/collapse section'>Attributes: <span>(0)</span></label><div class='xr-section-inline-details'></div><div class='xr-section-details'><dl class='xr-attrs'></dl></div></li></ul></div></div>"
     },
     "execution_count": 17,
     "metadata": {},
     "output_type": "execute_result"
    }
   ],
   "source": [
    "stack_dataset"
   ],
   "metadata": {
    "collapsed": false,
    "pycharm": {
     "name": "#%%\n"
    }
   }
  },
  {
   "cell_type": "code",
   "execution_count": null,
   "outputs": [],
   "source": [
    "# stack_dataset.to_zarr('example.zarr')"
   ],
   "metadata": {
    "collapsed": false,
    "pycharm": {
     "name": "#%%\n"
    }
   }
  },
  {
   "cell_type": "markdown",
   "source": [
    "## xarray scrap"
   ],
   "metadata": {
    "collapsed": false,
    "pycharm": {
     "name": "#%% md\n"
    }
   },
   "execution_count": 15
  },
  {
   "cell_type": "code",
   "execution_count": null,
   "outputs": [],
   "source": [
    "np.save('./example_burst_data.npy',arrays[0])"
   ],
   "metadata": {
    "collapsed": false,
    "pycharm": {
     "name": "#%%\n"
    }
   }
  },
  {
   "cell_type": "code",
   "execution_count": null,
   "outputs": [],
   "source": [
    "item = items[0]\n",
    "array = np.load('./example_burst_data.npy')"
   ],
   "metadata": {
    "collapsed": false,
    "pycharm": {
     "name": "#%%\n"
    }
   }
  },
  {
   "cell_type": "code",
   "execution_count": null,
   "outputs": [],
   "source": [
    "n_lines, n_samples = array.shape\n",
    "dims = ('time','line','sample')\n",
    "coords = ([item.datetime],list(range(n_lines)),list(range(n_samples)))\n",
    "coords = {key:value for key,value in zip(dims,coords)}\n",
    "burst_array = xr.DataArray(np.expand_dims(array,axis=0),coords=coords,dims=('time','line','sample'),attrs=item.properties)"
   ],
   "metadata": {
    "collapsed": false,
    "pycharm": {
     "name": "#%%\n"
    }
   }
  },
  {
   "cell_type": "code",
   "execution_count": null,
   "outputs": [],
   "source": [
    "burst_array"
   ],
   "metadata": {
    "collapsed": false,
    "pycharm": {
     "name": "#%%\n"
    }
   }
  }
 ],
 "metadata": {
  "kernelspec": {
   "display_name": "Python 3 (ipykernel)",
   "language": "python",
   "name": "python3"
  },
  "language_info": {
   "codemirror_mode": {
    "name": "ipython",
    "version": 3
   },
   "file_extension": ".py",
   "mimetype": "text/x-python",
   "name": "python",
   "nbconvert_exporter": "python",
   "pygments_lexer": "ipython3",
   "version": "3.10.5"
  }
 },
 "nbformat": 4,
 "nbformat_minor": 4
}