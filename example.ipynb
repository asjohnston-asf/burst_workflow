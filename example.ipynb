{
 "cells": [
  {
   "cell_type": "markdown",
   "metadata": {
    "pycharm": {
     "name": "#%% md\n"
    }
   },
   "source": [
    "# A functional burst search and download service"
   ]
  },
  {
   "cell_type": "markdown",
   "metadata": {
    "pycharm": {
     "name": "#%% md\n"
    }
   },
   "source": [
    "## Setup"
   ]
  },
  {
   "cell_type": "code",
   "execution_count": 6,
   "metadata": {
    "pycharm": {
     "name": "#%%\n"
    },
    "tags": []
   },
   "outputs": [],
   "source": [
    "import bursts\n",
    "# from importlib import reload"
   ]
  },
  {
   "cell_type": "code",
   "execution_count": 2,
   "metadata": {
    "collapsed": false,
    "jupyter": {
     "outputs_hidden": false
    },
    "pycharm": {
     "name": "#%%\n"
    }
   },
   "outputs": [],
   "source": [
    "safe_url = 'https://datapool.asf.alaska.edu/SLC/SA/S1A_IW_SLC__1SDV_20220716T115019_20220716T115049_044125_054459_71A9.zip'"
   ]
  },
  {
   "cell_type": "markdown",
   "metadata": {
    "pycharm": {
     "name": "#%% md\n"
    }
   },
   "source": [
    "## Demoing interior objects\n",
    "These objects will not likely not be accessed by users, but this function demonstrates how the metadata objects are created"
   ]
  },
  {
   "cell_type": "code",
   "execution_count": null,
   "metadata": {
    "collapsed": false,
    "jupyter": {
     "outputs_hidden": false
    },
    "pycharm": {
     "name": "#%%\n"
    }
   },
   "outputs": [],
   "source": [
    "manifest, annotations = bursts.edl_download_metadata(safe_url)"
   ]
  },
  {
   "cell_type": "code",
   "execution_count": 8,
   "outputs": [],
   "source": [
    "slc = bursts.SLCMetadata(safe_url, manifest, annotations)"
   ],
   "metadata": {
    "collapsed": false,
    "pycharm": {
     "name": "#%%\n"
    }
   }
  },
  {
   "cell_type": "code",
   "execution_count": 9,
   "metadata": {
    "collapsed": false,
    "jupyter": {
     "outputs_hidden": false
    },
    "pycharm": {
     "name": "#%%\n"
    }
   },
   "outputs": [],
   "source": [
    "swath = bursts.SwathMetadata(slc,'vv',swath_index=0)"
   ]
  },
  {
   "cell_type": "code",
   "execution_count": 10,
   "metadata": {
    "collapsed": false,
    "jupyter": {
     "outputs_hidden": false
    },
    "pycharm": {
     "name": "#%%\n"
    }
   },
   "outputs": [],
   "source": [
    "burst = bursts.BurstMetadata(swath,burst_index=0)"
   ]
  },
  {
   "cell_type": "markdown",
   "metadata": {
    "pycharm": {
     "name": "#%% md\n"
    }
   },
   "source": [
    "## Creating burst metadata datasets\n",
    "Users have the option of creating either a geodatframe, or a STAC catalog. Burst data download is only enabled for the STAC catalog, but the geodataframe is great for in-notebook visualizations. Hopefully, users won't have to create these datasets themselves and will instead use an ASF-provided dataset."
   ]
  },
  {
   "cell_type": "code",
   "execution_count": 6,
   "metadata": {
    "collapsed": false,
    "jupyter": {
     "outputs_hidden": false
    },
    "pycharm": {
     "name": "#%%\n"
    }
   },
   "outputs": [],
   "source": [
    "gdf = bursts.generate_burst_geodataframe([safe_url])"
   ]
  },
  {
   "cell_type": "code",
   "execution_count": 8,
   "metadata": {
    "collapsed": false,
    "jupyter": {
     "outputs_hidden": false
    },
    "pycharm": {
     "name": "#%%\n"
    }
   },
   "outputs": [],
   "source": [
    "#gdf.explore()"
   ]
  },
  {
   "cell_type": "code",
   "execution_count": 9,
   "metadata": {
    "collapsed": false,
    "jupyter": {
     "outputs_hidden": false
    },
    "pycharm": {
     "name": "#%%\n"
    }
   },
   "outputs": [
    {
     "name": "stdout",
     "output_type": "stream",
     "text": [
      "* <Catalog id=burst-catalog>\n",
      "  * <Item id=S1_SLC_20220716T115020_VV_273858_IW1>\n",
      "  * <Item id=S1_SLC_20220716T115023_VV_273859_IW1>\n",
      "  * <Item id=S1_SLC_20220716T115026_VV_273860_IW1>\n",
      "  * <Item id=S1_SLC_20220716T115028_VV_273861_IW1>\n",
      "  * <Item id=S1_SLC_20220716T115031_VV_273862_IW1>\n",
      "  * <Item id=S1_SLC_20220716T115034_VV_273863_IW1>\n",
      "  * <Item id=S1_SLC_20220716T115037_VV_273864_IW1>\n",
      "  * <Item id=S1_SLC_20220716T115039_VV_273865_IW1>\n",
      "  * <Item id=S1_SLC_20220716T115042_VV_273866_IW1>\n",
      "  * <Item id=S1_SLC_20220716T115045_VV_273867_IW1>\n",
      "  * <Item id=S1_SLC_20220716T115021_VV_273858_IW2>\n",
      "  * <Item id=S1_SLC_20220716T115024_VV_273859_IW2>\n",
      "  * <Item id=S1_SLC_20220716T115026_VV_273860_IW2>\n",
      "  * <Item id=S1_SLC_20220716T115029_VV_273861_IW2>\n",
      "  * <Item id=S1_SLC_20220716T115032_VV_273862_IW2>\n",
      "  * <Item id=S1_SLC_20220716T115035_VV_273863_IW2>\n",
      "  * <Item id=S1_SLC_20220716T115038_VV_273864_IW2>\n",
      "  * <Item id=S1_SLC_20220716T115040_VV_273865_IW2>\n",
      "  * <Item id=S1_SLC_20220716T115043_VV_273866_IW2>\n",
      "  * <Item id=S1_SLC_20220716T115046_VV_273867_IW2>\n",
      "  * <Item id=S1_SLC_20220716T115022_VV_273859_IW3>\n",
      "  * <Item id=S1_SLC_20220716T115025_VV_273860_IW3>\n",
      "  * <Item id=S1_SLC_20220716T115028_VV_273861_IW3>\n",
      "  * <Item id=S1_SLC_20220716T115030_VV_273862_IW3>\n",
      "  * <Item id=S1_SLC_20220716T115033_VV_273863_IW3>\n",
      "  * <Item id=S1_SLC_20220716T115036_VV_273864_IW3>\n",
      "  * <Item id=S1_SLC_20220716T115039_VV_273865_IW3>\n",
      "  * <Item id=S1_SLC_20220716T115041_VV_273866_IW3>\n",
      "  * <Item id=S1_SLC_20220716T115044_VV_273867_IW3>\n",
      "  * <Item id=S1_SLC_20220716T115047_VV_273868_IW3>\n"
     ]
    }
   ],
   "source": [
    "stac = bursts.generate_burst_stac_catalog([safe_url])\n",
    "stac.describe()"
   ]
  },
  {
   "cell_type": "markdown",
   "metadata": {
    "pycharm": {
     "name": "#%% md\n"
    }
   },
   "source": [
    "## Download burst data\n",
    "Using the STAC catalog, users can select an STAC item, then pass this item to `bursts.edl_download_burst_data`. The data is returned in a 2d numpy array with a complex float data type."
   ]
  },
  {
   "cell_type": "code",
   "execution_count": 10,
   "metadata": {
    "collapsed": false,
    "jupyter": {
     "outputs_hidden": false
    },
    "pycharm": {
     "name": "#%%\n"
    }
   },
   "outputs": [
    {
     "data": {
      "text/plain": [
       "{'lines': 1487,\n",
       " 'samples': 20472,\n",
       " 'byte_offset': 119275,\n",
       " 'byte_length': 121767456,\n",
       " 'stack_id': '273858_IW1',\n",
       " 'safe_url': 'https://datapool.asf.alaska.edu/SLC/SA/S1A_IW_SLC__1SDV_20220716T115019_20220716T115049_044125_054459_71A9.zip'}"
      ]
     },
     "execution_count": 10,
     "metadata": {},
     "output_type": "execute_result"
    }
   ],
   "source": [
    "item = stac.get_item('S1_SLC_20220716T115020_VV_273858_IW1')\n",
    "item.properties"
   ]
  },
  {
   "cell_type": "code",
   "execution_count": 11,
   "metadata": {
    "collapsed": false,
    "jupyter": {
     "outputs_hidden": false
    },
    "pycharm": {
     "name": "#%%\n"
    }
   },
   "outputs": [
    {
     "data": {
      "text/plain": [
       "'S1A_IW_SLC__1SDV_20220716T115019_20220716T115049_044125_054459_71A9.SAFE/measurement/s1a-iw1-slc-vv-20220716t115019-20220716t115047-044125-054459-004.tiff'"
      ]
     },
     "execution_count": 11,
     "metadata": {},
     "output_type": "execute_result"
    }
   ],
   "source": [
    "item.assets['VV'].href"
   ]
  },
  {
   "cell_type": "code",
   "execution_count": 12,
   "metadata": {
    "collapsed": false,
    "jupyter": {
     "outputs_hidden": false
    },
    "pycharm": {
     "name": "#%%\n"
    }
   },
   "outputs": [
    {
     "data": {
      "text/plain": [
       "(1487, 20472)"
      ]
     },
     "execution_count": 12,
     "metadata": {},
     "output_type": "execute_result"
    }
   ],
   "source": [
    "burst_data = bursts.edl_download_burst_data(item,'VV')\n",
    "burst_data.shape"
   ]
  },
  {
   "cell_type": "code",
   "execution_count": null,
   "metadata": {
    "collapsed": false,
    "jupyter": {
     "outputs_hidden": false
    },
    "pycharm": {
     "name": "#%%\n"
    }
   },
   "outputs": [],
   "source": []
  }
 ],
 "metadata": {
  "kernelspec": {
   "display_name": "Python 3 (ipykernel)",
   "language": "python",
   "name": "python3"
  },
  "language_info": {
   "codemirror_mode": {
    "name": "ipython",
    "version": 3
   },
   "file_extension": ".py",
   "mimetype": "text/x-python",
   "name": "python",
   "nbconvert_exporter": "python",
   "pygments_lexer": "ipython3",
   "version": "3.10.5"
  }
 },
 "nbformat": 4,
 "nbformat_minor": 4
}