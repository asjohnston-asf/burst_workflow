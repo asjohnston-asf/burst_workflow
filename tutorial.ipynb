{
 "cells": [
  {
   "cell_type": "code",
   "execution_count": null,
   "outputs": [],
   "source": [
    "from importlib import reload\n",
    "from burst_workflow import bursts\n",
    "import pystac\n",
    "import pandas as pd\n",
    "\n",
    "reload(bursts)"
   ],
   "metadata": {
    "collapsed": false,
    "pycharm": {
     "name": "#%%\n"
    }
   }
  },
  {
   "cell_type": "code",
   "execution_count": null,
   "outputs": [],
   "source": [
    "slc = '../S1A_IW_SLC__1SDV_20211229T231926_20211229T231953_041230_04E66A_3DBE.zip'\n",
    "df = pd.DataFrame()\n",
    "burst_df = bursts.update_burst_dataframe(df, slc, swath=1, polarization='vv')\n",
    "burst_df"
   ],
   "metadata": {
    "collapsed": false,
    "pycharm": {
     "name": "#%%\n"
    }
   }
  },
  {
   "cell_type": "code",
   "execution_count": null,
   "outputs": [],
   "source": [
    "stac = bursts.generate_stac_catalog(burst_df)"
   ],
   "metadata": {
    "collapsed": false,
    "pycharm": {
     "name": "#%%\n"
    }
   }
  },
  {
   "cell_type": "code",
   "execution_count": null,
   "outputs": [],
   "source": [
    "f = bursts.save_stac_catalog_locally(stac)"
   ],
   "metadata": {
    "collapsed": false,
    "pycharm": {
     "name": "#%%\n"
    }
   }
  },
  {
   "cell_type": "code",
   "execution_count": null,
   "outputs": [],
   "source": [
    "f.resolve()"
   ],
   "metadata": {
    "collapsed": false,
    "pycharm": {
     "name": "#%%\n"
    }
   }
  },
  {
   "cell_type": "code",
   "execution_count": null,
   "outputs": [],
   "source": [
    "stac.describe()"
   ],
   "metadata": {
    "collapsed": false,
    "pycharm": {
     "name": "#%%\n"
    }
   }
  },
  {
   "cell_type": "code",
   "execution_count": null,
   "outputs": [],
   "source": [
    "import os\n",
    "from http.server import HTTPServer, SimpleHTTPRequestHandler\n",
    "\n",
    "port = 5555\n",
    "os.chdir(f.parent.resolve().__str__())\n",
    "url = f'http://localhost:{port}/catalog.json'\n",
    "print(f'{url}\\n','In stac-browser run:\\n', f'npm start -- --open --CATALOG_URL=\"{url}\" ')\n",
    "\n",
    "class CORSRequestHandler(SimpleHTTPRequestHandler):\n",
    "    def end_headers(self) -> None:\n",
    "        self.send_header('Access-Control-Allow-Origin', '*')\n",
    "        self.send_header('Access-Control-Allow-Methods', 'GET')\n",
    "        self.send_header('Cache-Control', 'no-store, no-cache, must-revalidate')\n",
    "        return super(CORSRequestHandler, self).end_headers()\n",
    "\n",
    "with HTTPServer(('localhost', port), CORSRequestHandler) as httpd:\n",
    "    httpd.serve_forever()"
   ],
   "metadata": {
    "collapsed": false,
    "pycharm": {
     "name": "#%%\n"
    }
   }
  },
  {
   "cell_type": "code",
   "execution_count": null,
   "outputs": [],
   "source": [
    "cd /Users/ffwilliams2/Repositories/burst_prototype/burst_workflow"
   ],
   "metadata": {
    "collapsed": false,
    "pycharm": {
     "name": "#%%\n"
    }
   }
  },
  {
   "cell_type": "code",
   "execution_count": null,
   "outputs": [],
   "source": [
    "# For Later:\n",
    "eo_item.ext.enable(pystac.Extensions.EO)\n",
    "eo_item.ext.eo.apply(bands=wv3_bands)"
   ],
   "metadata": {
    "collapsed": false,
    "pycharm": {
     "name": "#%%\n"
    }
   }
  }
 ],
 "metadata": {
  "kernelspec": {
   "display_name": "Python 3",
   "language": "python",
   "name": "python3"
  },
  "language_info": {
   "codemirror_mode": {
    "name": "ipython",
    "version": 2
   },
   "file_extension": ".py",
   "mimetype": "text/x-python",
   "name": "python",
   "nbconvert_exporter": "python",
   "pygments_lexer": "ipython2",
   "version": "2.7.6"
  }
 },
 "nbformat": 4,
 "nbformat_minor": 0
}