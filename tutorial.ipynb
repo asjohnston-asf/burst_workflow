{
 "cells": [
  {
   "cell_type": "code",
   "execution_count": 13,
   "outputs": [
    {
     "data": {
      "text/plain": "<module 'burst_workflow.bursts' from '/Users/ffwilliams2/Repositories/burst_prototype/burst_workflow/bursts.py'>"
     },
     "execution_count": 13,
     "metadata": {},
     "output_type": "execute_result"
    }
   ],
   "source": [
    "from importlib import reload\n",
    "from burst_workflow import bursts\n",
    "import pystac\n",
    "import pandas as pd\n",
    "reload(bursts)"
   ],
   "metadata": {
    "collapsed": false,
    "pycharm": {
     "name": "#%%\n"
    }
   }
  },
  {
   "cell_type": "code",
   "execution_count": 2,
   "outputs": [
    {
     "name": "stdout",
     "output_type": "stream",
     "text": [
      "/Users/ffwilliams2/Repositories/burst_prototype/example_data\n"
     ]
    }
   ],
   "source": [
    "cd ../example_data"
   ],
   "metadata": {
    "collapsed": false,
    "pycharm": {
     "name": "#%%\n"
    }
   }
  },
  {
   "cell_type": "code",
   "execution_count": 3,
   "outputs": [
    {
     "data": {
      "text/plain": "                              absoluteID  relativeID  swath polarization  \\\n0   S1_SLC_20151208T114941_VV_273859_IW1      273859      1           vv   \n1   S1_SLC_20151208T114944_VV_273860_IW1      273860      1           vv   \n2   S1_SLC_20151208T114946_VV_273861_IW1      273861      1           vv   \n3   S1_SLC_20151208T114949_VV_273862_IW1      273862      1           vv   \n4   S1_SLC_20151208T114952_VV_273863_IW1      273863      1           vv   \n5   S1_SLC_20151208T114955_VV_273864_IW1      273864      1           vv   \n6   S1_SLC_20151208T114957_VV_273865_IW1      273865      1           vv   \n7   S1_SLC_20151208T115000_VV_273866_IW1      273866      1           vv   \n8   S1_SLC_20151208T115003_VV_273867_IW1      273867      1           vv   \n9   S1_SLC_20151208T115006_VV_273868_IW1      273868      1           vv   \n10  S1_SLC_20151208T115008_VV_273869_IW1      273869      1           vv   \n11  S1_SLC_20151208T115011_VV_273870_IW1      273870      1           vv   \n\n               date pass_direction  \\\n0   20151208T114941     Descending   \n1   20151208T114944     Descending   \n2   20151208T114946     Descending   \n3   20151208T114949     Descending   \n4   20151208T114952     Descending   \n5   20151208T114955     Descending   \n6   20151208T114957     Descending   \n7   20151208T115000     Descending   \n8   20151208T115003     Descending   \n9   20151208T115006     Descending   \n10  20151208T115008     Descending   \n11  20151208T115011     Descending   \n\n                                           annotation  \\\n0   S1A_IW_SLC__1SSV_20151208T114941_20151208T1150...   \n1   S1A_IW_SLC__1SSV_20151208T114941_20151208T1150...   \n2   S1A_IW_SLC__1SSV_20151208T114941_20151208T1150...   \n3   S1A_IW_SLC__1SSV_20151208T114941_20151208T1150...   \n4   S1A_IW_SLC__1SSV_20151208T114941_20151208T1150...   \n5   S1A_IW_SLC__1SSV_20151208T114941_20151208T1150...   \n6   S1A_IW_SLC__1SSV_20151208T114941_20151208T1150...   \n7   S1A_IW_SLC__1SSV_20151208T114941_20151208T1150...   \n8   S1A_IW_SLC__1SSV_20151208T114941_20151208T1150...   \n9   S1A_IW_SLC__1SSV_20151208T114941_20151208T1150...   \n10  S1A_IW_SLC__1SSV_20151208T114941_20151208T1150...   \n11  S1A_IW_SLC__1SSV_20151208T114941_20151208T1150...   \n\n                                          measurement  longitude  latitude  \\\n0   S1A_IW_SLC__1SSV_20151208T114941_20151208T1150... -90.875643  0.812758   \n1   S1A_IW_SLC__1SSV_20151208T114941_20151208T1150... -90.910556  0.645977   \n2   S1A_IW_SLC__1SSV_20151208T114941_20151208T1150... -90.945455  0.479385   \n3   S1A_IW_SLC__1SSV_20151208T114941_20151208T1150... -90.980407  0.312671   \n4   S1A_IW_SLC__1SSV_20151208T114941_20151208T1150... -91.015464  0.145586   \n5   S1A_IW_SLC__1SSV_20151208T114941_20151208T1150... -91.050521 -0.021372   \n6   S1A_IW_SLC__1SSV_20151208T114941_20151208T1150... -91.085567 -0.188140   \n7   S1A_IW_SLC__1SSV_20151208T114941_20151208T1150... -91.120615 -0.354781   \n8   S1A_IW_SLC__1SSV_20151208T114941_20151208T1150... -91.155704 -0.521482   \n9   S1A_IW_SLC__1SSV_20151208T114941_20151208T1150... -91.190848 -0.688305   \n10  S1A_IW_SLC__1SSV_20151208T114941_20151208T1150... -91.225916 -0.854627   \n11  S1A_IW_SLC__1SSV_20151208T114941_20151208T1150... -91.241175 -0.938110   \n\n                                             geometry  lines  samples  \\\n0   POLYGON ((-90.48049619041907 0.815441239601974...   1487    20473   \n1   POLYGON ((-90.51541789826572 0.6484604633983, ...   1487    20473   \n2   POLYGON ((-90.55030972169011 0.481730319191587...   1487    20473   \n3   POLYGON ((-90.58519794402078 0.315126779162864...   1487    20473   \n4   POLYGON ((-90.62018723387152 0.148152178048328...   1487    20473   \n5   POLYGON ((-90.65527819816886 -0.01919369315353...   1487    20473   \n6   POLYGON ((-90.6902623281414 -0.185914793366226...   1487    20473   \n7   POLYGON ((-90.72532284357422 -0.35288271633123...   1487    20473   \n8   POLYGON ((-90.76030323792682 -0.51935046751119...   1487    20473   \n9   POLYGON ((-90.79543930537002 -0.68643808695673...   1487    20473   \n10  POLYGON ((-90.83052208631005 -0.85314965368326...   1487    20473   \n11  POLYGON ((-90.86549947990794 -1.01923675771995...   1487    20473   \n\n    byte_offset  byte_length  \n0        143067    121773404  \n1     121916471    121773404  \n2     243689875    121773404  \n3     365463279    121773404  \n4     487236683    121773404  \n5     609010087    121773404  \n6     730783491    121773404  \n7     852556895    121773404  \n8     974330299    121773404  \n9    1096103703    121773404  \n10   1217877107    121773404  \n11   1339650511    121773404  ",
      "text/html": "<div>\n<style scoped>\n    .dataframe tbody tr th:only-of-type {\n        vertical-align: middle;\n    }\n\n    .dataframe tbody tr th {\n        vertical-align: top;\n    }\n\n    .dataframe thead th {\n        text-align: right;\n    }\n</style>\n<table border=\"1\" class=\"dataframe\">\n  <thead>\n    <tr style=\"text-align: right;\">\n      <th></th>\n      <th>absoluteID</th>\n      <th>relativeID</th>\n      <th>swath</th>\n      <th>polarization</th>\n      <th>date</th>\n      <th>pass_direction</th>\n      <th>annotation</th>\n      <th>measurement</th>\n      <th>longitude</th>\n      <th>latitude</th>\n      <th>geometry</th>\n      <th>lines</th>\n      <th>samples</th>\n      <th>byte_offset</th>\n      <th>byte_length</th>\n    </tr>\n  </thead>\n  <tbody>\n    <tr>\n      <th>0</th>\n      <td>S1_SLC_20151208T114941_VV_273859_IW1</td>\n      <td>273859</td>\n      <td>1</td>\n      <td>vv</td>\n      <td>20151208T114941</td>\n      <td>Descending</td>\n      <td>S1A_IW_SLC__1SSV_20151208T114941_20151208T1150...</td>\n      <td>S1A_IW_SLC__1SSV_20151208T114941_20151208T1150...</td>\n      <td>-90.875643</td>\n      <td>0.812758</td>\n      <td>POLYGON ((-90.48049619041907 0.815441239601974...</td>\n      <td>1487</td>\n      <td>20473</td>\n      <td>143067</td>\n      <td>121773404</td>\n    </tr>\n    <tr>\n      <th>1</th>\n      <td>S1_SLC_20151208T114944_VV_273860_IW1</td>\n      <td>273860</td>\n      <td>1</td>\n      <td>vv</td>\n      <td>20151208T114944</td>\n      <td>Descending</td>\n      <td>S1A_IW_SLC__1SSV_20151208T114941_20151208T1150...</td>\n      <td>S1A_IW_SLC__1SSV_20151208T114941_20151208T1150...</td>\n      <td>-90.910556</td>\n      <td>0.645977</td>\n      <td>POLYGON ((-90.51541789826572 0.6484604633983, ...</td>\n      <td>1487</td>\n      <td>20473</td>\n      <td>121916471</td>\n      <td>121773404</td>\n    </tr>\n    <tr>\n      <th>2</th>\n      <td>S1_SLC_20151208T114946_VV_273861_IW1</td>\n      <td>273861</td>\n      <td>1</td>\n      <td>vv</td>\n      <td>20151208T114946</td>\n      <td>Descending</td>\n      <td>S1A_IW_SLC__1SSV_20151208T114941_20151208T1150...</td>\n      <td>S1A_IW_SLC__1SSV_20151208T114941_20151208T1150...</td>\n      <td>-90.945455</td>\n      <td>0.479385</td>\n      <td>POLYGON ((-90.55030972169011 0.481730319191587...</td>\n      <td>1487</td>\n      <td>20473</td>\n      <td>243689875</td>\n      <td>121773404</td>\n    </tr>\n    <tr>\n      <th>3</th>\n      <td>S1_SLC_20151208T114949_VV_273862_IW1</td>\n      <td>273862</td>\n      <td>1</td>\n      <td>vv</td>\n      <td>20151208T114949</td>\n      <td>Descending</td>\n      <td>S1A_IW_SLC__1SSV_20151208T114941_20151208T1150...</td>\n      <td>S1A_IW_SLC__1SSV_20151208T114941_20151208T1150...</td>\n      <td>-90.980407</td>\n      <td>0.312671</td>\n      <td>POLYGON ((-90.58519794402078 0.315126779162864...</td>\n      <td>1487</td>\n      <td>20473</td>\n      <td>365463279</td>\n      <td>121773404</td>\n    </tr>\n    <tr>\n      <th>4</th>\n      <td>S1_SLC_20151208T114952_VV_273863_IW1</td>\n      <td>273863</td>\n      <td>1</td>\n      <td>vv</td>\n      <td>20151208T114952</td>\n      <td>Descending</td>\n      <td>S1A_IW_SLC__1SSV_20151208T114941_20151208T1150...</td>\n      <td>S1A_IW_SLC__1SSV_20151208T114941_20151208T1150...</td>\n      <td>-91.015464</td>\n      <td>0.145586</td>\n      <td>POLYGON ((-90.62018723387152 0.148152178048328...</td>\n      <td>1487</td>\n      <td>20473</td>\n      <td>487236683</td>\n      <td>121773404</td>\n    </tr>\n    <tr>\n      <th>5</th>\n      <td>S1_SLC_20151208T114955_VV_273864_IW1</td>\n      <td>273864</td>\n      <td>1</td>\n      <td>vv</td>\n      <td>20151208T114955</td>\n      <td>Descending</td>\n      <td>S1A_IW_SLC__1SSV_20151208T114941_20151208T1150...</td>\n      <td>S1A_IW_SLC__1SSV_20151208T114941_20151208T1150...</td>\n      <td>-91.050521</td>\n      <td>-0.021372</td>\n      <td>POLYGON ((-90.65527819816886 -0.01919369315353...</td>\n      <td>1487</td>\n      <td>20473</td>\n      <td>609010087</td>\n      <td>121773404</td>\n    </tr>\n    <tr>\n      <th>6</th>\n      <td>S1_SLC_20151208T114957_VV_273865_IW1</td>\n      <td>273865</td>\n      <td>1</td>\n      <td>vv</td>\n      <td>20151208T114957</td>\n      <td>Descending</td>\n      <td>S1A_IW_SLC__1SSV_20151208T114941_20151208T1150...</td>\n      <td>S1A_IW_SLC__1SSV_20151208T114941_20151208T1150...</td>\n      <td>-91.085567</td>\n      <td>-0.188140</td>\n      <td>POLYGON ((-90.6902623281414 -0.185914793366226...</td>\n      <td>1487</td>\n      <td>20473</td>\n      <td>730783491</td>\n      <td>121773404</td>\n    </tr>\n    <tr>\n      <th>7</th>\n      <td>S1_SLC_20151208T115000_VV_273866_IW1</td>\n      <td>273866</td>\n      <td>1</td>\n      <td>vv</td>\n      <td>20151208T115000</td>\n      <td>Descending</td>\n      <td>S1A_IW_SLC__1SSV_20151208T114941_20151208T1150...</td>\n      <td>S1A_IW_SLC__1SSV_20151208T114941_20151208T1150...</td>\n      <td>-91.120615</td>\n      <td>-0.354781</td>\n      <td>POLYGON ((-90.72532284357422 -0.35288271633123...</td>\n      <td>1487</td>\n      <td>20473</td>\n      <td>852556895</td>\n      <td>121773404</td>\n    </tr>\n    <tr>\n      <th>8</th>\n      <td>S1_SLC_20151208T115003_VV_273867_IW1</td>\n      <td>273867</td>\n      <td>1</td>\n      <td>vv</td>\n      <td>20151208T115003</td>\n      <td>Descending</td>\n      <td>S1A_IW_SLC__1SSV_20151208T114941_20151208T1150...</td>\n      <td>S1A_IW_SLC__1SSV_20151208T114941_20151208T1150...</td>\n      <td>-91.155704</td>\n      <td>-0.521482</td>\n      <td>POLYGON ((-90.76030323792682 -0.51935046751119...</td>\n      <td>1487</td>\n      <td>20473</td>\n      <td>974330299</td>\n      <td>121773404</td>\n    </tr>\n    <tr>\n      <th>9</th>\n      <td>S1_SLC_20151208T115006_VV_273868_IW1</td>\n      <td>273868</td>\n      <td>1</td>\n      <td>vv</td>\n      <td>20151208T115006</td>\n      <td>Descending</td>\n      <td>S1A_IW_SLC__1SSV_20151208T114941_20151208T1150...</td>\n      <td>S1A_IW_SLC__1SSV_20151208T114941_20151208T1150...</td>\n      <td>-91.190848</td>\n      <td>-0.688305</td>\n      <td>POLYGON ((-90.79543930537002 -0.68643808695673...</td>\n      <td>1487</td>\n      <td>20473</td>\n      <td>1096103703</td>\n      <td>121773404</td>\n    </tr>\n    <tr>\n      <th>10</th>\n      <td>S1_SLC_20151208T115008_VV_273869_IW1</td>\n      <td>273869</td>\n      <td>1</td>\n      <td>vv</td>\n      <td>20151208T115008</td>\n      <td>Descending</td>\n      <td>S1A_IW_SLC__1SSV_20151208T114941_20151208T1150...</td>\n      <td>S1A_IW_SLC__1SSV_20151208T114941_20151208T1150...</td>\n      <td>-91.225916</td>\n      <td>-0.854627</td>\n      <td>POLYGON ((-90.83052208631005 -0.85314965368326...</td>\n      <td>1487</td>\n      <td>20473</td>\n      <td>1217877107</td>\n      <td>121773404</td>\n    </tr>\n    <tr>\n      <th>11</th>\n      <td>S1_SLC_20151208T115011_VV_273870_IW1</td>\n      <td>273870</td>\n      <td>1</td>\n      <td>vv</td>\n      <td>20151208T115011</td>\n      <td>Descending</td>\n      <td>S1A_IW_SLC__1SSV_20151208T114941_20151208T1150...</td>\n      <td>S1A_IW_SLC__1SSV_20151208T114941_20151208T1150...</td>\n      <td>-91.241175</td>\n      <td>-0.938110</td>\n      <td>POLYGON ((-90.86549947990794 -1.01923675771995...</td>\n      <td>1487</td>\n      <td>20473</td>\n      <td>1339650511</td>\n      <td>121773404</td>\n    </tr>\n  </tbody>\n</table>\n</div>"
     },
     "execution_count": 3,
     "metadata": {},
     "output_type": "execute_result"
    }
   ],
   "source": [
    "slc = 'S1A_IW_SLC__1SSV_20151208T114941_20151208T115016_008950_00CD2C_58F9.zip'\n",
    "df = pd.DataFrame()\n",
    "burst_df = bursts.update_burst_dataframe(df, slc, swath=1, polarization='vv')\n",
    "burst_df"
   ],
   "metadata": {
    "collapsed": false,
    "pycharm": {
     "name": "#%%\n"
    }
   }
  },
  {
   "cell_type": "code",
   "execution_count": 4,
   "outputs": [],
   "source": [
    "stac = bursts.generate_stac_catalog(burst_df)"
   ],
   "metadata": {
    "collapsed": false,
    "pycharm": {
     "name": "#%%\n"
    }
   }
  },
  {
   "cell_type": "code",
   "execution_count": 5,
   "outputs": [],
   "source": [
    "stac_file = bursts.save_stac_catalog_locally(stac)"
   ],
   "metadata": {
    "collapsed": false,
    "pycharm": {
     "name": "#%%\n"
    }
   }
  },
  {
   "cell_type": "code",
   "execution_count": 6,
   "outputs": [
    {
     "name": "stdout",
     "output_type": "stream",
     "text": [
      "* <Catalog id=burst-catalog>\n",
      "  * <Item id=S1_SLC_20151208T114941_VV_273859_IW1>\n",
      "  * <Item id=S1_SLC_20151208T114944_VV_273860_IW1>\n",
      "  * <Item id=S1_SLC_20151208T114946_VV_273861_IW1>\n",
      "  * <Item id=S1_SLC_20151208T114949_VV_273862_IW1>\n",
      "  * <Item id=S1_SLC_20151208T114952_VV_273863_IW1>\n",
      "  * <Item id=S1_SLC_20151208T114955_VV_273864_IW1>\n",
      "  * <Item id=S1_SLC_20151208T114957_VV_273865_IW1>\n",
      "  * <Item id=S1_SLC_20151208T115000_VV_273866_IW1>\n",
      "  * <Item id=S1_SLC_20151208T115003_VV_273867_IW1>\n",
      "  * <Item id=S1_SLC_20151208T115006_VV_273868_IW1>\n",
      "  * <Item id=S1_SLC_20151208T115008_VV_273869_IW1>\n",
      "  * <Item id=S1_SLC_20151208T115011_VV_273870_IW1>\n"
     ]
    }
   ],
   "source": [
    "stac.describe()"
   ],
   "metadata": {
    "collapsed": false,
    "pycharm": {
     "name": "#%%\n"
    }
   }
  },
  {
   "cell_type": "code",
   "execution_count": 7,
   "outputs": [],
   "source": [
    "# bursts.initiate_stac_catalog_server(5555,stac_file.parent)"
   ],
   "metadata": {
    "collapsed": false,
    "pycharm": {
     "name": "#%%\n"
    }
   }
  },
  {
   "cell_type": "code",
   "execution_count": 8,
   "outputs": [],
   "source": [
    "stac = pystac.Catalog.from_file(stac_file.__str__())"
   ],
   "metadata": {
    "collapsed": false,
    "pycharm": {
     "name": "#%%\n"
    }
   }
  },
  {
   "cell_type": "code",
   "execution_count": 9,
   "outputs": [
    {
     "name": "stdout",
     "output_type": "stream",
     "text": [
      "* <Catalog id=burst-catalog>\n",
      "  * <Item id=S1_SLC_20151208T114941_VV_273859_IW1>\n",
      "  * <Item id=S1_SLC_20151208T114944_VV_273860_IW1>\n",
      "  * <Item id=S1_SLC_20151208T114946_VV_273861_IW1>\n",
      "  * <Item id=S1_SLC_20151208T114949_VV_273862_IW1>\n",
      "  * <Item id=S1_SLC_20151208T114952_VV_273863_IW1>\n",
      "  * <Item id=S1_SLC_20151208T114955_VV_273864_IW1>\n",
      "  * <Item id=S1_SLC_20151208T114957_VV_273865_IW1>\n",
      "  * <Item id=S1_SLC_20151208T115000_VV_273866_IW1>\n",
      "  * <Item id=S1_SLC_20151208T115003_VV_273867_IW1>\n",
      "  * <Item id=S1_SLC_20151208T115006_VV_273868_IW1>\n",
      "  * <Item id=S1_SLC_20151208T115008_VV_273869_IW1>\n",
      "  * <Item id=S1_SLC_20151208T115011_VV_273870_IW1>\n"
     ]
    }
   ],
   "source": [
    "stac.describe()"
   ],
   "metadata": {
    "collapsed": false,
    "pycharm": {
     "name": "#%%\n"
    }
   }
  },
  {
   "cell_type": "code",
   "execution_count": 10,
   "outputs": [],
   "source": [
    "item = stac.get_item('S1_SLC_20151208T114941_VV_273859_IW1', recursive=True)"
   ],
   "metadata": {
    "collapsed": false,
    "pycharm": {
     "name": "#%%\n"
    }
   }
  },
  {
   "cell_type": "code",
   "execution_count": 11,
   "outputs": [
    {
     "data": {
      "text/plain": "{'lines': 1487,\n 'samples': 20473,\n 'byte_offset': 143067,\n 'byte_length': 121773404,\n 'datetime': '2015-12-08T11:49:41Z'}"
     },
     "execution_count": 11,
     "metadata": {},
     "output_type": "execute_result"
    }
   ],
   "source": [
    "item.properties"
   ],
   "metadata": {
    "collapsed": false,
    "pycharm": {
     "name": "#%%\n"
    }
   }
  },
  {
   "cell_type": "code",
   "execution_count": 14,
   "outputs": [],
   "source": [
    "burst_arr = bursts.read_local_burst(item)"
   ],
   "metadata": {
    "collapsed": false,
    "pycharm": {
     "name": "#%%\n"
    }
   }
  },
  {
   "cell_type": "code",
   "execution_count": 15,
   "outputs": [
    {
     "data": {
      "text/plain": "(1487, 20473)"
     },
     "execution_count": 15,
     "metadata": {},
     "output_type": "execute_result"
    }
   ],
   "source": [
    "burst_arr.shape"
   ],
   "metadata": {
    "collapsed": false,
    "pycharm": {
     "name": "#%%\n"
    }
   }
  },
  {
   "cell_type": "code",
   "execution_count": null,
   "outputs": [],
   "source": [
    "# For Later:\n",
    "eo_item.ext.enable(pystac.Extensions.EO)\n",
    "eo_item.ext.eo.apply(bands=wv3_bands)"
   ],
   "metadata": {
    "collapsed": false,
    "pycharm": {
     "name": "#%%\n"
    }
   }
  }
 ],
 "metadata": {
  "kernelspec": {
   "display_name": "Python 3",
   "language": "python",
   "name": "python3"
  },
  "language_info": {
   "codemirror_mode": {
    "name": "ipython",
    "version": 2
   },
   "file_extension": ".py",
   "mimetype": "text/x-python",
   "name": "python",
   "nbconvert_exporter": "python",
   "pygments_lexer": "ipython2",
   "version": "2.7.6"
  }
 },
 "nbformat": 4,
 "nbformat_minor": 0
}